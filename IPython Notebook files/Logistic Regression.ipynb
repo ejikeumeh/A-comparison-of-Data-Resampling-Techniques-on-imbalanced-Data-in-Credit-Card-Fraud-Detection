{
 "cells": [
  {
   "cell_type": "markdown",
   "id": "07d1842c",
   "metadata": {},
   "source": [
    "# Application of Machine Learning Techniques in Credit Card Fraud Detection"
   ]
  },
  {
   "cell_type": "markdown",
   "id": "3f7ade5b",
   "metadata": {},
   "source": [
    "> **Logistic Regression**"
   ]
  },
  {
   "cell_type": "markdown",
   "id": "29c68f53",
   "metadata": {},
   "source": [
    "This model along with the other selected models is used for binary classification, where the output prediction can only take one of two possible values for example 1 or 0, true or false and in this case fraudulent or no fraud. It is one of the most popular algorithms, and uses a logistic function also called the sigmoid function. Inputted values (x) are combined linearly using weights or coefficient values to predict an output value (y). "
   ]
  },
  {
   "cell_type": "code",
   "execution_count": 2,
   "id": "c0f419fd",
   "metadata": {},
   "outputs": [
    {
     "name": "stdout",
     "output_type": "stream",
     "text": [
      "All libraries imported\n"
     ]
    }
   ],
   "source": [
    "import numpy as np\n",
    "import pandas as pd\n",
    "import matplotlib.pyplot as plt\n",
    "import seaborn as sns\n",
    "%matplotlib inline\n",
    "from sklearn.datasets import load_iris \n",
    "import warnings\n",
    "warnings.filterwarnings('ignore')\n",
    "from collections import Counter\n",
    "print('All libraries imported')"
   ]
  },
  {
   "cell_type": "code",
   "execution_count": 3,
   "id": "1ac343e7",
   "metadata": {},
   "outputs": [],
   "source": [
    "from pandas_profiling import ProfileReport"
   ]
  },
  {
   "cell_type": "code",
   "execution_count": 4,
   "id": "de482fd0",
   "metadata": {},
   "outputs": [],
   "source": [
    "data = pd.read_csv('creditcard.csv')"
   ]
  },
  {
   "cell_type": "code",
   "execution_count": 1,
   "id": "1333bb6f",
   "metadata": {},
   "outputs": [],
   "source": [
    "#ProfileReport(data, title=\"Pandas Profiling Report\")"
   ]
  },
  {
   "cell_type": "code",
   "execution_count": 15,
   "id": "20efcde9",
   "metadata": {},
   "outputs": [
    {
     "data": {
      "text/plain": [
       "(284807, 31)"
      ]
     },
     "execution_count": 15,
     "metadata": {},
     "output_type": "execute_result"
    }
   ],
   "source": [
    "data.shape"
   ]
  },
  {
   "cell_type": "code",
   "execution_count": 16,
   "id": "e7bec1bd",
   "metadata": {},
   "outputs": [
    {
     "data": {
      "text/html": [
       "<div>\n",
       "<style scoped>\n",
       "    .dataframe tbody tr th:only-of-type {\n",
       "        vertical-align: middle;\n",
       "    }\n",
       "\n",
       "    .dataframe tbody tr th {\n",
       "        vertical-align: top;\n",
       "    }\n",
       "\n",
       "    .dataframe thead th {\n",
       "        text-align: right;\n",
       "    }\n",
       "</style>\n",
       "<table border=\"1\" class=\"dataframe\">\n",
       "  <thead>\n",
       "    <tr style=\"text-align: right;\">\n",
       "      <th></th>\n",
       "      <th>Time</th>\n",
       "      <th>V1</th>\n",
       "      <th>V2</th>\n",
       "      <th>V3</th>\n",
       "      <th>V4</th>\n",
       "      <th>V5</th>\n",
       "      <th>V6</th>\n",
       "      <th>V7</th>\n",
       "      <th>V8</th>\n",
       "      <th>V9</th>\n",
       "      <th>...</th>\n",
       "      <th>V21</th>\n",
       "      <th>V22</th>\n",
       "      <th>V23</th>\n",
       "      <th>V24</th>\n",
       "      <th>V25</th>\n",
       "      <th>V26</th>\n",
       "      <th>V27</th>\n",
       "      <th>V28</th>\n",
       "      <th>Amount</th>\n",
       "      <th>Class</th>\n",
       "    </tr>\n",
       "  </thead>\n",
       "  <tbody>\n",
       "    <tr>\n",
       "      <th>0</th>\n",
       "      <td>0.0</td>\n",
       "      <td>-1.359807</td>\n",
       "      <td>-0.072781</td>\n",
       "      <td>2.536347</td>\n",
       "      <td>1.378155</td>\n",
       "      <td>-0.338321</td>\n",
       "      <td>0.462388</td>\n",
       "      <td>0.239599</td>\n",
       "      <td>0.098698</td>\n",
       "      <td>0.363787</td>\n",
       "      <td>...</td>\n",
       "      <td>-0.018307</td>\n",
       "      <td>0.277838</td>\n",
       "      <td>-0.110474</td>\n",
       "      <td>0.066928</td>\n",
       "      <td>0.128539</td>\n",
       "      <td>-0.189115</td>\n",
       "      <td>0.133558</td>\n",
       "      <td>-0.021053</td>\n",
       "      <td>149.62</td>\n",
       "      <td>0</td>\n",
       "    </tr>\n",
       "    <tr>\n",
       "      <th>1</th>\n",
       "      <td>0.0</td>\n",
       "      <td>1.191857</td>\n",
       "      <td>0.266151</td>\n",
       "      <td>0.166480</td>\n",
       "      <td>0.448154</td>\n",
       "      <td>0.060018</td>\n",
       "      <td>-0.082361</td>\n",
       "      <td>-0.078803</td>\n",
       "      <td>0.085102</td>\n",
       "      <td>-0.255425</td>\n",
       "      <td>...</td>\n",
       "      <td>-0.225775</td>\n",
       "      <td>-0.638672</td>\n",
       "      <td>0.101288</td>\n",
       "      <td>-0.339846</td>\n",
       "      <td>0.167170</td>\n",
       "      <td>0.125895</td>\n",
       "      <td>-0.008983</td>\n",
       "      <td>0.014724</td>\n",
       "      <td>2.69</td>\n",
       "      <td>0</td>\n",
       "    </tr>\n",
       "    <tr>\n",
       "      <th>2</th>\n",
       "      <td>1.0</td>\n",
       "      <td>-1.358354</td>\n",
       "      <td>-1.340163</td>\n",
       "      <td>1.773209</td>\n",
       "      <td>0.379780</td>\n",
       "      <td>-0.503198</td>\n",
       "      <td>1.800499</td>\n",
       "      <td>0.791461</td>\n",
       "      <td>0.247676</td>\n",
       "      <td>-1.514654</td>\n",
       "      <td>...</td>\n",
       "      <td>0.247998</td>\n",
       "      <td>0.771679</td>\n",
       "      <td>0.909412</td>\n",
       "      <td>-0.689281</td>\n",
       "      <td>-0.327642</td>\n",
       "      <td>-0.139097</td>\n",
       "      <td>-0.055353</td>\n",
       "      <td>-0.059752</td>\n",
       "      <td>378.66</td>\n",
       "      <td>0</td>\n",
       "    </tr>\n",
       "    <tr>\n",
       "      <th>3</th>\n",
       "      <td>1.0</td>\n",
       "      <td>-0.966272</td>\n",
       "      <td>-0.185226</td>\n",
       "      <td>1.792993</td>\n",
       "      <td>-0.863291</td>\n",
       "      <td>-0.010309</td>\n",
       "      <td>1.247203</td>\n",
       "      <td>0.237609</td>\n",
       "      <td>0.377436</td>\n",
       "      <td>-1.387024</td>\n",
       "      <td>...</td>\n",
       "      <td>-0.108300</td>\n",
       "      <td>0.005274</td>\n",
       "      <td>-0.190321</td>\n",
       "      <td>-1.175575</td>\n",
       "      <td>0.647376</td>\n",
       "      <td>-0.221929</td>\n",
       "      <td>0.062723</td>\n",
       "      <td>0.061458</td>\n",
       "      <td>123.50</td>\n",
       "      <td>0</td>\n",
       "    </tr>\n",
       "    <tr>\n",
       "      <th>4</th>\n",
       "      <td>2.0</td>\n",
       "      <td>-1.158233</td>\n",
       "      <td>0.877737</td>\n",
       "      <td>1.548718</td>\n",
       "      <td>0.403034</td>\n",
       "      <td>-0.407193</td>\n",
       "      <td>0.095921</td>\n",
       "      <td>0.592941</td>\n",
       "      <td>-0.270533</td>\n",
       "      <td>0.817739</td>\n",
       "      <td>...</td>\n",
       "      <td>-0.009431</td>\n",
       "      <td>0.798278</td>\n",
       "      <td>-0.137458</td>\n",
       "      <td>0.141267</td>\n",
       "      <td>-0.206010</td>\n",
       "      <td>0.502292</td>\n",
       "      <td>0.219422</td>\n",
       "      <td>0.215153</td>\n",
       "      <td>69.99</td>\n",
       "      <td>0</td>\n",
       "    </tr>\n",
       "  </tbody>\n",
       "</table>\n",
       "<p>5 rows × 31 columns</p>\n",
       "</div>"
      ],
      "text/plain": [
       "   Time        V1        V2        V3        V4        V5        V6        V7  \\\n",
       "0   0.0 -1.359807 -0.072781  2.536347  1.378155 -0.338321  0.462388  0.239599   \n",
       "1   0.0  1.191857  0.266151  0.166480  0.448154  0.060018 -0.082361 -0.078803   \n",
       "2   1.0 -1.358354 -1.340163  1.773209  0.379780 -0.503198  1.800499  0.791461   \n",
       "3   1.0 -0.966272 -0.185226  1.792993 -0.863291 -0.010309  1.247203  0.237609   \n",
       "4   2.0 -1.158233  0.877737  1.548718  0.403034 -0.407193  0.095921  0.592941   \n",
       "\n",
       "         V8        V9  ...       V21       V22       V23       V24       V25  \\\n",
       "0  0.098698  0.363787  ... -0.018307  0.277838 -0.110474  0.066928  0.128539   \n",
       "1  0.085102 -0.255425  ... -0.225775 -0.638672  0.101288 -0.339846  0.167170   \n",
       "2  0.247676 -1.514654  ...  0.247998  0.771679  0.909412 -0.689281 -0.327642   \n",
       "3  0.377436 -1.387024  ... -0.108300  0.005274 -0.190321 -1.175575  0.647376   \n",
       "4 -0.270533  0.817739  ... -0.009431  0.798278 -0.137458  0.141267 -0.206010   \n",
       "\n",
       "        V26       V27       V28  Amount  Class  \n",
       "0 -0.189115  0.133558 -0.021053  149.62      0  \n",
       "1  0.125895 -0.008983  0.014724    2.69      0  \n",
       "2 -0.139097 -0.055353 -0.059752  378.66      0  \n",
       "3 -0.221929  0.062723  0.061458  123.50      0  \n",
       "4  0.502292  0.219422  0.215153   69.99      0  \n",
       "\n",
       "[5 rows x 31 columns]"
      ]
     },
     "execution_count": 16,
     "metadata": {},
     "output_type": "execute_result"
    }
   ],
   "source": [
    "data.head()"
   ]
  },
  {
   "cell_type": "code",
   "execution_count": 17,
   "id": "2d3eb1dc",
   "metadata": {},
   "outputs": [
    {
     "data": {
      "text/plain": [
       "Time      0\n",
       "V1        0\n",
       "V2        0\n",
       "V3        0\n",
       "V4        0\n",
       "V5        0\n",
       "V6        0\n",
       "V7        0\n",
       "V8        0\n",
       "V9        0\n",
       "V10       0\n",
       "V11       0\n",
       "V12       0\n",
       "V13       0\n",
       "V14       0\n",
       "V15       0\n",
       "V16       0\n",
       "V17       0\n",
       "V18       0\n",
       "V19       0\n",
       "V20       0\n",
       "V21       0\n",
       "V22       0\n",
       "V23       0\n",
       "V24       0\n",
       "V25       0\n",
       "V26       0\n",
       "V27       0\n",
       "V28       0\n",
       "Amount    0\n",
       "Class     0\n",
       "dtype: int64"
      ]
     },
     "execution_count": 17,
     "metadata": {},
     "output_type": "execute_result"
    }
   ],
   "source": [
    "data.isnull().sum()"
   ]
  },
  {
   "cell_type": "code",
   "execution_count": 18,
   "id": "f464b2b8",
   "metadata": {},
   "outputs": [
    {
     "data": {
      "image/png": "[encoded data removed]",
      "text/plain": [
       "<Figure size 432x288 with 1 Axes>"
      ]
     },
     "metadata": {
      "needs_background": "light"
     },
     "output_type": "display_data"
    }
   ],
   "source": [
    "g = sns.countplot(data['Class'])\n",
    "g.set_xticklabels(['Not Fraud','Fraud'])\n",
    "plt.show()"
   ]
  },
  {
   "cell_type": "code",
   "execution_count": 19,
   "id": "a5109a16",
   "metadata": {},
   "outputs": [
    {
     "data": {
      "text/plain": [
       "0    284315\n",
       "1       492\n",
       "Name: Class, dtype: int64"
      ]
     },
     "execution_count": 19,
     "metadata": {},
     "output_type": "execute_result"
    }
   ],
   "source": [
    "data.Class.value_counts()"
   ]
  },
  {
   "cell_type": "markdown",
   "id": "d83cd041",
   "metadata": {},
   "source": [
    "Out of 284807 cases, there are 492 cases of fruad in this data set\n",
    "Which is 0.17%"
   ]
  },
  {
   "cell_type": "code",
   "execution_count": 20,
   "id": "2c77c05e",
   "metadata": {},
   "outputs": [
    {
     "data": {
      "image/png": "[encoded data removed]",
      "text/plain": [
       "<Figure size 432x288 with 2 Axes>"
      ]
     },
     "metadata": {
      "needs_background": "light"
     },
     "output_type": "display_data"
    }
   ],
   "source": [
    "sns.heatmap(data.corr(), annot = False)\n",
    "plt.show()"
   ]
  },
  {
   "cell_type": "code",
   "execution_count": 21,
   "id": "1be5e835",
   "metadata": {},
   "outputs": [
    {
     "name": "stdout",
     "output_type": "stream",
     "text": [
      "Most Positive Correlations: \n",
      " V19      0.034783\n",
      "V21      0.040413\n",
      "V2       0.091289\n",
      "V4       0.133447\n",
      "V11      0.154876\n",
      "Class    1.000000\n",
      "Name: Class, dtype: float64\n",
      "\n",
      "Most Negative Correlations: \n",
      " V17   -0.326481\n",
      "V14   -0.302544\n",
      "V12   -0.260593\n",
      "V10   -0.216883\n",
      "V16   -0.196539\n",
      "V3    -0.192961\n",
      "Name: Class, dtype: float64\n"
     ]
    }
   ],
   "source": [
    "correlations = data.corr()['Class'].sort_values()\n",
    "print('Most Positive Correlations: \\n', correlations.tail(6))\n",
    "print('\\nMost Negative Correlations: \\n', correlations.head(6))"
   ]
  },
  {
   "cell_type": "markdown",
   "id": "d2db7dca",
   "metadata": {},
   "source": [
    "# Data Pre-processing"
   ]
  },
  {
   "cell_type": "markdown",
   "id": "673bedfe",
   "metadata": {},
   "source": [
    "## Data Standardization"
   ]
  },
  {
   "cell_type": "markdown",
   "id": "5b554235",
   "metadata": {},
   "source": [
    "Standardizing the features refers to rescaling the features so that they will have the properties of\n",
    "a standard normal distribution with a mean of 0 and standard deviation of 1. I performed standardization on the 'Amount' feature using\n",
    "StandardScalar in the scikit-learn library."
   ]
  },
  {
   "cell_type": "markdown",
   "id": "052c9f70",
   "metadata": {},
   "source": [
    "### Before standardization"
   ]
  },
  {
   "cell_type": "code",
   "execution_count": 22,
   "id": "96a6a79f",
   "metadata": {},
   "outputs": [
    {
     "data": {
      "text/plain": [
       "0         149.62\n",
       "1           2.69\n",
       "2         378.66\n",
       "3         123.50\n",
       "4          69.99\n",
       "           ...  \n",
       "284802      0.77\n",
       "284803     24.79\n",
       "284804     67.88\n",
       "284805     10.00\n",
       "284806    217.00\n",
       "Name: Amount, Length: 284807, dtype: float64"
      ]
     },
     "execution_count": 22,
     "metadata": {},
     "output_type": "execute_result"
    }
   ],
   "source": [
    "data['Amount']"
   ]
  },
  {
   "cell_type": "code",
   "execution_count": 23,
   "id": "0f8b1a58",
   "metadata": {},
   "outputs": [],
   "source": [
    "from sklearn.preprocessing import StandardScaler\n",
    "data[['Amount']] = StandardScaler().fit_transform(data[['Amount']])"
   ]
  },
  {
   "cell_type": "markdown",
   "id": "0ee98b73",
   "metadata": {},
   "source": [
    "### After standardization"
   ]
  },
  {
   "cell_type": "code",
   "execution_count": 24,
   "id": "d0af0c9f",
   "metadata": {},
   "outputs": [
    {
     "data": {
      "text/plain": [
       "0         0.244964\n",
       "1        -0.342475\n",
       "2         1.160686\n",
       "3         0.140534\n",
       "4        -0.073403\n",
       "            ...   \n",
       "284802   -0.350151\n",
       "284803   -0.254117\n",
       "284804   -0.081839\n",
       "284805   -0.313249\n",
       "284806    0.514355\n",
       "Name: Amount, Length: 284807, dtype: float64"
      ]
     },
     "execution_count": 24,
     "metadata": {},
     "output_type": "execute_result"
    }
   ],
   "source": [
    "data['Amount']"
   ]
  },
  {
   "cell_type": "markdown",
   "id": "416862e3",
   "metadata": {},
   "source": [
    "## Data Splittig using Random seed"
   ]
  },
  {
   "cell_type": "markdown",
   "id": "4782ad3f",
   "metadata": {},
   "source": [
    "A random seed is used to ensure the same data split each time the code is excecuted. "
   ]
  },
  {
   "cell_type": "code",
   "execution_count": 25,
   "id": "065a5562",
   "metadata": {},
   "outputs": [],
   "source": [
    "from sklearn.model_selection import train_test_split"
   ]
  },
  {
   "cell_type": "code",
   "execution_count": 26,
   "id": "e5911abf",
   "metadata": {},
   "outputs": [],
   "source": [
    "x = data.drop(\"Class\", axis =1)\n",
    "y = data[[\"Class\"]]"
   ]
  },
  {
   "cell_type": "code",
   "execution_count": 27,
   "id": "965febe7",
   "metadata": {},
   "outputs": [
    {
     "data": {
      "text/plain": [
       "(284807, 30)"
      ]
     },
     "execution_count": 27,
     "metadata": {},
     "output_type": "execute_result"
    }
   ],
   "source": [
    "x.shape"
   ]
  },
  {
   "cell_type": "code",
   "execution_count": 28,
   "id": "ffe0e0bf",
   "metadata": {},
   "outputs": [
    {
     "data": {
      "text/plain": [
       "(284807, 1)"
      ]
     },
     "execution_count": 28,
     "metadata": {},
     "output_type": "execute_result"
    }
   ],
   "source": [
    "y.shape"
   ]
  },
  {
   "cell_type": "code",
   "execution_count": 29,
   "id": "8fa8ee4c",
   "metadata": {},
   "outputs": [],
   "source": [
    "x_train, x_test, y_train, y_test = train_test_split(x, y, test_size = 0.30, random_state = 42) # x = features, y = target"
   ]
  },
  {
   "cell_type": "code",
   "execution_count": 30,
   "id": "0e4af426",
   "metadata": {},
   "outputs": [
    {
     "data": {
      "text/plain": [
       "(199364, 30)"
      ]
     },
     "execution_count": 30,
     "metadata": {},
     "output_type": "execute_result"
    }
   ],
   "source": [
    "x_train.shape"
   ]
  },
  {
   "cell_type": "code",
   "execution_count": 31,
   "id": "120f770e",
   "metadata": {},
   "outputs": [
    {
     "data": {
      "text/plain": [
       "(85443, 30)"
      ]
     },
     "execution_count": 31,
     "metadata": {},
     "output_type": "execute_result"
    }
   ],
   "source": [
    "x_test.shape"
   ]
  },
  {
   "cell_type": "code",
   "execution_count": 32,
   "id": "41a4792f",
   "metadata": {},
   "outputs": [
    {
     "data": {
      "text/plain": [
       "(199364, 1)"
      ]
     },
     "execution_count": 32,
     "metadata": {},
     "output_type": "execute_result"
    }
   ],
   "source": [
    "y_train.shape"
   ]
  },
  {
   "cell_type": "code",
   "execution_count": 33,
   "id": "1e6fbdb6",
   "metadata": {},
   "outputs": [
    {
     "data": {
      "text/plain": [
       "(85443, 1)"
      ]
     },
     "execution_count": 33,
     "metadata": {},
     "output_type": "execute_result"
    }
   ],
   "source": [
    "y_test.shape"
   ]
  },
  {
   "cell_type": "markdown",
   "id": "debf6bf4",
   "metadata": {},
   "source": [
    "## Data Resampling"
   ]
  },
  {
   "cell_type": "markdown",
   "id": "e818411c",
   "metadata": {},
   "source": [
    "The dataset is highly unbalanced. To tackle this problem, I used resampling techniques such as: <br>\n",
    "\n",
    "-  **Random Undersampling**\n",
    "-  **Random Oversampling** .\n",
    "-  **SMOTE**  <br>\n",
    "-  **Under-Sampling: Tomek Links Removal**  \n",
    "-  **Combination of SMOTE and undersampling**<br>\n",
    "\n",
    "Implemented these on the training data separately to make it balanced <br>\n",
    "\n",
    "However as a control we will run the model first with no resmapling techiniques and ananlyze the results, this will be done with the other algorithms. \n",
    "\n",
    " "
   ]
  },
  {
   "cell_type": "markdown",
   "id": "7461b062",
   "metadata": {},
   "source": [
    "## 1. Linear Regresssion with no Resampling"
   ]
  },
  {
   "cell_type": "markdown",
   "id": "223264f3",
   "metadata": {},
   "source": [
    "## Hyper parameter search for Logistic Regression"
   ]
  },
  {
   "cell_type": "markdown",
   "id": "d0ea74a6",
   "metadata": {},
   "source": [
    "Hyperparameter is a configuration that is external to the model whose value cannot be estimated\n",
    "from the training data. It should not be confused with the model parameter as a\n",
    "model parameter is a configuration that is internal to the model, and its value can be estimated\n",
    "during the training process. "
   ]
  },
  {
   "cell_type": "markdown",
   "id": "4d01e647",
   "metadata": {},
   "source": [
    "In the logistic regression model, the regularization parameter ’C’ is an important hyperparameter\n",
    "that needs to be tuned carefully. The value of C directly affects the generalization ability of the\n",
    "model. For instance, for large values of C, the model tends to overfit the data, and for small\n",
    "values of C, the model tends to underfit the data. Given an initial list of C values, we performed\n",
    "GridSearchCV technique on the resampled training data to find the best C parameter for the\n",
    "logistic regression model."
   ]
  },
  {
   "cell_type": "code",
   "execution_count": 34,
   "id": "7e7739be",
   "metadata": {},
   "outputs": [],
   "source": [
    "from sklearn.linear_model import LogisticRegression\n",
    "from sklearn.model_selection import GridSearchCV\n",
    "from sklearn import metrics\n",
    "from sklearn.svm import SVC"
   ]
  },
  {
   "cell_type": "code",
   "execution_count": 35,
   "id": "c3191140",
   "metadata": {},
   "outputs": [],
   "source": [
    "##clf = GridSearchCV(estimator, param_grid, 10, scoring) #(estimator, param_grid, cv(cross validation number for k), scoring)"
   ]
  },
  {
   "cell_type": "code",
   "execution_count": 36,
   "id": "66fded60",
   "metadata": {},
   "outputs": [],
   "source": [
    "lg = LogisticRegression(max_iter= 600)"
   ]
  },
  {
   "cell_type": "code",
   "execution_count": 37,
   "id": "79488e1f",
   "metadata": {},
   "outputs": [],
   "source": [
    "logistic_params = {'C':[x / 10.0 for x in range(0, 15, 1) ]}"
   ]
  },
  {
   "cell_type": "code",
   "execution_count": 33,
   "id": "8422d00b",
   "metadata": {},
   "outputs": [],
   "source": [
    "clf = GridSearchCV(lg, logistic_params, cv = 10, scoring ='accuracy')"
   ]
  },
  {
   "cell_type": "code",
   "execution_count": 696,
   "id": "f6c4e188",
   "metadata": {},
   "outputs": [
    {
     "data": {
      "text/plain": [
       "GridSearchCV(cv=10, estimator=LogisticRegression(max_iter=600),\n",
       "             param_grid={'C': [0.0, 0.1, 0.2, 0.3, 0.4, 0.5, 0.6, 0.7, 0.8, 0.9,\n",
       "                               1.0, 1.1, 1.2, 1.3, 1.4]},\n",
       "             scoring='accuracy')"
      ]
     },
     "execution_count": 696,
     "metadata": {},
     "output_type": "execute_result"
    }
   ],
   "source": [
    "clf.fit(x_train, y_train)"
   ]
  },
  {
   "cell_type": "code",
   "execution_count": 697,
   "id": "04da827e",
   "metadata": {},
   "outputs": [
    {
     "name": "stdout",
     "output_type": "stream",
     "text": [
      "{'C': 0.2}\n"
     ]
    }
   ],
   "source": [
    "print(clf.best_params_)"
   ]
  },
  {
   "cell_type": "markdown",
   "id": "31a8c345",
   "metadata": {},
   "source": [
    "From the gridsearch 10 fold cross validation, the best C parameter is 0.2. \n",
    "With this value, we can then proceed to build and evaluate the regression model. "
   ]
  },
  {
   "cell_type": "markdown",
   "id": "2d6954ca",
   "metadata": {},
   "source": [
    "### Fitting the model"
   ]
  },
  {
   "cell_type": "code",
   "execution_count": 698,
   "id": "52d4d1ce",
   "metadata": {},
   "outputs": [
    {
     "data": {
      "text/plain": [
       "{'C': 0.2,\n",
       " 'class_weight': None,\n",
       " 'dual': False,\n",
       " 'fit_intercept': True,\n",
       " 'intercept_scaling': 1,\n",
       " 'l1_ratio': None,\n",
       " 'max_iter': 600,\n",
       " 'multi_class': 'auto',\n",
       " 'n_jobs': None,\n",
       " 'penalty': 'l2',\n",
       " 'random_state': None,\n",
       " 'solver': 'lbfgs',\n",
       " 'tol': 0.0001,\n",
       " 'verbose': 0,\n",
       " 'warm_start': False}"
      ]
     },
     "execution_count": 698,
     "metadata": {},
     "output_type": "execute_result"
    }
   ],
   "source": [
    "classifier1 = LogisticRegression(C = 0.2, max_iter = 600)\n",
    "model1 = classifier1.fit(x_train, y_train)\n",
    "\n",
    "params = model1.get_params()\n",
    "params"
   ]
  },
  {
   "cell_type": "markdown",
   "id": "843e2476",
   "metadata": {},
   "source": [
    "Prints out all the tunable parameters (values above are the default values), the value of C directly affects the generalization ability of the model. For instance, for large values of C, the model tends to overfit the data, and for small\n",
    "values of C, the model tends to underfit the data. Therefore, the value of C needs to carefully selected by using GridSearchCV.\n",
    "\n",
    "For this instance, the model exceeded the max iter reached so a new value will have to be specified."
   ]
  },
  {
   "cell_type": "markdown",
   "id": "7005d780",
   "metadata": {},
   "source": [
    "## Evaluation"
   ]
  },
  {
   "cell_type": "code",
   "execution_count": 39,
   "id": "64481922",
   "metadata": {},
   "outputs": [],
   "source": [
    "from sklearn.metrics import accuracy_score\n",
    "from sklearn.metrics import plot_roc_curve, plot_precision_recall_curve, roc_curve"
   ]
  },
  {
   "cell_type": "code",
   "execution_count": 700,
   "id": "6655afe8",
   "metadata": {},
   "outputs": [
    {
     "name": "stdout",
     "output_type": "stream",
     "text": [
      "Accuracy Score:  0.9985838512224524\n"
     ]
    }
   ],
   "source": [
    "prediction1 = model1.predict(x_test)\n",
    "print ('Accuracy Score: ', accuracy_score(y_test, prediction1))"
   ]
  },
  {
   "cell_type": "markdown",
   "id": "66d38581",
   "metadata": {},
   "source": [
    "### Confusion Matrix"
   ]
  },
  {
   "cell_type": "code",
   "execution_count": 40,
   "id": "d2a545cf",
   "metadata": {},
   "outputs": [],
   "source": [
    "from sklearn.metrics import plot_confusion_matrix, confusion_matrix"
   ]
  },
  {
   "cell_type": "code",
   "execution_count": 702,
   "id": "aa0ad56f",
   "metadata": {},
   "outputs": [
    {
     "data": {
      "text/plain": [
       "<sklearn.metrics._plot.confusion_matrix.ConfusionMatrixDisplay at 0x1e634438310>"
      ]
     },
     "execution_count": 702,
     "metadata": {},
     "output_type": "execute_result"
    },
    {
     "data": {
      "image/png": "[encoded data removed]",
      "text/plain": [
       "<Figure size 432x288 with 2 Axes>"
      ]
     },
     "metadata": {
      "needs_background": "light"
     },
     "output_type": "display_data"
    }
   ],
   "source": [
    "plot_confusion_matrix(model1, x_test, y_test, cmap = 'Blues', display_labels = ['Normal', 'Fraud'])"
   ]
  },
  {
   "cell_type": "markdown",
   "id": "c9d58f1c",
   "metadata": {},
   "source": [
    "### Classification Report"
   ]
  },
  {
   "cell_type": "code",
   "execution_count": 703,
   "id": "309baa64",
   "metadata": {},
   "outputs": [
    {
     "name": "stdout",
     "output_type": "stream",
     "text": [
      "              precision    recall  f1-score   support\n",
      "\n",
      "           0     0.9995    0.9991    0.9993     85307\n",
      "           1     0.5434    0.6912    0.6084       136\n",
      "\n",
      "    accuracy                         0.9986     85443\n",
      "   macro avg     0.7714    0.8451    0.8039     85443\n",
      "weighted avg     0.9988    0.9986    0.9987     85443\n",
      "\n"
     ]
    }
   ],
   "source": [
    "from sklearn.metrics import classification_report\n",
    "print(classification_report(y_test, prediction1, digits=4)) "
   ]
  },
  {
   "cell_type": "markdown",
   "id": "7f8c8e7d",
   "metadata": {},
   "source": [
    "### Precision-Recall Curve"
   ]
  },
  {
   "cell_type": "code",
   "execution_count": 782,
   "id": "bda0aa99",
   "metadata": {},
   "outputs": [],
   "source": [
    "from sklearn.metrics import precision_recall_curve, plot_precision_recall_curve"
   ]
  },
  {
   "cell_type": "code",
   "execution_count": 783,
   "id": "00ff4336",
   "metadata": {},
   "outputs": [],
   "source": [
    "precision, recall, thresholds = precision_recall_curve(y_test, prediction1)"
   ]
  },
  {
   "cell_type": "code",
   "execution_count": 784,
   "id": "0a4f84ef",
   "metadata": {},
   "outputs": [
    {
     "data": {
      "text/plain": [
       "array([0.0015917, 0.5433526, 1.       ])"
      ]
     },
     "execution_count": 784,
     "metadata": {},
     "output_type": "execute_result"
    }
   ],
   "source": [
    "precision"
   ]
  },
  {
   "cell_type": "code",
   "execution_count": 785,
   "id": "dce6423c",
   "metadata": {},
   "outputs": [
    {
     "data": {
      "text/plain": [
       "array([1.        , 0.69117647, 0.        ])"
      ]
     },
     "execution_count": 785,
     "metadata": {},
     "output_type": "execute_result"
    }
   ],
   "source": [
    "recall"
   ]
  },
  {
   "cell_type": "code",
   "execution_count": 786,
   "id": "813aa07f",
   "metadata": {},
   "outputs": [
    {
     "data": {
      "text/plain": [
       "array([0, 1], dtype=int64)"
      ]
     },
     "execution_count": 786,
     "metadata": {},
     "output_type": "execute_result"
    }
   ],
   "source": [
    "thresholds"
   ]
  },
  {
   "cell_type": "code",
   "execution_count": 788,
   "id": "e271b124",
   "metadata": {},
   "outputs": [
    {
     "data": {
      "image/png": "[encoded data removed]",
      "text/plain": [
       "<Figure size 432x288 with 1 Axes>"
      ]
     },
     "metadata": {
      "needs_background": "light"
     },
     "output_type": "display_data"
    }
   ],
   "source": [
    "plot_precision_recall_curve(model1, x_test, y_test, name = '')\n",
    "plt.show()"
   ]
  },
  {
   "cell_type": "markdown",
   "id": "87b13062",
   "metadata": {},
   "source": [
    "Area Under Precision Recall Curve = 0.59"
   ]
  },
  {
   "cell_type": "code",
   "execution_count": 710,
   "id": "742afb53",
   "metadata": {},
   "outputs": [
    {
     "data": {
      "text/plain": [
       "array([[1.07203135e-12, 1.00000000e+00],\n",
       "       [9.97823961e-01, 2.17603898e-03],\n",
       "       [9.84393573e-01, 1.56064273e-02],\n",
       "       ...,\n",
       "       [9.93172338e-01, 6.82766188e-03],\n",
       "       [9.99998424e-01, 1.57596519e-06],\n",
       "       [9.99797262e-01, 2.02738206e-04]])"
      ]
     },
     "execution_count": 710,
     "metadata": {},
     "output_type": "execute_result"
    }
   ],
   "source": [
    "model1.predict_proba(x_test)"
   ]
  },
  {
   "cell_type": "code",
   "execution_count": 711,
   "id": "1674be31",
   "metadata": {},
   "outputs": [],
   "source": [
    "import plotly.express as px"
   ]
  },
  {
   "cell_type": "code",
   "execution_count": 712,
   "id": "83020e39",
   "metadata": {
    "scrolled": true
   },
   "outputs": [],
   "source": [
    "#fig = px.line(x = recall[:-1], y = precision[:-1], hover_name = thresholds)\n",
    "#fig.update_xaxes(title = 'Recall')\n",
    "#fig.update_yaxes(title = 'Precision')\n",
    "#fig"
   ]
  },
  {
   "cell_type": "markdown",
   "id": "8db61e3c",
   "metadata": {},
   "source": [
    "### Reciever Operating Characteristic Curve (ROC)"
   ]
  },
  {
   "cell_type": "code",
   "execution_count": 713,
   "id": "9351dd61",
   "metadata": {},
   "outputs": [],
   "source": [
    "from sklearn.metrics import plot_roc_curve, roc_curve"
   ]
  },
  {
   "cell_type": "code",
   "execution_count": 789,
   "id": "06a854f3",
   "metadata": {},
   "outputs": [
    {
     "data": {
      "image/png": "[encoded data removed]",
      "text/plain": [
       "<Figure size 432x288 with 1 Axes>"
      ]
     },
     "metadata": {
      "needs_background": "light"
     },
     "output_type": "display_data"
    }
   ],
   "source": [
    "plot_roc_curve(model1, x_test, y_test, name = '')\n",
    "plt.show()"
   ]
  },
  {
   "cell_type": "markdown",
   "id": "888240a2",
   "metadata": {},
   "source": [
    "Area under ROC (AUROC)  = 0.93"
   ]
  },
  {
   "cell_type": "markdown",
   "id": "d88ddfca",
   "metadata": {},
   "source": [
    "# 2. Linear Regression with Random Under Sampling"
   ]
  },
  {
   "cell_type": "markdown",
   "id": "804c8f75",
   "metadata": {},
   "source": [
    "Undersampling can be defined as removing some observations of the majority class. This is done until the majority and minority class is balanced out.\n",
    "\n",
    "Undersampling can be a good choice when you have a ton of data -think millions of rows. But a drawback to undersampling is that we are removing information that may be valuable"
   ]
  },
  {
   "cell_type": "code",
   "execution_count": 37,
   "id": "b532f9dc",
   "metadata": {},
   "outputs": [],
   "source": [
    "from imblearn import under_sampling"
   ]
  },
  {
   "cell_type": "code",
   "execution_count": 38,
   "id": "858a51d5",
   "metadata": {},
   "outputs": [],
   "source": [
    "from imblearn.under_sampling import RandomUnderSampler"
   ]
  },
  {
   "cell_type": "code",
   "execution_count": 39,
   "id": "5aa05087",
   "metadata": {},
   "outputs": [],
   "source": [
    "rus = RandomUnderSampler(random_state = 0)\n",
    "x_under, y_under = rus.fit_resample(x_train, y_train)"
   ]
  },
  {
   "cell_type": "code",
   "execution_count": 40,
   "id": "92219cec",
   "metadata": {},
   "outputs": [
    {
     "data": {
      "text/plain": [
       "(712, 30)"
      ]
     },
     "execution_count": 40,
     "metadata": {},
     "output_type": "execute_result"
    }
   ],
   "source": [
    "x_under.shape"
   ]
  },
  {
   "cell_type": "code",
   "execution_count": 41,
   "id": "a6e2fbb2",
   "metadata": {},
   "outputs": [
    {
     "data": {
      "text/plain": [
       "(712, 1)"
      ]
     },
     "execution_count": 41,
     "metadata": {},
     "output_type": "execute_result"
    }
   ],
   "source": [
    "y_under.shape"
   ]
  },
  {
   "cell_type": "code",
   "execution_count": 42,
   "id": "94af5b50",
   "metadata": {},
   "outputs": [
    {
     "data": {
      "text/plain": [
       "0    356\n",
       "1    356\n",
       "Name: Class, dtype: int64"
      ]
     },
     "execution_count": 42,
     "metadata": {},
     "output_type": "execute_result"
    }
   ],
   "source": [
    "y_under.Class.value_counts()"
   ]
  },
  {
   "cell_type": "code",
   "execution_count": 43,
   "id": "cd1c7d7c",
   "metadata": {},
   "outputs": [
    {
     "data": {
      "image/png": "[encoded data removed]",
      "text/plain": [
       "<Figure size 432x288 with 1 Axes>"
      ]
     },
     "metadata": {
      "needs_background": "light"
     },
     "output_type": "display_data"
    }
   ],
   "source": [
    "g = sns.countplot(y_under['Class'])\n",
    "g.set_xticklabels(['Not Fraud','Fraud'])\n",
    "plt.show()"
   ]
  },
  {
   "cell_type": "markdown",
   "id": "5f34330d",
   "metadata": {},
   "source": [
    "Both majority and minority samples are now equal with 356 instances"
   ]
  },
  {
   "cell_type": "markdown",
   "id": "bd0085cd",
   "metadata": {},
   "source": [
    "### Parameter search "
   ]
  },
  {
   "cell_type": "markdown",
   "id": "ce0a7fa2",
   "metadata": {},
   "source": [
    "Using the already created GridSearchCV, we will fit it with the new under sampled feature and target variables and find the best C values from the initial list above"
   ]
  },
  {
   "cell_type": "code",
   "execution_count": 44,
   "id": "9e3a3b2b",
   "metadata": {},
   "outputs": [
    {
     "data": {
      "text/plain": [
       "GridSearchCV(cv=10, estimator=LogisticRegression(max_iter=600),\n",
       "             param_grid={'C': [0.0, 0.1, 0.2, 0.3, 0.4, 0.5, 0.6, 0.7, 0.8, 0.9,\n",
       "                               1.0, 1.1, 1.2, 1.3, 1.4]},\n",
       "             scoring='accuracy')"
      ]
     },
     "execution_count": 44,
     "metadata": {},
     "output_type": "execute_result"
    }
   ],
   "source": [
    "clf.fit(x_under, y_under)"
   ]
  },
  {
   "cell_type": "code",
   "execution_count": 45,
   "id": "ffb660a4",
   "metadata": {},
   "outputs": [
    {
     "name": "stdout",
     "output_type": "stream",
     "text": [
      "{'C': 0.6}\n"
     ]
    }
   ],
   "source": [
    "print(clf.best_params_)"
   ]
  },
  {
   "cell_type": "markdown",
   "id": "910e8591",
   "metadata": {},
   "source": [
    "From the gridsearch 10 fold cross validation, the best C parameter is 0.6 for the under sampled data. \n",
    "With this value, we can then proceed to build and evaluate the regression model. "
   ]
  },
  {
   "cell_type": "markdown",
   "id": "36f82968",
   "metadata": {},
   "source": [
    "### Fitting the Model"
   ]
  },
  {
   "cell_type": "code",
   "execution_count": 46,
   "id": "eeec6c12",
   "metadata": {},
   "outputs": [],
   "source": [
    "classifier2 = LogisticRegression(C = 0.6, max_iter = 600)\n",
    "model2 = classifier2.fit(x_under, y_under)"
   ]
  },
  {
   "cell_type": "markdown",
   "id": "2b9d6536",
   "metadata": {},
   "source": [
    "### Evaluation"
   ]
  },
  {
   "cell_type": "code",
   "execution_count": 50,
   "id": "20694068",
   "metadata": {},
   "outputs": [
    {
     "name": "stdout",
     "output_type": "stream",
     "text": [
      "Accuracy Score:  0.9622321313624288\n"
     ]
    }
   ],
   "source": [
    "prediction2 = model2.predict(x_test)\n",
    "print ('Accuracy Score: ', accuracy_score(y_test, prediction2))"
   ]
  },
  {
   "cell_type": "markdown",
   "id": "7436a1ec",
   "metadata": {},
   "source": [
    "### Confusion Matrix"
   ]
  },
  {
   "cell_type": "code",
   "execution_count": 53,
   "id": "246f11f0",
   "metadata": {},
   "outputs": [
    {
     "data": {
      "text/plain": [
       "array([[82091,  3216],\n",
       "       [   11,   125]], dtype=int64)"
      ]
     },
     "execution_count": 53,
     "metadata": {},
     "output_type": "execute_result"
    }
   ],
   "source": [
    "confusion_matrix(y_test, prediction2)"
   ]
  },
  {
   "cell_type": "code",
   "execution_count": 54,
   "id": "23d1507b",
   "metadata": {
    "scrolled": true
   },
   "outputs": [
    {
     "data": {
      "text/plain": [
       "<sklearn.metrics._plot.confusion_matrix.ConfusionMatrixDisplay at 0x11e16190a00>"
      ]
     },
     "execution_count": 54,
     "metadata": {},
     "output_type": "execute_result"
    },
    {
     "data": {
      "image/png": "[encoded data removed]",
      "text/plain": [
       "<Figure size 432x288 with 2 Axes>"
      ]
     },
     "metadata": {
      "needs_background": "light"
     },
     "output_type": "display_data"
    }
   ],
   "source": [
    "plot_confusion_matrix(model2, x_test, y_test, cmap = 'Blues', display_labels = ['Normal', 'Fraud'])"
   ]
  },
  {
   "cell_type": "markdown",
   "id": "5c34e3b7",
   "metadata": {},
   "source": [
    "### Classification Report"
   ]
  },
  {
   "cell_type": "code",
   "execution_count": 728,
   "id": "c14e6179",
   "metadata": {
    "scrolled": true
   },
   "outputs": [
    {
     "name": "stdout",
     "output_type": "stream",
     "text": [
      "              precision    recall  f1-score   support\n",
      "\n",
      "           0     0.9999    0.9623    0.9807     85307\n",
      "           1     0.0374    0.9191    0.0719       136\n",
      "\n",
      "    accuracy                         0.9622     85443\n",
      "   macro avg     0.5186    0.9407    0.5263     85443\n",
      "weighted avg     0.9983    0.9622    0.9793     85443\n",
      "\n"
     ]
    }
   ],
   "source": [
    "print(classification_report(y_test, prediction2, digits = 4))"
   ]
  },
  {
   "cell_type": "markdown",
   "id": "4974e0e4",
   "metadata": {},
   "source": [
    "### Precision-Recall Curve"
   ]
  },
  {
   "cell_type": "code",
   "execution_count": 729,
   "id": "db75fdae",
   "metadata": {},
   "outputs": [],
   "source": [
    "precision, recall, thresholds = precision_recall_curve(y_test, prediction2)"
   ]
  },
  {
   "cell_type": "code",
   "execution_count": 730,
   "id": "93d2c4e7",
   "metadata": {},
   "outputs": [
    {
     "data": {
      "text/plain": [
       "array([0.0015917 , 0.03741395, 1.        ])"
      ]
     },
     "execution_count": 730,
     "metadata": {},
     "output_type": "execute_result"
    }
   ],
   "source": [
    "precision"
   ]
  },
  {
   "cell_type": "code",
   "execution_count": 731,
   "id": "5fe87b65",
   "metadata": {},
   "outputs": [
    {
     "data": {
      "text/plain": [
       "array([1.        , 0.91911765, 0.        ])"
      ]
     },
     "execution_count": 731,
     "metadata": {},
     "output_type": "execute_result"
    }
   ],
   "source": [
    "recall"
   ]
  },
  {
   "cell_type": "code",
   "execution_count": 732,
   "id": "b011bfd5",
   "metadata": {},
   "outputs": [
    {
     "data": {
      "image/png": "[encoded data removed]",
      "text/plain": [
       "<Figure size 432x288 with 1 Axes>"
      ]
     },
     "metadata": {
      "needs_background": "light"
     },
     "output_type": "display_data"
    }
   ],
   "source": [
    "plot_precision_recall_curve(model2, x_test, y_test, name = '')\n",
    "plt.show()"
   ]
  },
  {
   "cell_type": "markdown",
   "id": "cdb8742d",
   "metadata": {},
   "source": [
    "### Reciever Operating Characteristic Curve (ROC)"
   ]
  },
  {
   "cell_type": "code",
   "execution_count": 733,
   "id": "5eae45f7",
   "metadata": {},
   "outputs": [
    {
     "data": {
      "image/png": "[encoded data removed]",
      "text/plain": [
       "<Figure size 432x288 with 1 Axes>"
      ]
     },
     "metadata": {
      "needs_background": "light"
     },
     "output_type": "display_data"
    }
   ],
   "source": [
    "plot_roc_curve(model2, x_test, y_test, name = '')\n",
    "plt.show()"
   ]
  },
  {
   "cell_type": "markdown",
   "id": "411e4529",
   "metadata": {},
   "source": [
    "Area under ROC (AUROC)  = 0.97"
   ]
  },
  {
   "cell_type": "markdown",
   "id": "093d997c",
   "metadata": {},
   "source": [
    "# 3. Linear Regression with Random Over Sampling"
   ]
  },
  {
   "cell_type": "code",
   "execution_count": 734,
   "id": "9de1746b",
   "metadata": {},
   "outputs": [],
   "source": [
    "from imblearn.over_sampling import RandomOverSampler"
   ]
  },
  {
   "cell_type": "code",
   "execution_count": 735,
   "id": "6608a05f",
   "metadata": {},
   "outputs": [],
   "source": [
    "ros = RandomOverSampler(random_state = 0)\n",
    "x_over, y_over = ros.fit_resample(x_train,y_train)"
   ]
  },
  {
   "cell_type": "code",
   "execution_count": 736,
   "id": "16e447e9",
   "metadata": {},
   "outputs": [
    {
     "data": {
      "text/plain": [
       "(398016, 30)"
      ]
     },
     "execution_count": 736,
     "metadata": {},
     "output_type": "execute_result"
    }
   ],
   "source": [
    "x_over.shape"
   ]
  },
  {
   "cell_type": "code",
   "execution_count": 737,
   "id": "7d9b8542",
   "metadata": {},
   "outputs": [
    {
     "data": {
      "text/plain": [
       "(398016, 1)"
      ]
     },
     "execution_count": 737,
     "metadata": {},
     "output_type": "execute_result"
    }
   ],
   "source": [
    "y_over.shape"
   ]
  },
  {
   "cell_type": "code",
   "execution_count": 738,
   "id": "d2449adb",
   "metadata": {},
   "outputs": [
    {
     "data": {
      "text/plain": [
       "0    199008\n",
       "1    199008\n",
       "Name: Class, dtype: int64"
      ]
     },
     "execution_count": 738,
     "metadata": {},
     "output_type": "execute_result"
    }
   ],
   "source": [
    "y_over.Class.value_counts()"
   ]
  },
  {
   "cell_type": "code",
   "execution_count": 739,
   "id": "7ff7c802",
   "metadata": {},
   "outputs": [
    {
     "data": {
      "text/plain": [
       "0    199008\n",
       "1       356\n",
       "Name: Class, dtype: int64"
      ]
     },
     "execution_count": 739,
     "metadata": {},
     "output_type": "execute_result"
    }
   ],
   "source": [
    "y_train.Class.value_counts()"
   ]
  },
  {
   "cell_type": "code",
   "execution_count": 740,
   "id": "ff51f66f",
   "metadata": {},
   "outputs": [
    {
     "data": {
      "image/png": "[encoded data removed]",
      "text/plain": [
       "<Figure size 432x288 with 1 Axes>"
      ]
     },
     "metadata": {
      "needs_background": "light"
     },
     "output_type": "display_data"
    }
   ],
   "source": [
    "g = sns.countplot(y_over['Class'])\n",
    "g.set_xticklabels(['Not Fraud','Fraud'])\n",
    "plt.show()"
   ]
  },
  {
   "cell_type": "markdown",
   "id": "85173501",
   "metadata": {},
   "source": [
    "### Parameter Search"
   ]
  },
  {
   "cell_type": "code",
   "execution_count": 741,
   "id": "26ce0d09",
   "metadata": {},
   "outputs": [
    {
     "data": {
      "text/plain": [
       "GridSearchCV(cv=10, estimator=LogisticRegression(max_iter=600),\n",
       "             param_grid={'C': [0.0, 0.1, 0.2, 0.3, 0.4, 0.5, 0.6, 0.7, 0.8, 0.9,\n",
       "                               1.0, 1.1, 1.2, 1.3, 1.4]},\n",
       "             scoring='accuracy')"
      ]
     },
     "execution_count": 741,
     "metadata": {},
     "output_type": "execute_result"
    }
   ],
   "source": [
    "clf.fit(x_over, y_over)"
   ]
  },
  {
   "cell_type": "code",
   "execution_count": 742,
   "id": "3e90c384",
   "metadata": {},
   "outputs": [
    {
     "name": "stdout",
     "output_type": "stream",
     "text": [
      "{'C': 0.1}\n"
     ]
    }
   ],
   "source": [
    "print(clf.best_params_)"
   ]
  },
  {
   "cell_type": "markdown",
   "id": "4d8f034b",
   "metadata": {},
   "source": [
    "### Fitting the model"
   ]
  },
  {
   "cell_type": "code",
   "execution_count": 743,
   "id": "aefa0bc4",
   "metadata": {},
   "outputs": [],
   "source": [
    "classifier3 = LogisticRegression(C = 0.1, max_iter = 600)\n",
    "model3 = classifier3.fit(x_over, y_over)"
   ]
  },
  {
   "cell_type": "markdown",
   "id": "735c34eb",
   "metadata": {},
   "source": [
    "### Evaluation"
   ]
  },
  {
   "cell_type": "code",
   "execution_count": 744,
   "id": "7d357f2b",
   "metadata": {},
   "outputs": [
    {
     "name": "stdout",
     "output_type": "stream",
     "text": [
      "Accuracy Score:  0.9611553901431363\n"
     ]
    }
   ],
   "source": [
    "prediction3 = model3.predict(x_test)\n",
    "print ('Accuracy Score: ', accuracy_score(y_test, prediction3))"
   ]
  },
  {
   "cell_type": "markdown",
   "id": "511991c1",
   "metadata": {},
   "source": [
    "### Confusion Matrix "
   ]
  },
  {
   "cell_type": "code",
   "execution_count": 745,
   "id": "9bd3abf5",
   "metadata": {},
   "outputs": [
    {
     "data": {
      "text/plain": [
       "array([[81999,  3308],\n",
       "       [   11,   125]], dtype=int64)"
      ]
     },
     "execution_count": 745,
     "metadata": {},
     "output_type": "execute_result"
    }
   ],
   "source": [
    "confusion_matrix(y_test, prediction3)"
   ]
  },
  {
   "cell_type": "code",
   "execution_count": 746,
   "id": "c0d3bfa2",
   "metadata": {},
   "outputs": [
    {
     "data": {
      "text/plain": [
       "<sklearn.metrics._plot.confusion_matrix.ConfusionMatrixDisplay at 0x1e633a3e430>"
      ]
     },
     "execution_count": 746,
     "metadata": {},
     "output_type": "execute_result"
    },
    {
     "data": {
      "image/png": "[encoded data removed]",
      "text/plain": [
       "<Figure size 432x288 with 2 Axes>"
      ]
     },
     "metadata": {
      "needs_background": "light"
     },
     "output_type": "display_data"
    }
   ],
   "source": [
    "plot_confusion_matrix(model3, x_test, y_test, cmap = 'Blues', display_labels = ['Normal', 'Fraud'])"
   ]
  },
  {
   "cell_type": "markdown",
   "id": "31f5cba6",
   "metadata": {},
   "source": [
    "### Classification report"
   ]
  },
  {
   "cell_type": "code",
   "execution_count": 747,
   "id": "6d209d60",
   "metadata": {},
   "outputs": [
    {
     "name": "stdout",
     "output_type": "stream",
     "text": [
      "              precision    recall  f1-score   support\n",
      "\n",
      "           0     0.9999    0.9612    0.9802     85307\n",
      "           1     0.0364    0.9191    0.0700       136\n",
      "\n",
      "    accuracy                         0.9612     85443\n",
      "   macro avg     0.5181    0.9402    0.5251     85443\n",
      "weighted avg     0.9983    0.9612    0.9787     85443\n",
      "\n"
     ]
    }
   ],
   "source": [
    "print(classification_report(y_test, prediction3, digits = 4))"
   ]
  },
  {
   "cell_type": "markdown",
   "id": "99871af7",
   "metadata": {},
   "source": [
    "### Precision-Recall Curve"
   ]
  },
  {
   "cell_type": "code",
   "execution_count": 748,
   "id": "16657489",
   "metadata": {},
   "outputs": [],
   "source": [
    "precision, recall, thresholds = precision_recall_curve(y_test, prediction3)"
   ]
  },
  {
   "cell_type": "code",
   "execution_count": 749,
   "id": "e34d6d56",
   "metadata": {},
   "outputs": [
    {
     "data": {
      "image/png": "[encoded data removed]",
      "text/plain": [
       "<Figure size 432x288 with 1 Axes>"
      ]
     },
     "metadata": {
      "needs_background": "light"
     },
     "output_type": "display_data"
    }
   ],
   "source": [
    "plot_precision_recall_curve(model3, x_test, y_test, name = '')\n",
    "plt.show()"
   ]
  },
  {
   "cell_type": "markdown",
   "id": "e05a3f52",
   "metadata": {},
   "source": [
    "### Reciever Operating Characteristic Curve (ROC)"
   ]
  },
  {
   "cell_type": "code",
   "execution_count": 750,
   "id": "cd03ffce",
   "metadata": {},
   "outputs": [
    {
     "data": {
      "image/png": "[encoded data removed]",
      "text/plain": [
       "<Figure size 432x288 with 1 Axes>"
      ]
     },
     "metadata": {
      "needs_background": "light"
     },
     "output_type": "display_data"
    }
   ],
   "source": [
    "plot_roc_curve(model3, x_test, y_test, name = '')\n",
    "plt.show()"
   ]
  },
  {
   "cell_type": "markdown",
   "id": "424d27c9",
   "metadata": {},
   "source": [
    "# 4. Linear Regression with  Synthetic Minority Oversampling Technique         SMOTE  "
   ]
  },
  {
   "cell_type": "markdown",
   "id": "de842b19",
   "metadata": {},
   "source": [
    "This technique generates synthetic data for the minority class.\n",
    "\n",
    "SMOTE (Synthetic Minority Oversampling Technique) works by randomly picking a point from the minority class and computing the k-nearest neighbors for this point. The synthetic points are added between the chosen point and its neighbors.\n",
    "* Choose a minority class as the input vector\n",
    "* Find its k nearest neighbors (k_neighbors is specified as an argument in the SMOTE() function)\n",
    "* Choose one of these neighbors and place a synthetic point anywhere on the line joining the point under consideration and its chosen neighbor\n",
    "* Repeat the steps until data is balanced"
   ]
  },
  {
   "cell_type": "markdown",
   "id": "3ddad63a",
   "metadata": {},
   "source": [
    "SMOTE (Synthetic Minority Over-sampling Technique) is a type of over-sampling procedure that is used to correct the imbalances in the groups. This technique creates new data instances of the minority groups by copying existing minority instances and making small changes to them. This makes SMOTE great at amplifying signals that already exist in the minority groups, but won’t create new signals for those groups."
   ]
  },
  {
   "cell_type": "code",
   "execution_count": 41,
   "id": "1bb5a80e",
   "metadata": {},
   "outputs": [],
   "source": [
    "from imblearn.over_sampling import SMOTE "
   ]
  },
  {
   "cell_type": "markdown",
   "id": "ee43ffb5",
   "metadata": {},
   "source": [
    "Now, when dealing with synthetic data, the first rule is:\n",
    "Don’t put synthetic data in your testing data!\n",
    "We want to implement our model on live data, so we want to see how our model will perform on real data and not the synthetic data that we have created. This means that we can only add the synthetic data to the training set. We can do that with the following code:"
   ]
  },
  {
   "cell_type": "code",
   "execution_count": 42,
   "id": "987d12fa",
   "metadata": {},
   "outputs": [
    {
     "name": "stdout",
     "output_type": "stream",
     "text": [
      "Original dataset shape for y  \n",
      " 0    284315\n",
      "1       492\n",
      "Name: Class, dtype: int64\n",
      "Resample dataset shape for y \n",
      " 0    199008\n",
      "1    199008\n",
      "Name: Class, dtype: int64\n"
     ]
    }
   ],
   "source": [
    "smt = SMOTE(random_state = 0)\n",
    "\n",
    "# fit predictor and target variable\n",
    "x_train_SMOTE, y_train_SMOTE = smt.fit_resample(x_train, y_train)\n",
    "print('Original dataset shape for y  \\n', y.Class.value_counts())\n",
    "print('Resample dataset shape for y \\n', y_train_SMOTE.Class.value_counts())"
   ]
  },
  {
   "cell_type": "code",
   "execution_count": 753,
   "id": "52b8c3fe",
   "metadata": {},
   "outputs": [
    {
     "data": {
      "image/png": "[encoded data removed]",
      "text/plain": [
       "<Figure size 432x288 with 1 Axes>"
      ]
     },
     "metadata": {
      "needs_background": "light"
     },
     "output_type": "display_data"
    }
   ],
   "source": [
    "g = sns.countplot(y_train_SMOTE['Class'])\n",
    "g.set_xticklabels(['Not Fraud','Fraud'])\n",
    "plt.show()"
   ]
  },
  {
   "cell_type": "markdown",
   "id": "53da795f",
   "metadata": {},
   "source": [
    "From here we can train our model on the training data with SMOTE included.\n",
    "Note that we are using the same logistic regression model created earlier, just fitting it with the new training data. "
   ]
  },
  {
   "cell_type": "markdown",
   "id": "782fc519",
   "metadata": {},
   "source": [
    "### Parameter search"
   ]
  },
  {
   "cell_type": "code",
   "execution_count": 754,
   "id": "4e682c6a",
   "metadata": {},
   "outputs": [
    {
     "data": {
      "text/plain": [
       "GridSearchCV(cv=10, estimator=LogisticRegression(max_iter=600),\n",
       "             param_grid={'C': [0.0, 0.1, 0.2, 0.3, 0.4, 0.5, 0.6, 0.7, 0.8, 0.9,\n",
       "                               1.0, 1.1, 1.2, 1.3, 1.4]},\n",
       "             scoring='accuracy')"
      ]
     },
     "execution_count": 754,
     "metadata": {},
     "output_type": "execute_result"
    }
   ],
   "source": [
    "clf.fit(x_train_SMOTE, y_train_SMOTE)"
   ]
  },
  {
   "cell_type": "code",
   "execution_count": 755,
   "id": "4178d62c",
   "metadata": {},
   "outputs": [
    {
     "name": "stdout",
     "output_type": "stream",
     "text": [
      "{'C': 0.1}\n"
     ]
    }
   ],
   "source": [
    "print(clf.best_params_)"
   ]
  },
  {
   "cell_type": "code",
   "execution_count": 43,
   "id": "9247f120",
   "metadata": {},
   "outputs": [],
   "source": [
    "classifier4 = LogisticRegression(C = 0.1, max_iter = 600)\n",
    "model4 = classifier4.fit(x_train_SMOTE, y_train_SMOTE)"
   ]
  },
  {
   "cell_type": "markdown",
   "id": "abae78e4",
   "metadata": {},
   "source": [
    "### Evaluation"
   ]
  },
  {
   "cell_type": "code",
   "execution_count": 45,
   "id": "407d7326",
   "metadata": {},
   "outputs": [
    {
     "name": "stdout",
     "output_type": "stream",
     "text": [
      "Accuracy Score:  0.9801739171143335\n"
     ]
    }
   ],
   "source": [
    "prediction4 = model4.predict(x_test)\n",
    "print ('Accuracy Score: ', accuracy_score(y_test, prediction4))"
   ]
  },
  {
   "cell_type": "markdown",
   "id": "e940d100",
   "metadata": {},
   "source": [
    "### Confusion Matrix"
   ]
  },
  {
   "cell_type": "code",
   "execution_count": 46,
   "id": "ab6d62c2",
   "metadata": {},
   "outputs": [
    {
     "data": {
      "text/plain": [
       "array([[83625,  1682],\n",
       "       [   12,   124]], dtype=int64)"
      ]
     },
     "execution_count": 46,
     "metadata": {},
     "output_type": "execute_result"
    }
   ],
   "source": [
    "confusion_matrix(y_test, prediction4)"
   ]
  },
  {
   "cell_type": "code",
   "execution_count": 47,
   "id": "f81f7ae0",
   "metadata": {},
   "outputs": [
    {
     "data": {
      "text/plain": [
       "<sklearn.metrics._plot.confusion_matrix.ConfusionMatrixDisplay at 0x2608673b1f0>"
      ]
     },
     "execution_count": 47,
     "metadata": {},
     "output_type": "execute_result"
    },
    {
     "data": {
      "image/png": "[encoded data removed]",
      "text/plain": [
       "<Figure size 432x288 with 2 Axes>"
      ]
     },
     "metadata": {
      "needs_background": "light"
     },
     "output_type": "display_data"
    }
   ],
   "source": [
    "plot_confusion_matrix(model4, x_test, y_test, cmap = 'Blues', display_labels = ['Normal', 'Fraud'])"
   ]
  },
  {
   "cell_type": "markdown",
   "id": "fc905325",
   "metadata": {},
   "source": [
    "### Classification Report"
   ]
  },
  {
   "cell_type": "code",
   "execution_count": 758,
   "id": "9b8e0165",
   "metadata": {},
   "outputs": [
    {
     "name": "stdout",
     "output_type": "stream",
     "text": [
      "              precision    recall  f1-score   support\n",
      "\n",
      "           0     0.9999    0.9803    0.9900     85307\n",
      "           1     0.0687    0.9118    0.1277       136\n",
      "\n",
      "    accuracy                         0.9802     85443\n",
      "   macro avg     0.5343    0.9460    0.5588     85443\n",
      "weighted avg     0.9984    0.9802    0.9886     85443\n",
      "\n"
     ]
    }
   ],
   "source": [
    "print(classification_report(y_test, prediction4, digits = 4))"
   ]
  },
  {
   "cell_type": "markdown",
   "id": "5cbbc855",
   "metadata": {},
   "source": [
    "### Precision-Recall Curve"
   ]
  },
  {
   "cell_type": "code",
   "execution_count": 759,
   "id": "756cf009",
   "metadata": {},
   "outputs": [],
   "source": [
    "precision, recall, thresholds = precision_recall_curve(y_test, prediction4)"
   ]
  },
  {
   "cell_type": "code",
   "execution_count": 760,
   "id": "aff43695",
   "metadata": {},
   "outputs": [
    {
     "data": {
      "image/png": "[encoded data removed]",
      "text/plain": [
       "<Figure size 432x288 with 1 Axes>"
      ]
     },
     "metadata": {
      "needs_background": "light"
     },
     "output_type": "display_data"
    }
   ],
   "source": [
    "plot_precision_recall_curve(model4, x_test, y_test, name = '')\n",
    "plt.show()"
   ]
  },
  {
   "cell_type": "markdown",
   "id": "7f3ce924",
   "metadata": {},
   "source": [
    "### Reciever Operating Characteristic Curve (ROC)"
   ]
  },
  {
   "cell_type": "code",
   "execution_count": 761,
   "id": "956521c4",
   "metadata": {},
   "outputs": [
    {
     "data": {
      "image/png": "[encoded data removed]",
      "text/plain": [
       "<Figure size 432x288 with 1 Axes>"
      ]
     },
     "metadata": {
      "needs_background": "light"
     },
     "output_type": "display_data"
    }
   ],
   "source": [
    "plot_roc_curve(model4, x_test, y_test, name = '')\n",
    "plt.show()"
   ]
  },
  {
   "cell_type": "markdown",
   "id": "c968d78e",
   "metadata": {},
   "source": [
    "# 5. Linear Regression Tomek links removal "
   ]
  },
  {
   "cell_type": "markdown",
   "id": "c8f6312a",
   "metadata": {},
   "source": [
    "Tomek links are pairs of very close instances but of opposite classes. Removing the instances of the majority class of each pair increases the space between the two classes, facilitating the classification process.\n",
    "\n",
    "Tomek’s link exists if the two samples are the nearest neighbors of each other\n",
    "\n",
    "In the code below, we’ll use ratio='majority' to resample the majority class.\n"
   ]
  },
  {
   "cell_type": "code",
   "execution_count": 762,
   "id": "e0dbfb0d",
   "metadata": {},
   "outputs": [],
   "source": [
    "# import library\n",
    "from imblearn.under_sampling import TomekLinks"
   ]
  },
  {
   "cell_type": "code",
   "execution_count": 763,
   "id": "fe462089",
   "metadata": {},
   "outputs": [],
   "source": [
    "#TomekLinks?"
   ]
  },
  {
   "cell_type": "code",
   "execution_count": 764,
   "id": "e00751a1",
   "metadata": {},
   "outputs": [
    {
     "name": "stdout",
     "output_type": "stream",
     "text": [
      "Original dataset shape for y  \n",
      " 0    284315\n",
      "1       492\n",
      "Name: Class, dtype: int64\n",
      "Resample dataset shape for y \n",
      " 0    198995\n",
      "1       356\n",
      "Name: Class, dtype: int64\n"
     ]
    }
   ],
   "source": [
    "t1 = TomekLinks(sampling_strategy='majority')\n",
    "\n",
    "# fit predictor and target variable\n",
    "x_t1, y_t1 = t1.fit_resample(x_train, y_train)\n",
    "\n",
    "print('Original dataset shape for y  \\n', y.Class.value_counts())\n",
    "print('Resample dataset shape for y \\n', y_t1.Class.value_counts())"
   ]
  },
  {
   "cell_type": "code",
   "execution_count": 765,
   "id": "6ca0da6e",
   "metadata": {},
   "outputs": [
    {
     "data": {
      "image/png": "[encoded data removed]",
      "text/plain": [
       "<Figure size 432x288 with 1 Axes>"
      ]
     },
     "metadata": {
      "needs_background": "light"
     },
     "output_type": "display_data"
    }
   ],
   "source": [
    "g = sns.countplot(y_t1['Class'])\n",
    "g.set_xticklabels(['Not Fraud','Fraud'])\n",
    "plt.show()"
   ]
  },
  {
   "cell_type": "markdown",
   "id": "4d9fbff8",
   "metadata": {},
   "source": [
    "### Parameter Search"
   ]
  },
  {
   "cell_type": "code",
   "execution_count": 766,
   "id": "b752acf0",
   "metadata": {
    "scrolled": true
   },
   "outputs": [
    {
     "data": {
      "text/plain": [
       "GridSearchCV(cv=10, estimator=LogisticRegression(max_iter=600),\n",
       "             param_grid={'C': [0.0, 0.1, 0.2, 0.3, 0.4, 0.5, 0.6, 0.7, 0.8, 0.9,\n",
       "                               1.0, 1.1, 1.2, 1.3, 1.4]},\n",
       "             scoring='accuracy')"
      ]
     },
     "execution_count": 766,
     "metadata": {},
     "output_type": "execute_result"
    }
   ],
   "source": [
    "clf.fit(x_t1, y_t1)"
   ]
  },
  {
   "cell_type": "code",
   "execution_count": 767,
   "id": "20213d43",
   "metadata": {},
   "outputs": [
    {
     "name": "stdout",
     "output_type": "stream",
     "text": [
      "{'C': 0.6}\n"
     ]
    }
   ],
   "source": [
    "print(clf.best_params_)"
   ]
  },
  {
   "cell_type": "markdown",
   "id": "0470da88",
   "metadata": {},
   "source": [
    "### Fitting the model"
   ]
  },
  {
   "cell_type": "code",
   "execution_count": 768,
   "id": "fdb53d81",
   "metadata": {},
   "outputs": [],
   "source": [
    "classifier5 = LogisticRegression(C = 0.1, max_iter = 600)\n",
    "model5 = classifier5.fit(x_t1, y_t1)"
   ]
  },
  {
   "cell_type": "markdown",
   "id": "0022b03b",
   "metadata": {},
   "source": [
    "### Evaluation"
   ]
  },
  {
   "cell_type": "code",
   "execution_count": 769,
   "id": "3f7b5142",
   "metadata": {},
   "outputs": [
    {
     "name": "stdout",
     "output_type": "stream",
     "text": [
      "Accuracy Score:  0.9991456292499094\n"
     ]
    }
   ],
   "source": [
    "prediction5 = model5.predict(x_test)\n",
    "print ('Accuracy Score: ', accuracy_score(y_test, prediction5))"
   ]
  },
  {
   "cell_type": "markdown",
   "id": "9a747de4",
   "metadata": {},
   "source": [
    "### Confusion Matrix"
   ]
  },
  {
   "cell_type": "code",
   "execution_count": 770,
   "id": "6617c082",
   "metadata": {},
   "outputs": [
    {
     "data": {
      "text/plain": [
       "array([[85289,    18],\n",
       "       [   55,    81]], dtype=int64)"
      ]
     },
     "execution_count": 770,
     "metadata": {},
     "output_type": "execute_result"
    }
   ],
   "source": [
    "confusion_matrix(y_test, prediction5)"
   ]
  },
  {
   "cell_type": "code",
   "execution_count": 771,
   "id": "e90beacb",
   "metadata": {},
   "outputs": [
    {
     "data": {
      "text/plain": [
       "<sklearn.metrics._plot.confusion_matrix.ConfusionMatrixDisplay at 0x1e63f09f520>"
      ]
     },
     "execution_count": 771,
     "metadata": {},
     "output_type": "execute_result"
    },
    {
     "data": {
      "image/png": "[encoded data removed]",
      "text/plain": [
       "<Figure size 432x288 with 2 Axes>"
      ]
     },
     "metadata": {
      "needs_background": "light"
     },
     "output_type": "display_data"
    }
   ],
   "source": [
    "plot_confusion_matrix(model5, x_test, y_test, cmap = 'Blues', display_labels = ['Normal', 'Fraud'])"
   ]
  },
  {
   "cell_type": "markdown",
   "id": "6fa4f0c1",
   "metadata": {},
   "source": [
    "### Classification Report"
   ]
  },
  {
   "cell_type": "code",
   "execution_count": 772,
   "id": "16f61b5a",
   "metadata": {},
   "outputs": [
    {
     "name": "stdout",
     "output_type": "stream",
     "text": [
      "              precision    recall  f1-score   support\n",
      "\n",
      "           0     0.9994    0.9998    0.9996     85307\n",
      "           1     0.8182    0.5956    0.6894       136\n",
      "\n",
      "    accuracy                         0.9991     85443\n",
      "   macro avg     0.9088    0.7977    0.8445     85443\n",
      "weighted avg     0.9991    0.9991    0.9991     85443\n",
      "\n"
     ]
    }
   ],
   "source": [
    "print(classification_report(y_test, prediction5, digits = 4))"
   ]
  },
  {
   "cell_type": "markdown",
   "id": "7d5f2727",
   "metadata": {},
   "source": [
    "### Precision Recall Curve"
   ]
  },
  {
   "cell_type": "code",
   "execution_count": 773,
   "id": "7d4168b2",
   "metadata": {},
   "outputs": [
    {
     "data": {
      "image/png": "[encoded data removed]",
      "text/plain": [
       "<Figure size 432x288 with 1 Axes>"
      ]
     },
     "metadata": {
      "needs_background": "light"
     },
     "output_type": "display_data"
    }
   ],
   "source": [
    "plot_precision_recall_curve(model5, x_test, y_test, name = '')\n",
    "plt.show()"
   ]
  },
  {
   "cell_type": "markdown",
   "id": "4e6932d1",
   "metadata": {},
   "source": [
    "### Reciever Operating Characteristic Curve"
   ]
  },
  {
   "cell_type": "code",
   "execution_count": 774,
   "id": "4d8f2610",
   "metadata": {},
   "outputs": [],
   "source": [
    "from sklearn.metrics import plot_roc_curve, plot_precision_recall_curve, roc_curve"
   ]
  },
  {
   "cell_type": "code",
   "execution_count": 775,
   "id": "76d8ec7d",
   "metadata": {},
   "outputs": [
    {
     "data": {
      "image/png": "[encoded data removed]",
      "text/plain": [
       "<Figure size 432x288 with 1 Axes>"
      ]
     },
     "metadata": {
      "needs_background": "light"
     },
     "output_type": "display_data"
    }
   ],
   "source": [
    "plot_roc_curve(model5, x_test, y_test, name = '')\n",
    "plt.show()\n",
    "#plt.plot([0,1], [0,1], c='b')"
   ]
  },
  {
   "cell_type": "code",
   "execution_count": null,
   "id": "da4e559b",
   "metadata": {},
   "outputs": [],
   "source": []
  }
 ],
 "metadata": {
  "kernelspec": {
   "display_name": "Python 3",
   "language": "python",
   "name": "python3"
  },
  "language_info": {
   "codemirror_mode": {
    "name": "ipython",
    "version": 3
   },
   "file_extension": ".py",
   "mimetype": "text/x-python",
   "name": "python",
   "nbconvert_exporter": "python",
   "pygments_lexer": "ipython3",
   "version": "3.8.8"
  }
 },
 "nbformat": 4,
 "nbformat_minor": 5
}
