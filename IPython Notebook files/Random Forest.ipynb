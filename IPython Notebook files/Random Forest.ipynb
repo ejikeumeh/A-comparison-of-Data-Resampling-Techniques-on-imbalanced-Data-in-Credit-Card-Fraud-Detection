{
 "cells": [
  {
   "cell_type": "markdown",
   "id": "35e8d773",
   "metadata": {},
   "source": [
    "# Application of Machine Learning Techniques in Credit Card Fraud Detection"
   ]
  },
  {
   "cell_type": "markdown",
   "id": "a7a09847",
   "metadata": {},
   "source": [
    "> **Random Forest**"
   ]
  },
  {
   "cell_type": "markdown",
   "id": "765a640a",
   "metadata": {},
   "source": [
    "**Random Forest** is a popular and versatile machine learning method that is capable of solving both regression and classification. Random Forest is a brand of Ensemble learning, as it relies on an ensemble of decision trees. It aggregates Classification (or Regression) Trees. A decision tree is composed of a series of decisions that can be used to classify an observation in a dataset.\n",
    "\n",
    "Random Forest fits a number of decision tree classifiers on various **sub-samples of the dataset** and use **averaging** to improve the predictive accuracy and control over-fitting. Random Forest can handle a large number of features, and is helpful for estimating which of your variables are important in the underlying data being modeled.\n"
   ]
  },
  {
   "cell_type": "code",
   "execution_count": 1,
   "id": "fc5510fb",
   "metadata": {},
   "outputs": [
    {
     "name": "stdout",
     "output_type": "stream",
     "text": [
      "All libraries imported\n"
     ]
    }
   ],
   "source": [
    "import numpy as np\n",
    "import pandas as pd\n",
    "import matplotlib.pyplot as plt\n",
    "import seaborn as sns\n",
    "%matplotlib inline\n",
    "from sklearn.datasets import load_iris \n",
    "import warnings\n",
    "warnings.filterwarnings('ignore')\n",
    "from collections import Counter\n",
    "print('All libraries imported')"
   ]
  },
  {
   "cell_type": "code",
   "execution_count": 2,
   "id": "bd1b3fe5",
   "metadata": {},
   "outputs": [],
   "source": [
    "from pandas_profiling import ProfileReport"
   ]
  },
  {
   "cell_type": "code",
   "execution_count": 3,
   "id": "41a4ab46",
   "metadata": {},
   "outputs": [],
   "source": [
    "data = pd.read_csv('creditcard.csv')"
   ]
  },
  {
   "cell_type": "code",
   "execution_count": 1,
   "id": "44e373cf",
   "metadata": {},
   "outputs": [],
   "source": [
    "#ProfileReport(data, title=\"Pandas Profiling Report\")"
   ]
  },
  {
   "cell_type": "markdown",
   "id": "ab3ecb27",
   "metadata": {},
   "source": [
    "# Data Pre-processing"
   ]
  },
  {
   "cell_type": "markdown",
   "id": "b8036f17",
   "metadata": {},
   "source": [
    "## Data Standardization"
   ]
  },
  {
   "cell_type": "markdown",
   "id": "026ceb30",
   "metadata": {},
   "source": [
    "Standardizing the features refers to rescaling the features so that they will have the properties of\n",
    "a standard normal distribution with a mean of 0 and standard deviation of 1. I performed standardization on the 'Amount' feature using\n",
    "StandardScalar in the scikit-learn library"
   ]
  },
  {
   "cell_type": "markdown",
   "id": "f752f8f1",
   "metadata": {},
   "source": [
    "### Before standardization"
   ]
  },
  {
   "cell_type": "code",
   "execution_count": 39,
   "id": "038bff2c",
   "metadata": {},
   "outputs": [
    {
     "data": {
      "text/plain": [
       "0         149.62\n",
       "1           2.69\n",
       "2         378.66\n",
       "3         123.50\n",
       "4          69.99\n",
       "           ...  \n",
       "284802      0.77\n",
       "284803     24.79\n",
       "284804     67.88\n",
       "284805     10.00\n",
       "284806    217.00\n",
       "Name: Amount, Length: 284807, dtype: float64"
      ]
     },
     "execution_count": 39,
     "metadata": {},
     "output_type": "execute_result"
    }
   ],
   "source": [
    "data['Amount']"
   ]
  },
  {
   "cell_type": "code",
   "execution_count": 40,
   "id": "6087b5d4",
   "metadata": {},
   "outputs": [],
   "source": [
    "from sklearn.preprocessing import StandardScaler\n",
    "data[['Amount']] = StandardScaler().fit_transform(data[['Amount']])"
   ]
  },
  {
   "cell_type": "markdown",
   "id": "66aae5ad",
   "metadata": {},
   "source": [
    "### After standardization"
   ]
  },
  {
   "cell_type": "code",
   "execution_count": 41,
   "id": "3b9ea168",
   "metadata": {},
   "outputs": [
    {
     "data": {
      "text/plain": [
       "0         0.244964\n",
       "1        -0.342475\n",
       "2         1.160686\n",
       "3         0.140534\n",
       "4        -0.073403\n",
       "            ...   \n",
       "284802   -0.350151\n",
       "284803   -0.254117\n",
       "284804   -0.081839\n",
       "284805   -0.313249\n",
       "284806    0.514355\n",
       "Name: Amount, Length: 284807, dtype: float64"
      ]
     },
     "execution_count": 41,
     "metadata": {},
     "output_type": "execute_result"
    }
   ],
   "source": [
    "data['Amount']"
   ]
  },
  {
   "cell_type": "markdown",
   "id": "7a56f648",
   "metadata": {},
   "source": [
    "## Data Splittig using Random seed"
   ]
  },
  {
   "cell_type": "markdown",
   "id": "11ea3d09",
   "metadata": {},
   "source": [
    "A random seed is used to ensure the same data split each time the code is excecuted."
   ]
  },
  {
   "cell_type": "code",
   "execution_count": 42,
   "id": "3229ba9e",
   "metadata": {},
   "outputs": [],
   "source": [
    "from sklearn.model_selection import train_test_split"
   ]
  },
  {
   "cell_type": "code",
   "execution_count": 43,
   "id": "cafbdfec",
   "metadata": {},
   "outputs": [],
   "source": [
    "x = data.drop(\"Class\", axis =1)\n",
    "y = data[[\"Class\"]]"
   ]
  },
  {
   "cell_type": "code",
   "execution_count": 44,
   "id": "d0491a98",
   "metadata": {},
   "outputs": [
    {
     "data": {
      "text/plain": [
       "(284807, 30)"
      ]
     },
     "execution_count": 44,
     "metadata": {},
     "output_type": "execute_result"
    }
   ],
   "source": [
    "x.shape"
   ]
  },
  {
   "cell_type": "code",
   "execution_count": 45,
   "id": "c9716a96",
   "metadata": {},
   "outputs": [
    {
     "data": {
      "text/plain": [
       "(284807, 1)"
      ]
     },
     "execution_count": 45,
     "metadata": {},
     "output_type": "execute_result"
    }
   ],
   "source": [
    "y.shape"
   ]
  },
  {
   "cell_type": "code",
   "execution_count": 46,
   "id": "1f247d0c",
   "metadata": {},
   "outputs": [],
   "source": [
    "x_train, x_test, y_train, y_test = train_test_split(x, y, test_size = 0.30, random_state = 42) # x = features, y = target"
   ]
  },
  {
   "cell_type": "code",
   "execution_count": 47,
   "id": "3a5f921e",
   "metadata": {},
   "outputs": [
    {
     "data": {
      "text/plain": [
       "(199364, 30)"
      ]
     },
     "execution_count": 47,
     "metadata": {},
     "output_type": "execute_result"
    }
   ],
   "source": [
    "x_train.shape"
   ]
  },
  {
   "cell_type": "code",
   "execution_count": 48,
   "id": "33e72946",
   "metadata": {},
   "outputs": [
    {
     "data": {
      "text/plain": [
       "(199364, 1)"
      ]
     },
     "execution_count": 48,
     "metadata": {},
     "output_type": "execute_result"
    }
   ],
   "source": [
    "y_train.shape"
   ]
  },
  {
   "cell_type": "code",
   "execution_count": 49,
   "id": "e14de9da",
   "metadata": {},
   "outputs": [
    {
     "data": {
      "text/plain": [
       "(85443, 30)"
      ]
     },
     "execution_count": 49,
     "metadata": {},
     "output_type": "execute_result"
    }
   ],
   "source": [
    "x_test.shape"
   ]
  },
  {
   "cell_type": "code",
   "execution_count": 50,
   "id": "98885ba5",
   "metadata": {},
   "outputs": [
    {
     "data": {
      "text/plain": [
       "(85443, 1)"
      ]
     },
     "execution_count": 50,
     "metadata": {},
     "output_type": "execute_result"
    }
   ],
   "source": [
    "y_test.shape"
   ]
  },
  {
   "cell_type": "markdown",
   "id": "997792cd",
   "metadata": {},
   "source": [
    "## Data Resampling"
   ]
  },
  {
   "cell_type": "markdown",
   "id": "a038d1d9",
   "metadata": {},
   "source": [
    "The dataset is highly unbalanced. To tackle this problem, I used resampling techniques such as: <br>\n",
    "\n",
    "-  **Random Undersampling**\n",
    "-  **Random Oversampling** .\n",
    "-  **SMOTE**  <br>\n",
    "-  **Under-Sampling: Tomek Links Removal**  \n",
    "-  **Combination of SMOTE and undersampling**<br>\n",
    "\n",
    "Implemented these on the training data separately to make it balanced <br>\n",
    "\n",
    "However as a control we will run the model first with no resmapling techiniques and ananlyze the results, this will be done with the other algorithms. \n"
   ]
  },
  {
   "cell_type": "markdown",
   "id": "a1c39af5",
   "metadata": {},
   "source": [
    "## 1. Random Forest with no Resampling"
   ]
  },
  {
   "cell_type": "markdown",
   "id": "958a449b",
   "metadata": {},
   "source": [
    "## Hyper parameter search for Logistic Regression"
   ]
  },
  {
   "cell_type": "code",
   "execution_count": 55,
   "id": "b1075b0d",
   "metadata": {},
   "outputs": [],
   "source": [
    "from sklearn.ensemble import RandomForestClassifier\n",
    "from sklearn.model_selection import GridSearchCV\n",
    "from sklearn.model_selection import RandomizedSearchCV\n",
    "from sklearn import metrics\n",
    "from sklearn.svm import SVC"
   ]
  },
  {
   "cell_type": "code",
   "execution_count": 56,
   "id": "49ecd6cd",
   "metadata": {},
   "outputs": [],
   "source": [
    "rfc = RandomForestClassifier(random_state = 42)"
   ]
  },
  {
   "cell_type": "code",
   "execution_count": 57,
   "id": "2d2df22d",
   "metadata": {},
   "outputs": [],
   "source": [
    "random_params = { \n",
    "    'n_estimators': [200, 300, 400, 500, 600],\n",
    "    'max_features': ['auto', 'sqrt', 'log2'],\n",
    "}"
   ]
  },
  {
   "cell_type": "code",
   "execution_count": 58,
   "id": "53238035",
   "metadata": {},
   "outputs": [],
   "source": [
    "clf = GridSearchCV(rfc, param_grid = random_params, cv = 10, scoring ='accuracy')"
   ]
  },
  {
   "cell_type": "code",
   "execution_count": 60,
   "id": "2c684916",
   "metadata": {},
   "outputs": [],
   "source": [
    "rnd_search = RandomizedSearchCV(rfc, random_params, cv = 10, scoring = 'accuracy')"
   ]
  },
  {
   "cell_type": "code",
   "execution_count": 21,
   "id": "9f78e345",
   "metadata": {},
   "outputs": [],
   "source": [
    "clf.fit(x_train, y_train)"
   ]
  },
  {
   "cell_type": "code",
   "execution_count": 21,
   "id": "f77ede3f",
   "metadata": {},
   "outputs": [
    {
     "name": "stdout",
     "output_type": "stream",
     "text": [
      "{'max_features': 'log2', 'n_estimators': 400}\n"
     ]
    }
   ],
   "source": [
    "print(clf.best_params_)"
   ]
  },
  {
   "cell_type": "markdown",
   "id": "a466e976",
   "metadata": {},
   "source": [
    "### Fitting the model"
   ]
  },
  {
   "cell_type": "code",
   "execution_count": 24,
   "id": "adbf46f8",
   "metadata": {},
   "outputs": [],
   "source": [
    "classifier1 = RandomForestClassifier(max_features = 'log2', n_estimators = 400)\n",
    "model1 = classifier1.fit(x_train, y_train)\n",
    "\n",
    "#params = model1.get_params()\n",
    "#params"
   ]
  },
  {
   "cell_type": "markdown",
   "id": "011c1023",
   "metadata": {},
   "source": [
    "## Evaluation"
   ]
  },
  {
   "cell_type": "code",
   "execution_count": 30,
   "id": "3de5d4c0",
   "metadata": {},
   "outputs": [],
   "source": [
    "from sklearn.metrics import accuracy_score"
   ]
  },
  {
   "cell_type": "code",
   "execution_count": 32,
   "id": "ff22fd0a",
   "metadata": {},
   "outputs": [
    {
     "name": "stdout",
     "output_type": "stream",
     "text": [
      "Accuracy Score:  0.9996137776061234\n"
     ]
    }
   ],
   "source": [
    "prediction1 = model1.predict(x_test)\n",
    "print ('Accuracy Score: ', accuracy_score(y_test, prediction1))"
   ]
  },
  {
   "cell_type": "markdown",
   "id": "37ccfc25",
   "metadata": {},
   "source": [
    "### Confusion Matrix"
   ]
  },
  {
   "cell_type": "code",
   "execution_count": 33,
   "id": "9f6abf54",
   "metadata": {},
   "outputs": [],
   "source": [
    "from sklearn.metrics import plot_confusion_matrix, confusion_matrix"
   ]
  },
  {
   "cell_type": "code",
   "execution_count": 34,
   "id": "93ba0a4c",
   "metadata": {},
   "outputs": [
    {
     "data": {
      "text/plain": [
       "array([[85301,     6],\n",
       "       [   27,   109]], dtype=int64)"
      ]
     },
     "execution_count": 34,
     "metadata": {},
     "output_type": "execute_result"
    }
   ],
   "source": [
    "confusion_matrix(y_test, prediction1)"
   ]
  },
  {
   "cell_type": "code",
   "execution_count": 35,
   "id": "6214ae97",
   "metadata": {},
   "outputs": [
    {
     "data": {
      "text/plain": [
       "<sklearn.metrics._plot.confusion_matrix.ConfusionMatrixDisplay at 0x1f3ea78ba00>"
      ]
     },
     "execution_count": 35,
     "metadata": {},
     "output_type": "execute_result"
    },
    {
     "data": {
      "image/png": "[encoded data removed]",
      "text/plain": [
       "<Figure size 432x288 with 2 Axes>"
      ]
     },
     "metadata": {
      "needs_background": "light"
     },
     "output_type": "display_data"
    }
   ],
   "source": [
    "plot_confusion_matrix(model1, x_test, y_test, cmap = 'Blues', display_labels = ['Normal', 'Fraud'])"
   ]
  },
  {
   "cell_type": "markdown",
   "id": "7c5ff2a0",
   "metadata": {},
   "source": [
    "### Classification Report"
   ]
  },
  {
   "cell_type": "code",
   "execution_count": 74,
   "id": "f1403b87",
   "metadata": {},
   "outputs": [],
   "source": [
    "from sklearn.metrics import classification_report"
   ]
  },
  {
   "cell_type": "code",
   "execution_count": 37,
   "id": "80e4131a",
   "metadata": {},
   "outputs": [
    {
     "name": "stdout",
     "output_type": "stream",
     "text": [
      "              precision    recall  f1-score   support\n",
      "\n",
      "           0     0.9997    0.9999    0.9998     85307\n",
      "           1     0.9478    0.8015    0.8685       136\n",
      "\n",
      "    accuracy                         0.9996     85443\n",
      "   macro avg     0.9738    0.9007    0.9342     85443\n",
      "weighted avg     0.9996    0.9996    0.9996     85443\n",
      "\n"
     ]
    }
   ],
   "source": [
    "print(classification_report(y_test, prediction1, digits=4)) "
   ]
  },
  {
   "cell_type": "markdown",
   "id": "9591ae03",
   "metadata": {},
   "source": [
    "### Precision-Recall Curve"
   ]
  },
  {
   "cell_type": "code",
   "execution_count": 38,
   "id": "5f38180f",
   "metadata": {},
   "outputs": [],
   "source": [
    "from sklearn.metrics import precision_recall_curve, plot_precision_recall_curve"
   ]
  },
  {
   "cell_type": "code",
   "execution_count": 39,
   "id": "ddbc7311",
   "metadata": {},
   "outputs": [],
   "source": [
    "precision, recall, thresholds = precision_recall_curve(y_test, prediction1)"
   ]
  },
  {
   "cell_type": "code",
   "execution_count": 40,
   "id": "9deb4ec5",
   "metadata": {},
   "outputs": [
    {
     "data": {
      "image/png": "[encoded data removed]",
      "text/plain": [
       "<Figure size 432x288 with 1 Axes>"
      ]
     },
     "metadata": {
      "needs_background": "light"
     },
     "output_type": "display_data"
    }
   ],
   "source": [
    "plot_precision_recall_curve(model1, x_test, y_test, name = '')\n",
    "plt.show()"
   ]
  },
  {
   "cell_type": "markdown",
   "id": "f3bf21fc",
   "metadata": {},
   "source": [
    "Area Under Precision Recall Curve = 0.87"
   ]
  },
  {
   "cell_type": "markdown",
   "id": "b7ead46c",
   "metadata": {},
   "source": [
    "### Reciever Operating Characteristic Curve (ROC)"
   ]
  },
  {
   "cell_type": "code",
   "execution_count": 34,
   "id": "16829361",
   "metadata": {},
   "outputs": [],
   "source": [
    "from sklearn.metrics import plot_roc_curve, roc_curve"
   ]
  },
  {
   "cell_type": "code",
   "execution_count": 37,
   "id": "104877b6",
   "metadata": {},
   "outputs": [
    {
     "data": {
      "image/png": "[encoded data removed]",
      "text/plain": [
       "<Figure size 432x288 with 1 Axes>"
      ]
     },
     "metadata": {
      "needs_background": "light"
     },
     "output_type": "display_data"
    }
   ],
   "source": [
    "plot_roc_curve(model1, x_test, y_test, name = '')\n",
    "plt.show()"
   ]
  },
  {
   "cell_type": "markdown",
   "id": "09262d55",
   "metadata": {},
   "source": [
    "Area under ROC (AUROC)  = 0.97"
   ]
  },
  {
   "cell_type": "markdown",
   "id": "7d1fef65",
   "metadata": {},
   "source": [
    "# 2. Random Forest with Random Under Sampling"
   ]
  },
  {
   "cell_type": "code",
   "execution_count": 38,
   "id": "950ab11c",
   "metadata": {},
   "outputs": [],
   "source": [
    "from imblearn import under_sampling"
   ]
  },
  {
   "cell_type": "code",
   "execution_count": 39,
   "id": "16a5ae31",
   "metadata": {},
   "outputs": [],
   "source": [
    "from imblearn.under_sampling import RandomUnderSampler"
   ]
  },
  {
   "cell_type": "code",
   "execution_count": 46,
   "id": "7e46e2e6",
   "metadata": {},
   "outputs": [],
   "source": [
    "rus = RandomUnderSampler()\n",
    "x_under, y_under = rus.fit_resample(x_train, y_train)"
   ]
  },
  {
   "cell_type": "code",
   "execution_count": 47,
   "id": "91a4b3da",
   "metadata": {},
   "outputs": [
    {
     "data": {
      "text/plain": [
       "(712, 30)"
      ]
     },
     "execution_count": 47,
     "metadata": {},
     "output_type": "execute_result"
    }
   ],
   "source": [
    "x_under.shape"
   ]
  },
  {
   "cell_type": "code",
   "execution_count": 45,
   "id": "6018b9d9",
   "metadata": {},
   "outputs": [
    {
     "data": {
      "text/plain": [
       "(712, 1)"
      ]
     },
     "execution_count": 45,
     "metadata": {},
     "output_type": "execute_result"
    }
   ],
   "source": [
    "y_under.shape"
   ]
  },
  {
   "cell_type": "code",
   "execution_count": 48,
   "id": "66cb3447",
   "metadata": {},
   "outputs": [
    {
     "data": {
      "text/plain": [
       "0    356\n",
       "1    356\n",
       "Name: Class, dtype: int64"
      ]
     },
     "execution_count": 48,
     "metadata": {},
     "output_type": "execute_result"
    }
   ],
   "source": [
    "y_under.Class.value_counts()"
   ]
  },
  {
   "cell_type": "code",
   "execution_count": 49,
   "id": "c443b0af",
   "metadata": {},
   "outputs": [
    {
     "data": {
      "image/png": "[encoded data removed]",
      "text/plain": [
       "<Figure size 432x288 with 1 Axes>"
      ]
     },
     "metadata": {
      "needs_background": "light"
     },
     "output_type": "display_data"
    }
   ],
   "source": [
    "g = sns.countplot(y_under['Class'])\n",
    "g.set_xticklabels(['Not Fraud','Fraud'])\n",
    "plt.show()"
   ]
  },
  {
   "cell_type": "markdown",
   "id": "6dcd237d",
   "metadata": {},
   "source": [
    "Both majority and minority samples are now equal with 356 instances"
   ]
  },
  {
   "cell_type": "markdown",
   "id": "c8219e56",
   "metadata": {},
   "source": [
    "### Parameter search "
   ]
  },
  {
   "cell_type": "markdown",
   "id": "7a1b4513",
   "metadata": {},
   "source": [
    "Using the already created GridSearchCV, we will fit it with the new under sampled feature and target variables and find the best total tree and max features values from the initial list above"
   ]
  },
  {
   "cell_type": "code",
   "execution_count": 58,
   "id": "4db50c39",
   "metadata": {},
   "outputs": [
    {
     "data": {
      "text/plain": [
       "GridSearchCV(cv=10, estimator=RandomForestClassifier(random_state=42),\n",
       "             param_grid={'max_features': ['auto', 'sqrt', 'log2'],\n",
       "                         'n_estimators': [200, 300, 400, 500]},\n",
       "             scoring='accuracy')"
      ]
     },
     "execution_count": 58,
     "metadata": {},
     "output_type": "execute_result"
    }
   ],
   "source": [
    "clf.fit(x_under, y_under)"
   ]
  },
  {
   "cell_type": "code",
   "execution_count": 59,
   "id": "a1b08c67",
   "metadata": {},
   "outputs": [
    {
     "name": "stdout",
     "output_type": "stream",
     "text": [
      "{'max_features': 'auto', 'n_estimators': 200}\n"
     ]
    }
   ],
   "source": [
    "print(clf.best_params_)"
   ]
  },
  {
   "cell_type": "markdown",
   "id": "229cc7c8",
   "metadata": {},
   "source": [
    "### Fitting the Model"
   ]
  },
  {
   "cell_type": "code",
   "execution_count": 60,
   "id": "aac126f1",
   "metadata": {},
   "outputs": [],
   "source": [
    "classifier2 =RandomForestClassifier(max_features = 'auto', n_estimators = 200)\n",
    "model2 = classifier2.fit(x_under, y_under)\n"
   ]
  },
  {
   "cell_type": "markdown",
   "id": "27d53c3e",
   "metadata": {},
   "source": [
    "### Evaluation"
   ]
  },
  {
   "cell_type": "code",
   "execution_count": 61,
   "id": "4eb9adb7",
   "metadata": {},
   "outputs": [
    {
     "name": "stdout",
     "output_type": "stream",
     "text": [
      "Accuracy Score:  0.9692777641234507\n"
     ]
    }
   ],
   "source": [
    "prediction2 = model2.predict(x_test)\n",
    "print ('Accuracy Score: ', accuracy_score(y_test, prediction2))"
   ]
  },
  {
   "cell_type": "markdown",
   "id": "d8bf2172",
   "metadata": {},
   "source": [
    "### Confusion Matrix"
   ]
  },
  {
   "cell_type": "code",
   "execution_count": 62,
   "id": "b29746a4",
   "metadata": {},
   "outputs": [
    {
     "data": {
      "text/plain": [
       "array([[82692,  2615],\n",
       "       [   10,   126]], dtype=int64)"
      ]
     },
     "execution_count": 62,
     "metadata": {},
     "output_type": "execute_result"
    }
   ],
   "source": [
    "confusion_matrix(y_test, prediction2)"
   ]
  },
  {
   "cell_type": "code",
   "execution_count": 63,
   "id": "735e4d6a",
   "metadata": {},
   "outputs": [
    {
     "data": {
      "text/plain": [
       "<sklearn.metrics._plot.confusion_matrix.ConfusionMatrixDisplay at 0x252c96614f0>"
      ]
     },
     "execution_count": 63,
     "metadata": {},
     "output_type": "execute_result"
    },
    {
     "data": {
      "image/png": "[encoded data removed]",
      "text/plain": [
       "<Figure size 432x288 with 2 Axes>"
      ]
     },
     "metadata": {
      "needs_background": "light"
     },
     "output_type": "display_data"
    }
   ],
   "source": [
    "plot_confusion_matrix(model2, x_test, y_test, cmap = 'Blues', display_labels = ['Normal', 'Fraud'])"
   ]
  },
  {
   "cell_type": "markdown",
   "id": "43387c35",
   "metadata": {},
   "source": [
    "### Classification Report"
   ]
  },
  {
   "cell_type": "code",
   "execution_count": 64,
   "id": "ac334497",
   "metadata": {},
   "outputs": [
    {
     "name": "stdout",
     "output_type": "stream",
     "text": [
      "              precision    recall  f1-score   support\n",
      "\n",
      "           0     0.9999    0.9693    0.9844     85307\n",
      "           1     0.0460    0.9265    0.0876       136\n",
      "\n",
      "    accuracy                         0.9693     85443\n",
      "   macro avg     0.5229    0.9479    0.5360     85443\n",
      "weighted avg     0.9984    0.9693    0.9829     85443\n",
      "\n"
     ]
    }
   ],
   "source": [
    "print(classification_report(y_test, prediction2, digits = 4))"
   ]
  },
  {
   "cell_type": "markdown",
   "id": "0c1f7152",
   "metadata": {},
   "source": [
    "### Precision-Recall Curve"
   ]
  },
  {
   "cell_type": "code",
   "execution_count": 65,
   "id": "1794d5db",
   "metadata": {},
   "outputs": [],
   "source": [
    "precision, recall, thresholds = precision_recall_curve(y_test, prediction2)"
   ]
  },
  {
   "cell_type": "code",
   "execution_count": 66,
   "id": "ebaf1f01",
   "metadata": {},
   "outputs": [
    {
     "data": {
      "text/plain": [
       "array([0.0015917 , 0.04596862, 1.        ])"
      ]
     },
     "execution_count": 66,
     "metadata": {},
     "output_type": "execute_result"
    }
   ],
   "source": [
    "precision"
   ]
  },
  {
   "cell_type": "code",
   "execution_count": 67,
   "id": "af717f91",
   "metadata": {},
   "outputs": [
    {
     "data": {
      "text/plain": [
       "array([1.        , 0.92647059, 0.        ])"
      ]
     },
     "execution_count": 67,
     "metadata": {},
     "output_type": "execute_result"
    }
   ],
   "source": [
    "recall"
   ]
  },
  {
   "cell_type": "code",
   "execution_count": 68,
   "id": "f23279cb",
   "metadata": {},
   "outputs": [
    {
     "data": {
      "image/png": "[encoded data removed]",
      "text/plain": [
       "<Figure size 432x288 with 1 Axes>"
      ]
     },
     "metadata": {
      "needs_background": "light"
     },
     "output_type": "display_data"
    }
   ],
   "source": [
    "plot_precision_recall_curve(model2, x_test, y_test, name = '')\n",
    "plt.show()"
   ]
  },
  {
   "cell_type": "markdown",
   "id": "3ce5d84a",
   "metadata": {},
   "source": [
    "Area Under Precision Recall Curve = 0.75"
   ]
  },
  {
   "cell_type": "markdown",
   "id": "d433a2a3",
   "metadata": {},
   "source": [
    "### Reciever Operating Characteristic Curve (ROC)"
   ]
  },
  {
   "cell_type": "code",
   "execution_count": 69,
   "id": "daf86626",
   "metadata": {},
   "outputs": [
    {
     "data": {
      "image/png": "[encoded data removed]",
      "text/plain": [
       "<Figure size 432x288 with 1 Axes>"
      ]
     },
     "metadata": {
      "needs_background": "light"
     },
     "output_type": "display_data"
    }
   ],
   "source": [
    "plot_roc_curve(model2, x_test, y_test, name = '')\n",
    "plt.show()"
   ]
  },
  {
   "cell_type": "markdown",
   "id": "b4bf5e5a",
   "metadata": {},
   "source": [
    "Area under ROC (AUROC)  = 0.98"
   ]
  },
  {
   "cell_type": "markdown",
   "id": "21fc23c3",
   "metadata": {},
   "source": [
    "# 3. Random Forest with Random Over Sampling"
   ]
  },
  {
   "cell_type": "code",
   "execution_count": 44,
   "id": "0a8fd254",
   "metadata": {},
   "outputs": [],
   "source": [
    "from imblearn.over_sampling import RandomOverSampler"
   ]
  },
  {
   "cell_type": "code",
   "execution_count": 45,
   "id": "1ae2dbb4",
   "metadata": {},
   "outputs": [],
   "source": [
    "ros = RandomOverSampler(random_state = 0)\n",
    "x_over, y_over = ros.fit_resample(x_train,y_train)"
   ]
  },
  {
   "cell_type": "code",
   "execution_count": 46,
   "id": "36c576a5",
   "metadata": {},
   "outputs": [
    {
     "data": {
      "text/plain": [
       "(398016, 30)"
      ]
     },
     "execution_count": 46,
     "metadata": {},
     "output_type": "execute_result"
    }
   ],
   "source": [
    "x_over.shape"
   ]
  },
  {
   "cell_type": "code",
   "execution_count": 47,
   "id": "4e2d8216",
   "metadata": {},
   "outputs": [
    {
     "data": {
      "text/plain": [
       "(398016, 1)"
      ]
     },
     "execution_count": 47,
     "metadata": {},
     "output_type": "execute_result"
    }
   ],
   "source": [
    "y_over.shape"
   ]
  },
  {
   "cell_type": "code",
   "execution_count": 48,
   "id": "0a365825",
   "metadata": {},
   "outputs": [
    {
     "data": {
      "text/plain": [
       "0    199008\n",
       "1    199008\n",
       "Name: Class, dtype: int64"
      ]
     },
     "execution_count": 48,
     "metadata": {},
     "output_type": "execute_result"
    }
   ],
   "source": [
    "y_over.Class.value_counts()"
   ]
  },
  {
   "cell_type": "code",
   "execution_count": 49,
   "id": "6db4a77d",
   "metadata": {},
   "outputs": [
    {
     "data": {
      "text/plain": [
       "0    199008\n",
       "1       356\n",
       "Name: Class, dtype: int64"
      ]
     },
     "execution_count": 49,
     "metadata": {},
     "output_type": "execute_result"
    }
   ],
   "source": [
    "y_train.Class.value_counts()"
   ]
  },
  {
   "cell_type": "code",
   "execution_count": 50,
   "id": "c02c10e7",
   "metadata": {},
   "outputs": [
    {
     "data": {
      "image/png": "[encoded data removed]",
      "text/plain": [
       "<Figure size 432x288 with 1 Axes>"
      ]
     },
     "metadata": {
      "needs_background": "light"
     },
     "output_type": "display_data"
    }
   ],
   "source": [
    "g = sns.countplot(y_over['Class'])\n",
    "g.set_xticklabels(['Not Fraud','Fraud'])\n",
    "plt.show()"
   ]
  },
  {
   "cell_type": "markdown",
   "id": "2c79c93e",
   "metadata": {},
   "source": [
    "### Parameter Search"
   ]
  },
  {
   "cell_type": "code",
   "execution_count": 80,
   "id": "846f80e3",
   "metadata": {},
   "outputs": [
    {
     "data": {
      "text/plain": [
       "GridSearchCV(cv=10, estimator=RandomForestClassifier(random_state=42),\n",
       "             param_grid={'max_features': ['auto', 'sqrt', 'log2'],\n",
       "                         'n_estimators': [200, 300, 400, 500]},\n",
       "             scoring='accuracy')"
      ]
     },
     "execution_count": 80,
     "metadata": {},
     "output_type": "execute_result"
    }
   ],
   "source": [
    "clf.fit(x_over, y_over)"
   ]
  },
  {
   "cell_type": "code",
   "execution_count": 81,
   "id": "25bba8cb",
   "metadata": {},
   "outputs": [
    {
     "name": "stdout",
     "output_type": "stream",
     "text": [
      "{'max_features': 'auto', 'n_estimators': 200}\n"
     ]
    }
   ],
   "source": [
    "print(clf.best_params_)"
   ]
  },
  {
   "cell_type": "markdown",
   "id": "3f960bb2",
   "metadata": {},
   "source": [
    "### Fitting the model"
   ]
  },
  {
   "cell_type": "code",
   "execution_count": 51,
   "id": "ee0e6202",
   "metadata": {},
   "outputs": [],
   "source": [
    "classifier3 = RandomForestClassifier(max_features ='auto', n_estimators =  200)\n",
    "model3 = classifier3.fit(x_over, y_over)"
   ]
  },
  {
   "cell_type": "markdown",
   "id": "23353613",
   "metadata": {},
   "source": [
    "### Evaluation"
   ]
  },
  {
   "cell_type": "code",
   "execution_count": 52,
   "id": "f3c99b11",
   "metadata": {},
   "outputs": [
    {
     "name": "stdout",
     "output_type": "stream",
     "text": [
      "Accuracy Score:  0.9996254813150287\n"
     ]
    }
   ],
   "source": [
    "prediction3 = model3.predict(x_test)\n",
    "print ('Accuracy Score: ', accuracy_score(y_test, prediction3))"
   ]
  },
  {
   "cell_type": "markdown",
   "id": "4afb3660",
   "metadata": {},
   "source": [
    "### Confusion Matrix "
   ]
  },
  {
   "cell_type": "code",
   "execution_count": 53,
   "id": "1218dac1",
   "metadata": {},
   "outputs": [
    {
     "data": {
      "text/plain": [
       "array([[85302,     5],\n",
       "       [   27,   109]], dtype=int64)"
      ]
     },
     "execution_count": 53,
     "metadata": {},
     "output_type": "execute_result"
    }
   ],
   "source": [
    "confusion_matrix(y_test, prediction3)"
   ]
  },
  {
   "cell_type": "code",
   "execution_count": 54,
   "id": "dd862943",
   "metadata": {},
   "outputs": [
    {
     "data": {
      "text/plain": [
       "<sklearn.metrics._plot.confusion_matrix.ConfusionMatrixDisplay at 0x1cb5ad49fa0>"
      ]
     },
     "execution_count": 54,
     "metadata": {},
     "output_type": "execute_result"
    },
    {
     "data": {
      "image/png": "[encoded data removed]",
      "text/plain": [
       "<Figure size 432x288 with 2 Axes>"
      ]
     },
     "metadata": {
      "needs_background": "light"
     },
     "output_type": "display_data"
    }
   ],
   "source": [
    "plot_confusion_matrix(model3, x_test, y_test, cmap = 'Blues', display_labels = ['Normal', 'Fraud'])"
   ]
  },
  {
   "cell_type": "markdown",
   "id": "902497db",
   "metadata": {},
   "source": [
    "### Classification report"
   ]
  },
  {
   "cell_type": "code",
   "execution_count": 55,
   "id": "df8c4173",
   "metadata": {},
   "outputs": [
    {
     "name": "stdout",
     "output_type": "stream",
     "text": [
      "              precision    recall  f1-score   support\n",
      "\n",
      "           0     0.9997    0.9999    0.9998     85307\n",
      "           1     0.9561    0.8015    0.8720       136\n",
      "\n",
      "    accuracy                         0.9996     85443\n",
      "   macro avg     0.9779    0.9007    0.9359     85443\n",
      "weighted avg     0.9996    0.9996    0.9996     85443\n",
      "\n"
     ]
    }
   ],
   "source": [
    "print(classification_report(y_test, prediction3, digits = 4))"
   ]
  },
  {
   "cell_type": "markdown",
   "id": "eb85a332",
   "metadata": {},
   "source": [
    "### Precision-Recall Curve"
   ]
  },
  {
   "cell_type": "code",
   "execution_count": 59,
   "id": "8549d936",
   "metadata": {},
   "outputs": [],
   "source": [
    "precision, recall, thresholds = precision_recall_curve(y_test, prediction3)"
   ]
  },
  {
   "cell_type": "code",
   "execution_count": 60,
   "id": "45655c4e",
   "metadata": {},
   "outputs": [
    {
     "data": {
      "image/png": "[encoded data removed]",
      "text/plain": [
       "<Figure size 432x288 with 1 Axes>"
      ]
     },
     "metadata": {
      "needs_background": "light"
     },
     "output_type": "display_data"
    }
   ],
   "source": [
    "plot_precision_recall_curve(model3, x_test, y_test, name = '')\n",
    "plt.show()"
   ]
  },
  {
   "cell_type": "markdown",
   "id": "cff783e5",
   "metadata": {},
   "source": [
    "Area Under Precsion-Recall Curve = 0.88"
   ]
  },
  {
   "cell_type": "markdown",
   "id": "eed47efc",
   "metadata": {},
   "source": [
    "### Reciever Operating Characteristic Curve (ROC)"
   ]
  },
  {
   "cell_type": "code",
   "execution_count": 92,
   "id": "190a0cff",
   "metadata": {},
   "outputs": [
    {
     "data": {
      "image/png": "[encoded data removed]",
      "text/plain": [
       "<Figure size 432x288 with 1 Axes>"
      ]
     },
     "metadata": {
      "needs_background": "light"
     },
     "output_type": "display_data"
    }
   ],
   "source": [
    "plot_roc_curve(model3, x_test, y_test, name = '')\n",
    "plt.show()"
   ]
  },
  {
   "cell_type": "markdown",
   "id": "a92709f2",
   "metadata": {},
   "source": [
    "AUROC = 0.97"
   ]
  },
  {
   "cell_type": "markdown",
   "id": "24b3424e",
   "metadata": {},
   "source": [
    "# 4. Random Forest with Synthetic Minority Oversampling Technique SMOTE "
   ]
  },
  {
   "cell_type": "code",
   "execution_count": 23,
   "id": "8d1f0641",
   "metadata": {},
   "outputs": [],
   "source": [
    "from imblearn.over_sampling import SMOTE "
   ]
  },
  {
   "cell_type": "code",
   "execution_count": 19,
   "id": "2d1b5edc",
   "metadata": {},
   "outputs": [
    {
     "name": "stdout",
     "output_type": "stream",
     "text": [
      "Original dataset shape for y  \n",
      " 0    284315\n",
      "1       492\n",
      "Name: Class, dtype: int64\n",
      "Resample dataset shape for y \n",
      " 0    199008\n",
      "1    199008\n",
      "Name: Class, dtype: int64\n"
     ]
    }
   ],
   "source": [
    "smt = SMOTE(random_state = 0)\n",
    "\n",
    "# fit predictor and target variable\n",
    "x_train_SMOTE, y_train_SMOTE = smt.fit_resample(x_train, y_train)\n",
    "print('Original dataset shape for y  \\n', y.Class.value_counts())\n",
    "print('Resample dataset shape for y \\n', y_train_SMOTE.Class.value_counts())"
   ]
  },
  {
   "cell_type": "code",
   "execution_count": 24,
   "id": "b1c562ad",
   "metadata": {},
   "outputs": [
    {
     "data": {
      "image/png": "[encoded data removed]",
      "text/plain": [
       "<Figure size 432x288 with 1 Axes>"
      ]
     },
     "metadata": {
      "needs_background": "light"
     },
     "output_type": "display_data"
    }
   ],
   "source": [
    "g = sns.countplot(y_train_SMOTE['Class'])\n",
    "g.set_xticklabels(['Not Fraud','Fraud'])\n",
    "plt.show()"
   ]
  },
  {
   "cell_type": "markdown",
   "id": "b97a98c9",
   "metadata": {},
   "source": [
    "### Parameter search"
   ]
  },
  {
   "cell_type": "code",
   "execution_count": null,
   "id": "ddf9225a",
   "metadata": {},
   "outputs": [],
   "source": [
    "%time clf.fit(x_train_SMOTE, y_train_SMOTE)"
   ]
  },
  {
   "cell_type": "code",
   "execution_count": null,
   "id": "4ee0337e",
   "metadata": {},
   "outputs": [],
   "source": [
    "print(clf.best_params_)"
   ]
  },
  {
   "cell_type": "markdown",
   "id": "0d833ff6",
   "metadata": {},
   "source": [
    "### Fitting the model"
   ]
  },
  {
   "cell_type": "code",
   "execution_count": 28,
   "id": "6f9cf845",
   "metadata": {},
   "outputs": [],
   "source": [
    "classifier4 = RandomForestClassifier(n_estimators = 550, max_features = 'auto')\n",
    "model4 = classifier4.fit(x_train_SMOTE, y_train_SMOTE)"
   ]
  },
  {
   "cell_type": "markdown",
   "id": "745c0b1e",
   "metadata": {},
   "source": [
    "### Evaluation"
   ]
  },
  {
   "cell_type": "code",
   "execution_count": 31,
   "id": "f8700d72",
   "metadata": {},
   "outputs": [
    {
     "name": "stdout",
     "output_type": "stream",
     "text": [
      "Accuracy Score:  0.9994850368081645\n"
     ]
    }
   ],
   "source": [
    "prediction4 = model4.predict(x_test)\n",
    "print ('Accuracy Score: ', accuracy_score(y_test, prediction4))"
   ]
  },
  {
   "cell_type": "markdown",
   "id": "00ddc7d5",
   "metadata": {},
   "source": [
    "### Confusion Matrix"
   ]
  },
  {
   "cell_type": "code",
   "execution_count": 32,
   "id": "523d6f1b",
   "metadata": {},
   "outputs": [],
   "source": [
    "from sklearn.metrics import plot_confusion_matrix, confusion_matrix\n",
    "#confusion_matrix(y_test, prediction1)"
   ]
  },
  {
   "cell_type": "code",
   "execution_count": 33,
   "id": "d9898732",
   "metadata": {},
   "outputs": [
    {
     "data": {
      "text/plain": [
       "<sklearn.metrics._plot.confusion_matrix.ConfusionMatrixDisplay at 0x1753b8c1d30>"
      ]
     },
     "execution_count": 33,
     "metadata": {},
     "output_type": "execute_result"
    },
    {
     "data": {
      "image/png": "[encoded data removed]",
      "text/plain": [
       "<Figure size 432x288 with 2 Axes>"
      ]
     },
     "metadata": {
      "needs_background": "light"
     },
     "output_type": "display_data"
    }
   ],
   "source": [
    "plot_confusion_matrix(model4, x_test, y_test, cmap = 'Blues', display_labels = ['Normal', 'Fraud'])"
   ]
  },
  {
   "cell_type": "markdown",
   "id": "9c4edb29",
   "metadata": {},
   "source": [
    "### Classification Report"
   ]
  },
  {
   "cell_type": "code",
   "execution_count": 46,
   "id": "0c36d6e9",
   "metadata": {},
   "outputs": [
    {
     "name": "stdout",
     "output_type": "stream",
     "text": [
      "              precision    recall  f1-score   support\n",
      "\n",
      "           0     0.9998    0.9997    0.9998     85307\n",
      "           1     0.8264    0.8750    0.8500       136\n",
      "\n",
      "    accuracy                         0.9995     85443\n",
      "   macro avg     0.9131    0.9374    0.9249     85443\n",
      "weighted avg     0.9995    0.9995    0.9995     85443\n",
      "\n"
     ]
    }
   ],
   "source": [
    "print(classification_report(y_test, prediction4, digits = 4))"
   ]
  },
  {
   "cell_type": "markdown",
   "id": "21b4b90c",
   "metadata": {},
   "source": [
    "### Precision-Recall Curve"
   ]
  },
  {
   "cell_type": "code",
   "execution_count": 47,
   "id": "e56d1226",
   "metadata": {},
   "outputs": [],
   "source": [
    "precision, recall, thresholds = precision_recall_curve(y_test, prediction4)"
   ]
  },
  {
   "cell_type": "code",
   "execution_count": 48,
   "id": "eec9c7ad",
   "metadata": {},
   "outputs": [
    {
     "data": {
      "image/png": "[encoded data removed]",
      "text/plain": [
       "<Figure size 432x288 with 1 Axes>"
      ]
     },
     "metadata": {
      "needs_background": "light"
     },
     "output_type": "display_data"
    }
   ],
   "source": [
    "plot_precision_recall_curve(model4, x_test, y_test, name = '')\n",
    "plt.show()"
   ]
  },
  {
   "cell_type": "markdown",
   "id": "c35a0a0e",
   "metadata": {},
   "source": [
    "### Reciever Operating Characteristic Curve (ROC)"
   ]
  },
  {
   "cell_type": "code",
   "execution_count": 51,
   "id": "343ac6da",
   "metadata": {},
   "outputs": [
    {
     "data": {
      "image/png": "[encoded data removed]",
      "text/plain": [
       "<Figure size 432x288 with 1 Axes>"
      ]
     },
     "metadata": {
      "needs_background": "light"
     },
     "output_type": "display_data"
    }
   ],
   "source": [
    "plot_roc_curve(model4, x_test, y_test, name = '')\n",
    "plt.show()"
   ]
  },
  {
   "cell_type": "code",
   "execution_count": 35,
   "id": "f79a5387",
   "metadata": {},
   "outputs": [],
   "source": [
    "plot_roc_curve?"
   ]
  },
  {
   "cell_type": "markdown",
   "id": "ea946fee",
   "metadata": {},
   "source": [
    "# 5. Random Forest with Tomek links removal "
   ]
  },
  {
   "cell_type": "code",
   "execution_count": 61,
   "id": "c7c3fe46",
   "metadata": {},
   "outputs": [],
   "source": [
    "from imblearn.under_sampling import TomekLinks\n",
    "from sklearn.model_selection import RandomizedSearchCV"
   ]
  },
  {
   "cell_type": "code",
   "execution_count": 62,
   "id": "cc566f4b",
   "metadata": {},
   "outputs": [
    {
     "name": "stdout",
     "output_type": "stream",
     "text": [
      "Original dataset shape for y  \n",
      " 0    284315\n",
      "1       492\n",
      "Name: Class, dtype: int64\n",
      "Resample dataset shape for y \n",
      " 0    198995\n",
      "1       356\n",
      "Name: Class, dtype: int64\n"
     ]
    }
   ],
   "source": [
    "t1 = TomekLinks(sampling_strategy='majority')\n",
    "\n",
    "# fit predictor and target variable\n",
    "x_t1, y_t1 = t1.fit_resample(x_train, y_train)\n",
    "\n",
    "print('Original dataset shape for y  \\n', y.Class.value_counts())\n",
    "print('Resample dataset shape for y \\n', y_t1.Class.value_counts())"
   ]
  },
  {
   "cell_type": "code",
   "execution_count": 66,
   "id": "df4c36f2",
   "metadata": {},
   "outputs": [
    {
     "data": {
      "image/png": "[encoded data removed]",
      "text/plain": [
       "<Figure size 432x288 with 1 Axes>"
      ]
     },
     "metadata": {
      "needs_background": "light"
     },
     "output_type": "display_data"
    }
   ],
   "source": [
    "g = sns.countplot(y_t1['Class'])\n",
    "g.set_xticklabels(['Not Fraud','Fraud'])\n",
    "plt.show()"
   ]
  },
  {
   "cell_type": "code",
   "execution_count": 67,
   "id": "b8165cf8",
   "metadata": {},
   "outputs": [
    {
     "data": {
      "text/plain": [
       "RandomizedSearchCV(cv=10, estimator=RandomForestClassifier(random_state=42),\n",
       "                   param_distributions={'max_features': ['auto', 'sqrt',\n",
       "                                                         'log2'],\n",
       "                                        'n_estimators': [200, 300, 400, 500,\n",
       "                                                         600]},\n",
       "                   scoring='accuracy')"
      ]
     },
     "execution_count": 67,
     "metadata": {},
     "output_type": "execute_result"
    }
   ],
   "source": [
    "rnd_search.fit(x_t1,y_t1)"
   ]
  },
  {
   "cell_type": "code",
   "execution_count": 68,
   "id": "e246c807",
   "metadata": {},
   "outputs": [
    {
     "name": "stdout",
     "output_type": "stream",
     "text": [
      "{'n_estimators': 500, 'max_features': 'log2'}\n"
     ]
    }
   ],
   "source": [
    "print(rnd_search.best_params_)"
   ]
  },
  {
   "cell_type": "markdown",
   "id": "cfb86522",
   "metadata": {},
   "source": [
    "### Fitting the model"
   ]
  },
  {
   "cell_type": "code",
   "execution_count": 69,
   "id": "96398d9c",
   "metadata": {},
   "outputs": [],
   "source": [
    "classifier5 = RandomForestClassifier(n_estimators = 500, max_features = 'log2')\n",
    "model5 = classifier5.fit(x_t1, y_t1)"
   ]
  },
  {
   "cell_type": "markdown",
   "id": "495d472b",
   "metadata": {},
   "source": [
    "### Evaluation"
   ]
  },
  {
   "cell_type": "code",
   "execution_count": 70,
   "id": "8c393690",
   "metadata": {},
   "outputs": [
    {
     "name": "stdout",
     "output_type": "stream",
     "text": [
      "Accuracy Score:  0.9996137776061234\n"
     ]
    }
   ],
   "source": [
    "prediction5 = model5.predict(x_test)\n",
    "print ('Accuracy Score: ', accuracy_score(y_test, prediction5))"
   ]
  },
  {
   "cell_type": "markdown",
   "id": "807b3221",
   "metadata": {},
   "source": [
    "### Confusion Matrix"
   ]
  },
  {
   "cell_type": "code",
   "execution_count": 71,
   "id": "f520d82f",
   "metadata": {},
   "outputs": [
    {
     "data": {
      "text/plain": [
       "array([[85299,     8],\n",
       "       [   25,   111]], dtype=int64)"
      ]
     },
     "execution_count": 71,
     "metadata": {},
     "output_type": "execute_result"
    }
   ],
   "source": [
    "confusion_matrix(y_test, prediction5)"
   ]
  },
  {
   "cell_type": "code",
   "execution_count": 72,
   "id": "ef6aebda",
   "metadata": {},
   "outputs": [
    {
     "data": {
      "text/plain": [
       "<sklearn.metrics._plot.confusion_matrix.ConfusionMatrixDisplay at 0x1753b739b80>"
      ]
     },
     "execution_count": 72,
     "metadata": {},
     "output_type": "execute_result"
    },
    {
     "data": {
      "image/png": "[encoded data removed]",
      "text/plain": [
       "<Figure size 432x288 with 2 Axes>"
      ]
     },
     "metadata": {
      "needs_background": "light"
     },
     "output_type": "display_data"
    }
   ],
   "source": [
    "plot_confusion_matrix(model5, x_test, y_test, cmap = 'Blues', display_labels = ['Normal', 'Fraud'])"
   ]
  },
  {
   "cell_type": "markdown",
   "id": "b8432932",
   "metadata": {},
   "source": [
    "### Classification Report"
   ]
  },
  {
   "cell_type": "code",
   "execution_count": 75,
   "id": "a475ab23",
   "metadata": {},
   "outputs": [
    {
     "name": "stdout",
     "output_type": "stream",
     "text": [
      "              precision    recall  f1-score   support\n",
      "\n",
      "           0     0.9997    0.9999    0.9998     85307\n",
      "           1     0.9328    0.8162    0.8706       136\n",
      "\n",
      "    accuracy                         0.9996     85443\n",
      "   macro avg     0.9662    0.9080    0.9352     85443\n",
      "weighted avg     0.9996    0.9996    0.9996     85443\n",
      "\n"
     ]
    }
   ],
   "source": [
    "print(classification_report(y_test, prediction5, digits = 4))"
   ]
  },
  {
   "cell_type": "markdown",
   "id": "55a4dfce",
   "metadata": {},
   "source": [
    "### Precision Recall Curve"
   ]
  },
  {
   "cell_type": "code",
   "execution_count": 79,
   "id": "7761ec17",
   "metadata": {},
   "outputs": [],
   "source": [
    "from sklearn.metrics import precision_recall_curve, plot_precision_recall_curve"
   ]
  },
  {
   "cell_type": "code",
   "execution_count": 80,
   "id": "3d40ec16",
   "metadata": {},
   "outputs": [
    {
     "data": {
      "image/png": "[encoded data removed]",
      "text/plain": [
       "<Figure size 432x288 with 1 Axes>"
      ]
     },
     "metadata": {
      "needs_background": "light"
     },
     "output_type": "display_data"
    }
   ],
   "source": [
    "plot_precision_recall_curve(model5, x_test, y_test, name = '')\n",
    "plt.show()"
   ]
  },
  {
   "cell_type": "markdown",
   "id": "f472f7bd",
   "metadata": {},
   "source": [
    "### Reciever Operating Characteristic Curve"
   ]
  },
  {
   "cell_type": "code",
   "execution_count": 77,
   "id": "f7f92074",
   "metadata": {},
   "outputs": [],
   "source": [
    "from sklearn.metrics import plot_roc_curve, plot_precision_recall_curve, roc_curve"
   ]
  },
  {
   "cell_type": "code",
   "execution_count": 78,
   "id": "08d1f178",
   "metadata": {},
   "outputs": [
    {
     "data": {
      "image/png": "[encoded data removed]",
      "text/plain": [
       "<Figure size 432x288 with 1 Axes>"
      ]
     },
     "metadata": {
      "needs_background": "light"
     },
     "output_type": "display_data"
    }
   ],
   "source": [
    "plot_roc_curve(model5, x_test, y_test, name = '')\n",
    "plt.show()\n",
    "#plt.plot([0,1], [0,1], c='b')"
   ]
  },
  {
   "cell_type": "code",
   "execution_count": null,
   "id": "c80777ae",
   "metadata": {},
   "outputs": [],
   "source": []
  }
 ],
 "metadata": {
  "kernelspec": {
   "display_name": "Python 3",
   "language": "python",
   "name": "python3"
  },
  "language_info": {
   "codemirror_mode": {
    "name": "ipython",
    "version": 3
   },
   "file_extension": ".py",
   "mimetype": "text/x-python",
   "name": "python",
   "nbconvert_exporter": "python",
   "pygments_lexer": "ipython3",
   "version": "3.8.8"
  }
 },
 "nbformat": 4,
 "nbformat_minor": 5
}
