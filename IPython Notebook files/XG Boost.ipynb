{
 "cells": [
  {
   "cell_type": "markdown",
   "id": "ba13f26e",
   "metadata": {},
   "source": [
    "# Application of Machine Learning Techniques in Credit Card Fraud Detection"
   ]
  },
  {
   "cell_type": "markdown",
   "id": "66d1aa2c",
   "metadata": {},
   "source": [
    "> **XGBoost**"
   ]
  },
  {
   "cell_type": "markdown",
   "id": "ef2f85ee",
   "metadata": {},
   "source": [
    "Another boosting approach that attempts to merge the weak learners into a strong learner is gradient boosting. During the learning process, weak learners are produced. The weak learner predicts the values or class label at each stage of the process, calculates the difference between real value and the predicted value. It builds a new weak learner based on the loss, and the weak learner learns on the remaining mistakes. This procedure goes on until a specific threshold is reached. In terms of regularization, XGBoost outperforms gradient boosting. Thus, it lessens overfitting. Since XGboost supports parallel processing, it is significantly quicker than conventional gradient boosting. XGBoost offers the capacity to handle missing data right out of the box. Gradient boosting is a greedy method since it stops splitting the node once it suffers a loss, whereas xgboost divides up to the provided maximum depth."
   ]
  },
  {
   "cell_type": "code",
   "execution_count": 1,
   "id": "4804832c",
   "metadata": {},
   "outputs": [
    {
     "name": "stdout",
     "output_type": "stream",
     "text": [
      "All libraries imported\n"
     ]
    }
   ],
   "source": [
    "import numpy as np\n",
    "import pandas as pd\n",
    "import matplotlib.pyplot as plt\n",
    "import seaborn as sns\n",
    "%matplotlib inline\n",
    "from sklearn.datasets import load_iris \n",
    "import warnings\n",
    "warnings.filterwarnings('ignore')\n",
    "from collections import Counter\n",
    "print('All libraries imported')"
   ]
  },
  {
   "cell_type": "code",
   "execution_count": 2,
   "id": "d038cf62",
   "metadata": {},
   "outputs": [],
   "source": [
    "from pandas_profiling import ProfileReport"
   ]
  },
  {
   "cell_type": "code",
   "execution_count": 3,
   "id": "3be7e927",
   "metadata": {},
   "outputs": [],
   "source": [
    "data = pd.read_csv('creditcard.csv')"
   ]
  },
  {
   "cell_type": "code",
   "execution_count": 1,
   "id": "d6b3f1f9",
   "metadata": {},
   "outputs": [],
   "source": [
    "#ProfileReport(data, title=\"Pandas Profiling Report\")"
   ]
  },
  {
   "cell_type": "code",
   "execution_count": 88,
   "id": "e82b1789",
   "metadata": {},
   "outputs": [
    {
     "data": {
      "text/plain": [
       "(284807, 31)"
      ]
     },
     "execution_count": 88,
     "metadata": {},
     "output_type": "execute_result"
    }
   ],
   "source": [
    "data.shape"
   ]
  },
  {
   "cell_type": "code",
   "execution_count": 89,
   "id": "c9edfdd5",
   "metadata": {},
   "outputs": [
    {
     "data": {
      "text/html": [
       "<div>\n",
       "<style scoped>\n",
       "    .dataframe tbody tr th:only-of-type {\n",
       "        vertical-align: middle;\n",
       "    }\n",
       "\n",
       "    .dataframe tbody tr th {\n",
       "        vertical-align: top;\n",
       "    }\n",
       "\n",
       "    .dataframe thead th {\n",
       "        text-align: right;\n",
       "    }\n",
       "</style>\n",
       "<table border=\"1\" class=\"dataframe\">\n",
       "  <thead>\n",
       "    <tr style=\"text-align: right;\">\n",
       "      <th></th>\n",
       "      <th>Time</th>\n",
       "      <th>V1</th>\n",
       "      <th>V2</th>\n",
       "      <th>V3</th>\n",
       "      <th>V4</th>\n",
       "      <th>V5</th>\n",
       "      <th>V6</th>\n",
       "      <th>V7</th>\n",
       "      <th>V8</th>\n",
       "      <th>V9</th>\n",
       "      <th>...</th>\n",
       "      <th>V21</th>\n",
       "      <th>V22</th>\n",
       "      <th>V23</th>\n",
       "      <th>V24</th>\n",
       "      <th>V25</th>\n",
       "      <th>V26</th>\n",
       "      <th>V27</th>\n",
       "      <th>V28</th>\n",
       "      <th>Amount</th>\n",
       "      <th>Class</th>\n",
       "    </tr>\n",
       "  </thead>\n",
       "  <tbody>\n",
       "    <tr>\n",
       "      <th>0</th>\n",
       "      <td>0.0</td>\n",
       "      <td>-1.359807</td>\n",
       "      <td>-0.072781</td>\n",
       "      <td>2.536347</td>\n",
       "      <td>1.378155</td>\n",
       "      <td>-0.338321</td>\n",
       "      <td>0.462388</td>\n",
       "      <td>0.239599</td>\n",
       "      <td>0.098698</td>\n",
       "      <td>0.363787</td>\n",
       "      <td>...</td>\n",
       "      <td>-0.018307</td>\n",
       "      <td>0.277838</td>\n",
       "      <td>-0.110474</td>\n",
       "      <td>0.066928</td>\n",
       "      <td>0.128539</td>\n",
       "      <td>-0.189115</td>\n",
       "      <td>0.133558</td>\n",
       "      <td>-0.021053</td>\n",
       "      <td>149.62</td>\n",
       "      <td>0</td>\n",
       "    </tr>\n",
       "    <tr>\n",
       "      <th>1</th>\n",
       "      <td>0.0</td>\n",
       "      <td>1.191857</td>\n",
       "      <td>0.266151</td>\n",
       "      <td>0.166480</td>\n",
       "      <td>0.448154</td>\n",
       "      <td>0.060018</td>\n",
       "      <td>-0.082361</td>\n",
       "      <td>-0.078803</td>\n",
       "      <td>0.085102</td>\n",
       "      <td>-0.255425</td>\n",
       "      <td>...</td>\n",
       "      <td>-0.225775</td>\n",
       "      <td>-0.638672</td>\n",
       "      <td>0.101288</td>\n",
       "      <td>-0.339846</td>\n",
       "      <td>0.167170</td>\n",
       "      <td>0.125895</td>\n",
       "      <td>-0.008983</td>\n",
       "      <td>0.014724</td>\n",
       "      <td>2.69</td>\n",
       "      <td>0</td>\n",
       "    </tr>\n",
       "    <tr>\n",
       "      <th>2</th>\n",
       "      <td>1.0</td>\n",
       "      <td>-1.358354</td>\n",
       "      <td>-1.340163</td>\n",
       "      <td>1.773209</td>\n",
       "      <td>0.379780</td>\n",
       "      <td>-0.503198</td>\n",
       "      <td>1.800499</td>\n",
       "      <td>0.791461</td>\n",
       "      <td>0.247676</td>\n",
       "      <td>-1.514654</td>\n",
       "      <td>...</td>\n",
       "      <td>0.247998</td>\n",
       "      <td>0.771679</td>\n",
       "      <td>0.909412</td>\n",
       "      <td>-0.689281</td>\n",
       "      <td>-0.327642</td>\n",
       "      <td>-0.139097</td>\n",
       "      <td>-0.055353</td>\n",
       "      <td>-0.059752</td>\n",
       "      <td>378.66</td>\n",
       "      <td>0</td>\n",
       "    </tr>\n",
       "    <tr>\n",
       "      <th>3</th>\n",
       "      <td>1.0</td>\n",
       "      <td>-0.966272</td>\n",
       "      <td>-0.185226</td>\n",
       "      <td>1.792993</td>\n",
       "      <td>-0.863291</td>\n",
       "      <td>-0.010309</td>\n",
       "      <td>1.247203</td>\n",
       "      <td>0.237609</td>\n",
       "      <td>0.377436</td>\n",
       "      <td>-1.387024</td>\n",
       "      <td>...</td>\n",
       "      <td>-0.108300</td>\n",
       "      <td>0.005274</td>\n",
       "      <td>-0.190321</td>\n",
       "      <td>-1.175575</td>\n",
       "      <td>0.647376</td>\n",
       "      <td>-0.221929</td>\n",
       "      <td>0.062723</td>\n",
       "      <td>0.061458</td>\n",
       "      <td>123.50</td>\n",
       "      <td>0</td>\n",
       "    </tr>\n",
       "    <tr>\n",
       "      <th>4</th>\n",
       "      <td>2.0</td>\n",
       "      <td>-1.158233</td>\n",
       "      <td>0.877737</td>\n",
       "      <td>1.548718</td>\n",
       "      <td>0.403034</td>\n",
       "      <td>-0.407193</td>\n",
       "      <td>0.095921</td>\n",
       "      <td>0.592941</td>\n",
       "      <td>-0.270533</td>\n",
       "      <td>0.817739</td>\n",
       "      <td>...</td>\n",
       "      <td>-0.009431</td>\n",
       "      <td>0.798278</td>\n",
       "      <td>-0.137458</td>\n",
       "      <td>0.141267</td>\n",
       "      <td>-0.206010</td>\n",
       "      <td>0.502292</td>\n",
       "      <td>0.219422</td>\n",
       "      <td>0.215153</td>\n",
       "      <td>69.99</td>\n",
       "      <td>0</td>\n",
       "    </tr>\n",
       "  </tbody>\n",
       "</table>\n",
       "<p>5 rows × 31 columns</p>\n",
       "</div>"
      ],
      "text/plain": [
       "   Time        V1        V2        V3        V4        V5        V6        V7  \\\n",
       "0   0.0 -1.359807 -0.072781  2.536347  1.378155 -0.338321  0.462388  0.239599   \n",
       "1   0.0  1.191857  0.266151  0.166480  0.448154  0.060018 -0.082361 -0.078803   \n",
       "2   1.0 -1.358354 -1.340163  1.773209  0.379780 -0.503198  1.800499  0.791461   \n",
       "3   1.0 -0.966272 -0.185226  1.792993 -0.863291 -0.010309  1.247203  0.237609   \n",
       "4   2.0 -1.158233  0.877737  1.548718  0.403034 -0.407193  0.095921  0.592941   \n",
       "\n",
       "         V8        V9  ...       V21       V22       V23       V24       V25  \\\n",
       "0  0.098698  0.363787  ... -0.018307  0.277838 -0.110474  0.066928  0.128539   \n",
       "1  0.085102 -0.255425  ... -0.225775 -0.638672  0.101288 -0.339846  0.167170   \n",
       "2  0.247676 -1.514654  ...  0.247998  0.771679  0.909412 -0.689281 -0.327642   \n",
       "3  0.377436 -1.387024  ... -0.108300  0.005274 -0.190321 -1.175575  0.647376   \n",
       "4 -0.270533  0.817739  ... -0.009431  0.798278 -0.137458  0.141267 -0.206010   \n",
       "\n",
       "        V26       V27       V28  Amount  Class  \n",
       "0 -0.189115  0.133558 -0.021053  149.62      0  \n",
       "1  0.125895 -0.008983  0.014724    2.69      0  \n",
       "2 -0.139097 -0.055353 -0.059752  378.66      0  \n",
       "3 -0.221929  0.062723  0.061458  123.50      0  \n",
       "4  0.502292  0.219422  0.215153   69.99      0  \n",
       "\n",
       "[5 rows x 31 columns]"
      ]
     },
     "execution_count": 89,
     "metadata": {},
     "output_type": "execute_result"
    }
   ],
   "source": [
    "data.head()"
   ]
  },
  {
   "cell_type": "code",
   "execution_count": 90,
   "id": "19128366",
   "metadata": {},
   "outputs": [
    {
     "data": {
      "text/plain": [
       "Time      0\n",
       "V1        0\n",
       "V2        0\n",
       "V3        0\n",
       "V4        0\n",
       "V5        0\n",
       "V6        0\n",
       "V7        0\n",
       "V8        0\n",
       "V9        0\n",
       "V10       0\n",
       "V11       0\n",
       "V12       0\n",
       "V13       0\n",
       "V14       0\n",
       "V15       0\n",
       "V16       0\n",
       "V17       0\n",
       "V18       0\n",
       "V19       0\n",
       "V20       0\n",
       "V21       0\n",
       "V22       0\n",
       "V23       0\n",
       "V24       0\n",
       "V25       0\n",
       "V26       0\n",
       "V27       0\n",
       "V28       0\n",
       "Amount    0\n",
       "Class     0\n",
       "dtype: int64"
      ]
     },
     "execution_count": 90,
     "metadata": {},
     "output_type": "execute_result"
    }
   ],
   "source": [
    "data.isnull().sum()"
   ]
  },
  {
   "cell_type": "code",
   "execution_count": 91,
   "id": "12d1ecb5",
   "metadata": {},
   "outputs": [
    {
     "data": {
      "image/png": "[encoded data removed]",
      "text/plain": [
       "<Figure size 432x288 with 1 Axes>"
      ]
     },
     "metadata": {
      "needs_background": "light"
     },
     "output_type": "display_data"
    }
   ],
   "source": [
    "g = sns.countplot(data['Class'])\n",
    "g.set_xticklabels(['Not Fraud','Fraud'])\n",
    "plt.show()"
   ]
  },
  {
   "cell_type": "code",
   "execution_count": 92,
   "id": "59eb1f73",
   "metadata": {},
   "outputs": [
    {
     "data": {
      "text/plain": [
       "0    284315\n",
       "1       492\n",
       "Name: Class, dtype: int64"
      ]
     },
     "execution_count": 92,
     "metadata": {},
     "output_type": "execute_result"
    }
   ],
   "source": [
    "data.Class.value_counts()"
   ]
  },
  {
   "cell_type": "code",
   "execution_count": 93,
   "id": "8930aea6",
   "metadata": {},
   "outputs": [
    {
     "data": {
      "image/png": "[encoded data removed]",
      "text/plain": [
       "<Figure size 432x288 with 2 Axes>"
      ]
     },
     "metadata": {
      "needs_background": "light"
     },
     "output_type": "display_data"
    }
   ],
   "source": [
    "sns.heatmap(data.corr(), annot = False)\n",
    "plt.show()"
   ]
  },
  {
   "cell_type": "code",
   "execution_count": 94,
   "id": "736b4a60",
   "metadata": {},
   "outputs": [
    {
     "name": "stdout",
     "output_type": "stream",
     "text": [
      "Most Positive Correlations: \n",
      " V19      0.034783\n",
      "V21      0.040413\n",
      "V2       0.091289\n",
      "V4       0.133447\n",
      "V11      0.154876\n",
      "Class    1.000000\n",
      "Name: Class, dtype: float64\n",
      "\n",
      "Most Negative Correlations: \n",
      " V17   -0.326481\n",
      "V14   -0.302544\n",
      "V12   -0.260593\n",
      "V10   -0.216883\n",
      "V16   -0.196539\n",
      "V3    -0.192961\n",
      "Name: Class, dtype: float64\n"
     ]
    }
   ],
   "source": [
    "correlations = data.corr()['Class'].sort_values()\n",
    "print('Most Positive Correlations: \\n', correlations.tail(6))\n",
    "print('\\nMost Negative Correlations: \\n', correlations.head(6))"
   ]
  },
  {
   "cell_type": "markdown",
   "id": "ee131d18",
   "metadata": {},
   "source": [
    "# Data Pre-processing"
   ]
  },
  {
   "cell_type": "markdown",
   "id": "b5891943",
   "metadata": {},
   "source": [
    "## Data Standardization"
   ]
  },
  {
   "cell_type": "markdown",
   "id": "4fe35c4e",
   "metadata": {},
   "source": [
    "Standardizing the features refers to rescaling the features so that they will have the properties of\n",
    "a standard normal distribution with a mean of 0 and standard deviation of 1. I performed standardization on the 'Amount' feature using\n",
    "StandardScalar in the scikit-learn library."
   ]
  },
  {
   "cell_type": "markdown",
   "id": "6e26d90a",
   "metadata": {},
   "source": [
    "### Before standardization"
   ]
  },
  {
   "cell_type": "code",
   "execution_count": 95,
   "id": "0644ba52",
   "metadata": {},
   "outputs": [
    {
     "data": {
      "text/plain": [
       "0         149.62\n",
       "1           2.69\n",
       "2         378.66\n",
       "3         123.50\n",
       "4          69.99\n",
       "           ...  \n",
       "284802      0.77\n",
       "284803     24.79\n",
       "284804     67.88\n",
       "284805     10.00\n",
       "284806    217.00\n",
       "Name: Amount, Length: 284807, dtype: float64"
      ]
     },
     "execution_count": 95,
     "metadata": {},
     "output_type": "execute_result"
    }
   ],
   "source": [
    "data['Amount']"
   ]
  },
  {
   "cell_type": "code",
   "execution_count": 96,
   "id": "f2ad8c8e",
   "metadata": {},
   "outputs": [],
   "source": [
    "from sklearn.preprocessing import StandardScaler\n",
    "data[['Amount']] = StandardScaler().fit_transform(data[['Amount']])"
   ]
  },
  {
   "cell_type": "markdown",
   "id": "b67f3529",
   "metadata": {},
   "source": [
    "### After standardization"
   ]
  },
  {
   "cell_type": "code",
   "execution_count": 97,
   "id": "fa287a3e",
   "metadata": {},
   "outputs": [
    {
     "data": {
      "text/plain": [
       "0         0.244964\n",
       "1        -0.342475\n",
       "2         1.160686\n",
       "3         0.140534\n",
       "4        -0.073403\n",
       "            ...   \n",
       "284802   -0.350151\n",
       "284803   -0.254117\n",
       "284804   -0.081839\n",
       "284805   -0.313249\n",
       "284806    0.514355\n",
       "Name: Amount, Length: 284807, dtype: float64"
      ]
     },
     "execution_count": 97,
     "metadata": {},
     "output_type": "execute_result"
    }
   ],
   "source": [
    "data['Amount']"
   ]
  },
  {
   "cell_type": "markdown",
   "id": "7f2907c2",
   "metadata": {},
   "source": [
    "## Data Splittig using Random seed"
   ]
  },
  {
   "cell_type": "markdown",
   "id": "d3907379",
   "metadata": {},
   "source": [
    "A random seed is used to ensure the same data split each time the code is excecuted. "
   ]
  },
  {
   "cell_type": "code",
   "execution_count": 98,
   "id": "f6846d27",
   "metadata": {},
   "outputs": [],
   "source": [
    "from sklearn.model_selection import train_test_split"
   ]
  },
  {
   "cell_type": "code",
   "execution_count": 99,
   "id": "5c07e956",
   "metadata": {},
   "outputs": [],
   "source": [
    "x = data.drop(\"Class\", axis =1)\n",
    "y = data[[\"Class\"]]"
   ]
  },
  {
   "cell_type": "code",
   "execution_count": 100,
   "id": "8f5c93d9",
   "metadata": {},
   "outputs": [
    {
     "data": {
      "text/plain": [
       "(284807, 30)"
      ]
     },
     "execution_count": 100,
     "metadata": {},
     "output_type": "execute_result"
    }
   ],
   "source": [
    "x.shape"
   ]
  },
  {
   "cell_type": "code",
   "execution_count": 101,
   "id": "d173c360",
   "metadata": {},
   "outputs": [
    {
     "data": {
      "text/plain": [
       "(284807, 1)"
      ]
     },
     "execution_count": 101,
     "metadata": {},
     "output_type": "execute_result"
    }
   ],
   "source": [
    "y.shape"
   ]
  },
  {
   "cell_type": "code",
   "execution_count": 102,
   "id": "35b51d52",
   "metadata": {},
   "outputs": [],
   "source": [
    "x_train, x_test, y_train, y_test = train_test_split(x, y, test_size = 0.30, random_state = 42) # x = features, y = target"
   ]
  },
  {
   "cell_type": "code",
   "execution_count": 103,
   "id": "e9298675",
   "metadata": {},
   "outputs": [
    {
     "data": {
      "text/plain": [
       "(199364, 30)"
      ]
     },
     "execution_count": 103,
     "metadata": {},
     "output_type": "execute_result"
    }
   ],
   "source": [
    "x_train.shape"
   ]
  },
  {
   "cell_type": "code",
   "execution_count": 104,
   "id": "68e56269",
   "metadata": {},
   "outputs": [
    {
     "data": {
      "text/plain": [
       "(85443, 30)"
      ]
     },
     "execution_count": 104,
     "metadata": {},
     "output_type": "execute_result"
    }
   ],
   "source": [
    "x_test.shape"
   ]
  },
  {
   "cell_type": "code",
   "execution_count": 105,
   "id": "c7023850",
   "metadata": {},
   "outputs": [
    {
     "data": {
      "text/plain": [
       "(199364, 1)"
      ]
     },
     "execution_count": 105,
     "metadata": {},
     "output_type": "execute_result"
    }
   ],
   "source": [
    "y_train.shape"
   ]
  },
  {
   "cell_type": "code",
   "execution_count": 106,
   "id": "26c3ba06",
   "metadata": {},
   "outputs": [
    {
     "data": {
      "text/plain": [
       "(85443, 1)"
      ]
     },
     "execution_count": 106,
     "metadata": {},
     "output_type": "execute_result"
    }
   ],
   "source": [
    "y_test.shape"
   ]
  },
  {
   "cell_type": "markdown",
   "id": "009eec9f",
   "metadata": {},
   "source": [
    "## Data Resampling"
   ]
  },
  {
   "cell_type": "markdown",
   "id": "21a7ac50",
   "metadata": {},
   "source": [
    "The dataset is highly unbalanced. To tackle this problem, I used resampling techniques such as: <br>\n",
    "\n",
    "-  **Random Undersampling**\n",
    "-  **Random Oversampling** .\n",
    "-  **SMOTE**  <br>\n",
    "-  **Under-Sampling: Tomek Links Removal**  \n",
    "-  **Combination of SMOTE and undersampling**<br>\n",
    "\n",
    "Implemented these on the training data separately to make it balanced <br>\n",
    "\n",
    "However as a control we will run the model first with no resmapling techiniques and ananlyze the results, this will be done with the other algorithms. \n",
    "\n",
    " "
   ]
  },
  {
   "cell_type": "markdown",
   "id": "5f66b9e4",
   "metadata": {},
   "source": [
    "## 1. XG Boost with no Resampling"
   ]
  },
  {
   "cell_type": "markdown",
   "id": "12af30d7",
   "metadata": {},
   "source": [
    "## Hyper parameter search for XG Boost"
   ]
  },
  {
   "cell_type": "markdown",
   "id": "8afbae0b",
   "metadata": {},
   "source": [
    "Here i used RandomizedSearchCV instead of GridSearchCV"
   ]
  },
  {
   "cell_type": "code",
   "execution_count": 107,
   "id": "0efcce6c",
   "metadata": {},
   "outputs": [],
   "source": [
    "import xgboost as xgb\n",
    "import xgboost\n",
    "from sklearn.model_selection import RandomizedSearchCV\n",
    "from sklearn.model_selection import GridSearchCV\n",
    "from sklearn import metrics"
   ]
  },
  {
   "cell_type": "code",
   "execution_count": 108,
   "id": "61e4f800",
   "metadata": {},
   "outputs": [],
   "source": [
    "xgb = xgb.XGBClassifier(eval_metric='mlogloss')"
   ]
  },
  {
   "cell_type": "code",
   "execution_count": 109,
   "id": "6283ff08",
   "metadata": {},
   "outputs": [],
   "source": [
    "xgb_params = {'learning_rate': [0.05, 0.1, 0.3, 0.5], #so called `eta` value\n",
    "              'max_depth': range(3,10,1),\n",
    "              'min_child_weight': [5,6,7,8,9],\n",
    "              'subsample': [0.1,0.2,0.3,0.4,0.5,0.6,0.7,0.8,0.9],\n",
    "              'colsample_bytree': [0.1,0.25,0.3,0.4,0.55,0.6,0.75,0.8,0.9],\n",
    "              'n_estimators': range(100, 1500, 100), #number of trees, change it to 1000 for better results \n",
    "              #n_estimators is how many round of boosting\n",
    "              }\n",
    "\n"
   ]
  },
  {
   "cell_type": "code",
   "execution_count": 50,
   "id": "23c34cca",
   "metadata": {},
   "outputs": [],
   "source": [
    "clf = GridSearchCV(xgb, xgb_params, cv = 10, scoring ='roc_auc')\n",
    "rnd_search = RandomizedSearchCV(xgb, xgb_params, cv = 10, scoring = 'accuracy')"
   ]
  },
  {
   "cell_type": "code",
   "execution_count": 101,
   "id": "5c71d07e",
   "metadata": {},
   "outputs": [
    {
     "data": {
      "text/plain": [
       "RandomizedSearchCV(cv=10,\n",
       "                   estimator=XGBClassifier(base_score=None, booster=None,\n",
       "                                           colsample_bylevel=None,\n",
       "                                           colsample_bynode=None,\n",
       "                                           colsample_bytree=None,\n",
       "                                           enable_categorical=False,\n",
       "                                           eval_metric='mlogloss', gamma=None,\n",
       "                                           gpu_id=None, importance_type=None,\n",
       "                                           interaction_constraints=None,\n",
       "                                           learning_rate=None,\n",
       "                                           max_delta_step=None, max_depth=None,\n",
       "                                           min_child_weight=None, missing=...\n",
       "                                           scale_pos_weight=None,\n",
       "                                           subsample=None, tree_method=None,\n",
       "                                           validate_parameters=None,\n",
       "                                           verbosity=None),\n",
       "                   param_distributions={'colsample_bytree': [0.1, 0.25, 0.3,\n",
       "                                                             0.4, 0.55, 0.6,\n",
       "                                                             0.75, 0.8, 0.9],\n",
       "                                        'learning_rate': [0.05, 0.1, 0.3, 0.5],\n",
       "                                        'max_depth': range(3, 10),\n",
       "                                        'min_child_weight': [5, 6, 7, 8, 9],\n",
       "                                        'n_estimators': range(100, 1500, 100),\n",
       "                                        'subsample': [0.1, 0.2, 0.3, 0.4, 0.5,\n",
       "                                                      0.6, 0.7, 0.8, 0.9]},\n",
       "                   scoring='accuracy')"
      ]
     },
     "execution_count": 101,
     "metadata": {},
     "output_type": "execute_result"
    }
   ],
   "source": [
    "rnd_search.fit(x_train, y_train)\n",
    "#clf.fit(x_train, y_train)"
   ]
  },
  {
   "cell_type": "code",
   "execution_count": 110,
   "id": "9c8378bb",
   "metadata": {},
   "outputs": [
    {
     "name": "stdout",
     "output_type": "stream",
     "text": [
      "{'subsample': 0.9, 'n_estimators': 1200, 'min_child_weight': 6, 'max_depth': 5, 'learning_rate': 0.1, 'colsample_bytree': 0.25}\n"
     ]
    }
   ],
   "source": [
    "print(rnd_search.best_params_)"
   ]
  },
  {
   "cell_type": "markdown",
   "id": "2d11a862",
   "metadata": {},
   "source": [
    "### Fitting the model"
   ]
  },
  {
   "cell_type": "code",
   "execution_count": 111,
   "id": "735739ea",
   "metadata": {},
   "outputs": [
    {
     "name": "stdout",
     "output_type": "stream",
     "text": [
      "[23:53:07] WARNING: D:\\bld\\xgboost-split_1637426510059\\work\\src\\learner.cc:1115: Starting in XGBoost 1.3.0, the default evaluation metric used with the objective 'binary:logistic' was changed from 'error' to 'logloss'. Explicitly set eval_metric if you'd like to restore the old behavior.\n"
     ]
    }
   ],
   "source": [
    "classifier1 = xgboost.XGBClassifier(subsample = 0.9, n_estimators = 1200, min_child_weight = 6, max_depth = 5, learning_rate = 0.1, colsample_bytree = 0.25)\n",
    "\n",
    "model1 = classifier1.fit(x_train, y_train)\n"
   ]
  },
  {
   "cell_type": "markdown",
   "id": "b86917e5",
   "metadata": {},
   "source": [
    "## Evaluation"
   ]
  },
  {
   "cell_type": "code",
   "execution_count": 59,
   "id": "1cca1487",
   "metadata": {},
   "outputs": [],
   "source": [
    "from sklearn.metrics import accuracy_score\n",
    "from sklearn.metrics import plot_roc_curve, plot_precision_recall_curve, roc_curve"
   ]
  },
  {
   "cell_type": "code",
   "execution_count": 113,
   "id": "59c4bc81",
   "metadata": {},
   "outputs": [
    {
     "name": "stdout",
     "output_type": "stream",
     "text": [
      "Accuracy Score:  0.9996371850239341\n"
     ]
    }
   ],
   "source": [
    "prediction1 = model1.predict(x_test)\n",
    "print ('Accuracy Score: ', accuracy_score(y_test, prediction1))"
   ]
  },
  {
   "cell_type": "markdown",
   "id": "03410317",
   "metadata": {},
   "source": [
    "### Confusion Matrix"
   ]
  },
  {
   "cell_type": "code",
   "execution_count": 114,
   "id": "0c82a9c2",
   "metadata": {},
   "outputs": [
    {
     "data": {
      "text/plain": [
       "array([[85302,     5],\n",
       "       [   26,   110]], dtype=int64)"
      ]
     },
     "execution_count": 114,
     "metadata": {},
     "output_type": "execute_result"
    }
   ],
   "source": [
    "from sklearn.metrics import plot_confusion_matrix, confusion_matrix\n",
    "confusion_matrix(y_test, prediction1)"
   ]
  },
  {
   "cell_type": "code",
   "execution_count": 115,
   "id": "b2910a62",
   "metadata": {},
   "outputs": [
    {
     "data": {
      "text/plain": [
       "<sklearn.metrics._plot.confusion_matrix.ConfusionMatrixDisplay at 0x1a486b8c8e0>"
      ]
     },
     "execution_count": 115,
     "metadata": {},
     "output_type": "execute_result"
    },
    {
     "data": {
      "image/png": "[encoded data removed]",
      "text/plain": [
       "<Figure size 432x288 with 2 Axes>"
      ]
     },
     "metadata": {
      "needs_background": "light"
     },
     "output_type": "display_data"
    }
   ],
   "source": [
    "plot_confusion_matrix(model1, x_test, y_test, cmap = 'Blues', display_labels = ['Normal', 'Fraud'])"
   ]
  },
  {
   "cell_type": "markdown",
   "id": "13139b86",
   "metadata": {},
   "source": [
    "### Classification Report"
   ]
  },
  {
   "cell_type": "code",
   "execution_count": 116,
   "id": "b35c08c7",
   "metadata": {},
   "outputs": [
    {
     "name": "stdout",
     "output_type": "stream",
     "text": [
      "              precision    recall  f1-score   support\n",
      "\n",
      "           0     0.9997    0.9999    0.9998     85307\n",
      "           1     0.9565    0.8088    0.8765       136\n",
      "\n",
      "    accuracy                         0.9996     85443\n",
      "   macro avg     0.9781    0.9044    0.9382     85443\n",
      "weighted avg     0.9996    0.9996    0.9996     85443\n",
      "\n"
     ]
    }
   ],
   "source": [
    "from sklearn.metrics import classification_report\n",
    "print(classification_report(y_test, prediction1, digits=4)) "
   ]
  },
  {
   "cell_type": "markdown",
   "id": "95ec3db6",
   "metadata": {},
   "source": [
    "### Precision-Recall Curve"
   ]
  },
  {
   "cell_type": "code",
   "execution_count": 117,
   "id": "5be066f0",
   "metadata": {},
   "outputs": [],
   "source": [
    "from sklearn.metrics import precision_recall_curve, plot_precision_recall_curve"
   ]
  },
  {
   "cell_type": "code",
   "execution_count": 118,
   "id": "0eb3dad0",
   "metadata": {},
   "outputs": [
    {
     "data": {
      "image/png": "[encoded data removed]",
      "text/plain": [
       "<Figure size 432x288 with 1 Axes>"
      ]
     },
     "metadata": {
      "needs_background": "light"
     },
     "output_type": "display_data"
    }
   ],
   "source": [
    "plot_precision_recall_curve(model1, x_test, y_test, name = '')\n",
    "plt.show()"
   ]
  },
  {
   "cell_type": "markdown",
   "id": "0622ee0d",
   "metadata": {},
   "source": [
    "### Reciever Operating Characteristic Curve (ROC)"
   ]
  },
  {
   "cell_type": "code",
   "execution_count": 119,
   "id": "bf9e9bd7",
   "metadata": {},
   "outputs": [],
   "source": [
    "from sklearn.metrics import plot_roc_curve, roc_curve"
   ]
  },
  {
   "cell_type": "code",
   "execution_count": 120,
   "id": "d3e5fa22",
   "metadata": {},
   "outputs": [
    {
     "data": {
      "image/png": "[encoded data removed]",
      "text/plain": [
       "<Figure size 432x288 with 1 Axes>"
      ]
     },
     "metadata": {
      "needs_background": "light"
     },
     "output_type": "display_data"
    }
   ],
   "source": [
    "plot_roc_curve(model1, x_test, y_test, name = '')\n",
    "plt.show()"
   ]
  },
  {
   "cell_type": "markdown",
   "id": "0f29617c",
   "metadata": {},
   "source": [
    "# 2. XG Boost with Random Under Sampling"
   ]
  },
  {
   "cell_type": "code",
   "execution_count": 121,
   "id": "1a71f851",
   "metadata": {},
   "outputs": [],
   "source": [
    "from imblearn import under_sampling"
   ]
  },
  {
   "cell_type": "code",
   "execution_count": 122,
   "id": "142175ef",
   "metadata": {},
   "outputs": [],
   "source": [
    "from imblearn.under_sampling import RandomUnderSampler"
   ]
  },
  {
   "cell_type": "code",
   "execution_count": 123,
   "id": "4370add4",
   "metadata": {},
   "outputs": [],
   "source": [
    "rus = RandomUnderSampler(random_state = 0)\n",
    "x_under, y_under = rus.fit_resample(x_train, y_train)"
   ]
  },
  {
   "cell_type": "code",
   "execution_count": 124,
   "id": "e705a518",
   "metadata": {},
   "outputs": [
    {
     "data": {
      "text/plain": [
       "(712, 30)"
      ]
     },
     "execution_count": 124,
     "metadata": {},
     "output_type": "execute_result"
    }
   ],
   "source": [
    "x_under.shape"
   ]
  },
  {
   "cell_type": "code",
   "execution_count": 125,
   "id": "9fe637aa",
   "metadata": {},
   "outputs": [
    {
     "data": {
      "text/plain": [
       "(712, 1)"
      ]
     },
     "execution_count": 125,
     "metadata": {},
     "output_type": "execute_result"
    }
   ],
   "source": [
    "y_under.shape"
   ]
  },
  {
   "cell_type": "code",
   "execution_count": 126,
   "id": "76376ced",
   "metadata": {},
   "outputs": [
    {
     "data": {
      "text/plain": [
       "0    356\n",
       "1    356\n",
       "Name: Class, dtype: int64"
      ]
     },
     "execution_count": 126,
     "metadata": {},
     "output_type": "execute_result"
    }
   ],
   "source": [
    "y_under.Class.value_counts()"
   ]
  },
  {
   "cell_type": "code",
   "execution_count": 127,
   "id": "fce95eac",
   "metadata": {},
   "outputs": [
    {
     "data": {
      "image/png": "[encoded data removed]",
      "text/plain": [
       "<Figure size 432x288 with 1 Axes>"
      ]
     },
     "metadata": {
      "needs_background": "light"
     },
     "output_type": "display_data"
    }
   ],
   "source": [
    "g = sns.countplot(y_under['Class'])\n",
    "g.set_xticklabels(['Not Fraud','Fraud'])\n",
    "plt.show()"
   ]
  },
  {
   "cell_type": "markdown",
   "id": "7418fc4a",
   "metadata": {},
   "source": [
    "Both majority and minority samples are now equal with 356 instances"
   ]
  },
  {
   "cell_type": "markdown",
   "id": "f073edfd",
   "metadata": {},
   "source": [
    "### Parameter search "
   ]
  },
  {
   "cell_type": "markdown",
   "id": "f7ab058e",
   "metadata": {},
   "source": [
    "Using the already created GridSearchCV, we will fit it with the new under sampled feature and target variables and find the best C values from the initial list above"
   ]
  },
  {
   "cell_type": "code",
   "execution_count": 131,
   "id": "53725345",
   "metadata": {},
   "outputs": [
    {
     "data": {
      "text/plain": [
       "RandomizedSearchCV(cv=10,\n",
       "                   estimator=XGBClassifier(base_score=None, booster=None,\n",
       "                                           colsample_bylevel=None,\n",
       "                                           colsample_bynode=None,\n",
       "                                           colsample_bytree=None,\n",
       "                                           enable_categorical=False,\n",
       "                                           eval_metric='mlogloss', gamma=None,\n",
       "                                           gpu_id=None, importance_type=None,\n",
       "                                           interaction_constraints=None,\n",
       "                                           learning_rate=None,\n",
       "                                           max_delta_step=None, max_depth=None,\n",
       "                                           min_child_weight=None, missing=...\n",
       "                                           scale_pos_weight=None,\n",
       "                                           subsample=None, tree_method=None,\n",
       "                                           validate_parameters=None,\n",
       "                                           verbosity=None),\n",
       "                   param_distributions={'colsample_bytree': [0.1, 0.25, 0.3,\n",
       "                                                             0.4, 0.55, 0.6,\n",
       "                                                             0.75, 0.8, 0.9],\n",
       "                                        'learning_rate': [0.05, 0.1, 0.3, 0.5],\n",
       "                                        'max_depth': range(3, 10),\n",
       "                                        'min_child_weight': [5, 6, 7, 8, 9],\n",
       "                                        'n_estimators': range(100, 1500, 100),\n",
       "                                        'subsample': [0.1, 0.2, 0.3, 0.4, 0.5,\n",
       "                                                      0.6, 0.7, 0.8, 0.9]},\n",
       "                   scoring='accuracy')"
      ]
     },
     "execution_count": 131,
     "metadata": {},
     "output_type": "execute_result"
    }
   ],
   "source": [
    "rnd_search.fit(x_under, y_under)"
   ]
  },
  {
   "cell_type": "code",
   "execution_count": 132,
   "id": "9a30cb7c",
   "metadata": {},
   "outputs": [
    {
     "name": "stdout",
     "output_type": "stream",
     "text": [
      "{'subsample': 0.5, 'n_estimators': 1300, 'min_child_weight': 8, 'max_depth': 5, 'learning_rate': 0.05, 'colsample_bytree': 0.4}\n"
     ]
    }
   ],
   "source": [
    "print(rnd_search.best_params_)"
   ]
  },
  {
   "cell_type": "markdown",
   "id": "d4f8a830",
   "metadata": {},
   "source": [
    "### Fitting the model"
   ]
  },
  {
   "cell_type": "code",
   "execution_count": 134,
   "id": "57cac49b",
   "metadata": {},
   "outputs": [
    {
     "name": "stdout",
     "output_type": "stream",
     "text": [
      "[11:35:41] WARNING: D:\\bld\\xgboost-split_1637426510059\\work\\src\\learner.cc:1115: Starting in XGBoost 1.3.0, the default evaluation metric used with the objective 'binary:logistic' was changed from 'error' to 'logloss'. Explicitly set eval_metric if you'd like to restore the old behavior.\n"
     ]
    }
   ],
   "source": [
    "classifier2 = xgboost.XGBClassifier(subsample = 0.5, n_estimators = 1300, min_child_weight = 8, max_depth = 5, learning_rate = 0.05, colsample_bytree = 0.4)\n",
    "model2 = classifier2.fit(x_under, y_under)"
   ]
  },
  {
   "cell_type": "markdown",
   "id": "18b02fc2",
   "metadata": {},
   "source": [
    "## Evaluation"
   ]
  },
  {
   "cell_type": "code",
   "execution_count": 135,
   "id": "59b2ad27",
   "metadata": {},
   "outputs": [],
   "source": [
    "from sklearn.metrics import accuracy_score\n",
    "from sklearn.metrics import plot_roc_curve, plot_precision_recall_curve, roc_curve"
   ]
  },
  {
   "cell_type": "code",
   "execution_count": 136,
   "id": "73331632",
   "metadata": {},
   "outputs": [
    {
     "name": "stdout",
     "output_type": "stream",
     "text": [
      "Accuracy Score:  0.9603361305197617\n"
     ]
    }
   ],
   "source": [
    "prediction2 = model2.predict(x_test)\n",
    "print ('Accuracy Score: ', accuracy_score(y_test, prediction2))"
   ]
  },
  {
   "cell_type": "markdown",
   "id": "4966ff6d",
   "metadata": {},
   "source": [
    "### Confusion Matrix"
   ]
  },
  {
   "cell_type": "code",
   "execution_count": 137,
   "id": "30129177",
   "metadata": {},
   "outputs": [
    {
     "data": {
      "text/plain": [
       "array([[81927,  3380],\n",
       "       [    9,   127]], dtype=int64)"
      ]
     },
     "execution_count": 137,
     "metadata": {},
     "output_type": "execute_result"
    }
   ],
   "source": [
    "confusion_matrix(y_test, prediction2)"
   ]
  },
  {
   "cell_type": "code",
   "execution_count": 138,
   "id": "ec927ce8",
   "metadata": {},
   "outputs": [
    {
     "data": {
      "text/plain": [
       "<sklearn.metrics._plot.confusion_matrix.ConfusionMatrixDisplay at 0x1a491a6b6d0>"
      ]
     },
     "execution_count": 138,
     "metadata": {},
     "output_type": "execute_result"
    },
    {
     "data": {
      "image/png": "[encoded data removed]",
      "text/plain": [
       "<Figure size 432x288 with 2 Axes>"
      ]
     },
     "metadata": {
      "needs_background": "light"
     },
     "output_type": "display_data"
    }
   ],
   "source": [
    "plot_confusion_matrix(model2, x_test, y_test, cmap = 'Blues', display_labels = ['Normal', 'Fraud'])"
   ]
  },
  {
   "cell_type": "markdown",
   "id": "8a2b5391",
   "metadata": {},
   "source": [
    "### Classification Report"
   ]
  },
  {
   "cell_type": "code",
   "execution_count": 139,
   "id": "2448a832",
   "metadata": {},
   "outputs": [
    {
     "name": "stdout",
     "output_type": "stream",
     "text": [
      "              precision    recall  f1-score   support\n",
      "\n",
      "           0     0.9999    0.9604    0.9797     85307\n",
      "           1     0.0362    0.9338    0.0697       136\n",
      "\n",
      "    accuracy                         0.9603     85443\n",
      "   macro avg     0.5181    0.9471    0.5247     85443\n",
      "weighted avg     0.9984    0.9603    0.9783     85443\n",
      "\n"
     ]
    }
   ],
   "source": [
    "print(classification_report(y_test, prediction2, digits = 4))"
   ]
  },
  {
   "cell_type": "markdown",
   "id": "7a9bca6e",
   "metadata": {},
   "source": [
    "### Precision-Recall Curve"
   ]
  },
  {
   "cell_type": "code",
   "execution_count": 140,
   "id": "d52d229a",
   "metadata": {},
   "outputs": [],
   "source": [
    "precision, recall, thresholds = precision_recall_curve(y_test, prediction2)"
   ]
  },
  {
   "cell_type": "code",
   "execution_count": 141,
   "id": "d1a29a76",
   "metadata": {},
   "outputs": [
    {
     "data": {
      "image/png": "[encoded data removed]",
      "text/plain": [
       "<Figure size 432x288 with 1 Axes>"
      ]
     },
     "metadata": {
      "needs_background": "light"
     },
     "output_type": "display_data"
    }
   ],
   "source": [
    "plot_precision_recall_curve(model2, x_test, y_test, name = '')\n",
    "plt.show()"
   ]
  },
  {
   "cell_type": "markdown",
   "id": "b4740b16",
   "metadata": {},
   "source": [
    "### Reciever Operating Characteristic Curve (ROC)"
   ]
  },
  {
   "cell_type": "code",
   "execution_count": 142,
   "id": "667059a6",
   "metadata": {},
   "outputs": [
    {
     "data": {
      "image/png": "[encoded data removed]",
      "text/plain": [
       "<Figure size 432x288 with 1 Axes>"
      ]
     },
     "metadata": {
      "needs_background": "light"
     },
     "output_type": "display_data"
    }
   ],
   "source": [
    "plot_roc_curve(model2, x_test, y_test, name = '')\n",
    "plt.show()"
   ]
  },
  {
   "cell_type": "markdown",
   "id": "42163f21",
   "metadata": {},
   "source": [
    "# 3. XGBoost with Random Over Sampling"
   ]
  },
  {
   "cell_type": "code",
   "execution_count": 143,
   "id": "c8b3bca9",
   "metadata": {},
   "outputs": [],
   "source": [
    "from imblearn.over_sampling import RandomOverSampler"
   ]
  },
  {
   "cell_type": "code",
   "execution_count": 144,
   "id": "f646d316",
   "metadata": {},
   "outputs": [],
   "source": [
    "ros = RandomOverSampler(random_state = 0)\n",
    "x_over, y_over = ros.fit_resample(x_train,y_train)"
   ]
  },
  {
   "cell_type": "code",
   "execution_count": 145,
   "id": "ed516b48",
   "metadata": {},
   "outputs": [
    {
     "data": {
      "text/plain": [
       "(398016, 30)"
      ]
     },
     "execution_count": 145,
     "metadata": {},
     "output_type": "execute_result"
    }
   ],
   "source": [
    "x_over.shape"
   ]
  },
  {
   "cell_type": "code",
   "execution_count": 146,
   "id": "99a8ad03",
   "metadata": {},
   "outputs": [
    {
     "data": {
      "text/plain": [
       "(398016, 1)"
      ]
     },
     "execution_count": 146,
     "metadata": {},
     "output_type": "execute_result"
    }
   ],
   "source": [
    "y_over.shape"
   ]
  },
  {
   "cell_type": "code",
   "execution_count": 147,
   "id": "3c248806",
   "metadata": {},
   "outputs": [
    {
     "data": {
      "text/plain": [
       "0    199008\n",
       "1    199008\n",
       "Name: Class, dtype: int64"
      ]
     },
     "execution_count": 147,
     "metadata": {},
     "output_type": "execute_result"
    }
   ],
   "source": [
    "y_over.Class.value_counts()"
   ]
  },
  {
   "cell_type": "code",
   "execution_count": 148,
   "id": "6805c234",
   "metadata": {},
   "outputs": [
    {
     "data": {
      "text/plain": [
       "0    199008\n",
       "1       356\n",
       "Name: Class, dtype: int64"
      ]
     },
     "execution_count": 148,
     "metadata": {},
     "output_type": "execute_result"
    }
   ],
   "source": [
    "y_train.Class.value_counts()"
   ]
  },
  {
   "cell_type": "code",
   "execution_count": 149,
   "id": "e3fedbd1",
   "metadata": {},
   "outputs": [
    {
     "data": {
      "image/png": "[encoded data removed]",
      "text/plain": [
       "<Figure size 432x288 with 1 Axes>"
      ]
     },
     "metadata": {
      "needs_background": "light"
     },
     "output_type": "display_data"
    }
   ],
   "source": [
    "g = sns.countplot(y_over['Class'])\n",
    "g.set_xticklabels(['Not Fraud','Fraud'])\n",
    "plt.show()"
   ]
  },
  {
   "cell_type": "markdown",
   "id": "e3f2344a",
   "metadata": {},
   "source": [
    "### Parameter Search"
   ]
  },
  {
   "cell_type": "code",
   "execution_count": 152,
   "id": "355ddfa9",
   "metadata": {},
   "outputs": [
    {
     "data": {
      "text/plain": [
       "RandomizedSearchCV(cv=10,\n",
       "                   estimator=XGBClassifier(base_score=None, booster=None,\n",
       "                                           colsample_bylevel=None,\n",
       "                                           colsample_bynode=None,\n",
       "                                           colsample_bytree=None,\n",
       "                                           enable_categorical=False,\n",
       "                                           eval_metric='mlogloss', gamma=None,\n",
       "                                           gpu_id=None, importance_type=None,\n",
       "                                           interaction_constraints=None,\n",
       "                                           learning_rate=None,\n",
       "                                           max_delta_step=None, max_depth=None,\n",
       "                                           min_child_weight=None, missing=...\n",
       "                                           scale_pos_weight=None,\n",
       "                                           subsample=None, tree_method=None,\n",
       "                                           validate_parameters=None,\n",
       "                                           verbosity=None),\n",
       "                   param_distributions={'colsample_bytree': [0.1, 0.25, 0.3,\n",
       "                                                             0.4, 0.55, 0.6,\n",
       "                                                             0.75, 0.8, 0.9],\n",
       "                                        'learning_rate': [0.05, 0.1, 0.3, 0.5],\n",
       "                                        'max_depth': range(3, 10),\n",
       "                                        'min_child_weight': [5, 6, 7, 8, 9],\n",
       "                                        'n_estimators': range(100, 1500, 100),\n",
       "                                        'subsample': [0.1, 0.2, 0.3, 0.4, 0.5,\n",
       "                                                      0.6, 0.7, 0.8, 0.9]},\n",
       "                   scoring='accuracy')"
      ]
     },
     "execution_count": 152,
     "metadata": {},
     "output_type": "execute_result"
    }
   ],
   "source": [
    "rnd_search.fit(x_over, y_over)"
   ]
  },
  {
   "cell_type": "code",
   "execution_count": 153,
   "id": "5b86f397",
   "metadata": {},
   "outputs": [
    {
     "name": "stdout",
     "output_type": "stream",
     "text": [
      "{'subsample': 0.7, 'n_estimators': 1200, 'min_child_weight': 5, 'max_depth': 6, 'learning_rate': 0.3, 'colsample_bytree': 0.1}\n"
     ]
    }
   ],
   "source": [
    "print(rnd_search.best_params_)"
   ]
  },
  {
   "cell_type": "markdown",
   "id": "665eb030",
   "metadata": {},
   "source": [
    "### Fitting the model"
   ]
  },
  {
   "cell_type": "code",
   "execution_count": 154,
   "id": "92da68d4",
   "metadata": {},
   "outputs": [
    {
     "name": "stdout",
     "output_type": "stream",
     "text": [
      "[22:52:00] WARNING: D:\\bld\\xgboost-split_1637426510059\\work\\src\\learner.cc:1115: Starting in XGBoost 1.3.0, the default evaluation metric used with the objective 'binary:logistic' was changed from 'error' to 'logloss'. Explicitly set eval_metric if you'd like to restore the old behavior.\n"
     ]
    }
   ],
   "source": [
    "classifier3 = xgboost.XGBClassifier(subsample =  0.7, n_estimators =  1200, min_child_weight = 5, max_depth = 6, learning_rate =  0.3, colsample_bytree = 0.1)\n",
    "model3 = classifier3.fit(x_over, y_over)"
   ]
  },
  {
   "cell_type": "markdown",
   "id": "2901d611",
   "metadata": {},
   "source": [
    "### Evaluation"
   ]
  },
  {
   "cell_type": "code",
   "execution_count": 155,
   "id": "7fad91e4",
   "metadata": {},
   "outputs": [
    {
     "name": "stdout",
     "output_type": "stream",
     "text": [
      "Accuracy Score:  0.9996254813150287\n"
     ]
    }
   ],
   "source": [
    "prediction3 = model3.predict(x_test)\n",
    "print ('Accuracy Score: ', accuracy_score(y_test, prediction3))"
   ]
  },
  {
   "cell_type": "markdown",
   "id": "13e48813",
   "metadata": {},
   "source": [
    "### Confusion Matrix "
   ]
  },
  {
   "cell_type": "code",
   "execution_count": 156,
   "id": "cae5296e",
   "metadata": {},
   "outputs": [
    {
     "data": {
      "text/plain": [
       "array([[85295,    12],\n",
       "       [   20,   116]], dtype=int64)"
      ]
     },
     "execution_count": 156,
     "metadata": {},
     "output_type": "execute_result"
    }
   ],
   "source": [
    "confusion_matrix(y_test, prediction3)"
   ]
  },
  {
   "cell_type": "code",
   "execution_count": 157,
   "id": "44f470ef",
   "metadata": {},
   "outputs": [
    {
     "data": {
      "text/plain": [
       "<sklearn.metrics._plot.confusion_matrix.ConfusionMatrixDisplay at 0x1a489b5fdf0>"
      ]
     },
     "execution_count": 157,
     "metadata": {},
     "output_type": "execute_result"
    },
    {
     "data": {
      "image/png": "[encoded data removed]",
      "text/plain": [
       "<Figure size 432x288 with 2 Axes>"
      ]
     },
     "metadata": {
      "needs_background": "light"
     },
     "output_type": "display_data"
    }
   ],
   "source": [
    "plot_confusion_matrix(model3, x_test, y_test, cmap = 'Blues', display_labels = ['Normal', 'Fraud'])"
   ]
  },
  {
   "cell_type": "markdown",
   "id": "be86a331",
   "metadata": {},
   "source": [
    "### Classification report"
   ]
  },
  {
   "cell_type": "code",
   "execution_count": 158,
   "id": "17804810",
   "metadata": {},
   "outputs": [
    {
     "name": "stdout",
     "output_type": "stream",
     "text": [
      "              precision    recall  f1-score   support\n",
      "\n",
      "           0     0.9998    0.9999    0.9998     85307\n",
      "           1     0.9062    0.8529    0.8788       136\n",
      "\n",
      "    accuracy                         0.9996     85443\n",
      "   macro avg     0.9530    0.9264    0.9393     85443\n",
      "weighted avg     0.9996    0.9996    0.9996     85443\n",
      "\n"
     ]
    }
   ],
   "source": [
    "print(classification_report(y_test, prediction3, digits = 4))"
   ]
  },
  {
   "cell_type": "markdown",
   "id": "c2f6f3ff",
   "metadata": {},
   "source": [
    "### Precision-Recall Curve"
   ]
  },
  {
   "cell_type": "code",
   "execution_count": 159,
   "id": "389678bd",
   "metadata": {},
   "outputs": [],
   "source": [
    "precision, recall, thresholds = precision_recall_curve(y_test, prediction3)"
   ]
  },
  {
   "cell_type": "code",
   "execution_count": 160,
   "id": "6f629ca6",
   "metadata": {},
   "outputs": [
    {
     "data": {
      "image/png": "[encoded data removed]",
      "text/plain": [
       "<Figure size 432x288 with 1 Axes>"
      ]
     },
     "metadata": {
      "needs_background": "light"
     },
     "output_type": "display_data"
    }
   ],
   "source": [
    "plot_precision_recall_curve(model3, x_test, y_test, name = '')\n",
    "plt.show()"
   ]
  },
  {
   "cell_type": "markdown",
   "id": "ed3d230c",
   "metadata": {},
   "source": [
    "### Reciever Operating Characteristic Curve (ROC)"
   ]
  },
  {
   "cell_type": "code",
   "execution_count": 161,
   "id": "4989322f",
   "metadata": {},
   "outputs": [
    {
     "data": {
      "image/png": "[encoded data removed]",
      "text/plain": [
       "<Figure size 432x288 with 1 Axes>"
      ]
     },
     "metadata": {
      "needs_background": "light"
     },
     "output_type": "display_data"
    }
   ],
   "source": [
    "plot_roc_curve(model3, x_test, y_test, name = '')\n",
    "plt.show()"
   ]
  },
  {
   "cell_type": "markdown",
   "id": "4558de90",
   "metadata": {},
   "source": [
    "# 4. Linear Regression with  Synthetic Minority Oversampling Technique         SMOTE"
   ]
  },
  {
   "cell_type": "code",
   "execution_count": 110,
   "id": "4e842e01",
   "metadata": {},
   "outputs": [],
   "source": [
    "from imblearn.over_sampling import SMOTE "
   ]
  },
  {
   "cell_type": "code",
   "execution_count": 111,
   "id": "701c7c1b",
   "metadata": {},
   "outputs": [
    {
     "name": "stdout",
     "output_type": "stream",
     "text": [
      "Original dataset shape for y  \n",
      " 0    284315\n",
      "1       492\n",
      "Name: Class, dtype: int64\n",
      "Resample dataset shape for y \n",
      " 0    199008\n",
      "1    199008\n",
      "Name: Class, dtype: int64\n"
     ]
    }
   ],
   "source": [
    "smt = SMOTE(random_state = 0)\n",
    "\n",
    "# fit predictor and target variable\n",
    "x_train_SMOTE, y_train_SMOTE = smt.fit_resample(x_train, y_train)\n",
    "print('Original dataset shape for y  \\n', y.Class.value_counts())\n",
    "print('Resample dataset shape for y \\n', y_train_SMOTE.Class.value_counts())"
   ]
  },
  {
   "cell_type": "code",
   "execution_count": 112,
   "id": "6f201690",
   "metadata": {},
   "outputs": [
    {
     "data": {
      "image/png": "[encoded data removed]",
      "text/plain": [
       "<Figure size 432x288 with 1 Axes>"
      ]
     },
     "metadata": {
      "needs_background": "light"
     },
     "output_type": "display_data"
    }
   ],
   "source": [
    "g = sns.countplot(y_train_SMOTE['Class'])\n",
    "g.set_xticklabels(['Not Fraud','Fraud'])\n",
    "plt.show()"
   ]
  },
  {
   "cell_type": "markdown",
   "id": "eff58aef",
   "metadata": {},
   "source": [
    "### Parameter search"
   ]
  },
  {
   "cell_type": "code",
   "execution_count": 75,
   "id": "3b614569",
   "metadata": {},
   "outputs": [
    {
     "data": {
      "text/plain": [
       "RandomizedSearchCV(cv=10,\n",
       "                   estimator=XGBClassifier(base_score=None, booster=None,\n",
       "                                           colsample_bylevel=None,\n",
       "                                           colsample_bynode=None,\n",
       "                                           colsample_bytree=None,\n",
       "                                           enable_categorical=False,\n",
       "                                           eval_metric='mlogloss', gamma=None,\n",
       "                                           gpu_id=None, importance_type=None,\n",
       "                                           interaction_constraints=None,\n",
       "                                           learning_rate=None,\n",
       "                                           max_delta_step=None, max_depth=None,\n",
       "                                           min_child_weight=None, missing=...\n",
       "                                           scale_pos_weight=None,\n",
       "                                           subsample=None, tree_method=None,\n",
       "                                           validate_parameters=None,\n",
       "                                           verbosity=None),\n",
       "                   param_distributions={'colsample_bytree': [0.1, 0.25, 0.3,\n",
       "                                                             0.4, 0.55, 0.6,\n",
       "                                                             0.75, 0.8, 0.9],\n",
       "                                        'learning_rate': [0.05, 0.1, 0.3, 0.5],\n",
       "                                        'max_depth': range(3, 10),\n",
       "                                        'min_child_weight': [5, 6, 7, 8, 9],\n",
       "                                        'n_estimators': range(100, 1500, 100),\n",
       "                                        'subsample': [0.1, 0.2, 0.3, 0.4, 0.5,\n",
       "                                                      0.6, 0.7, 0.8, 0.9]},\n",
       "                   scoring='accuracy')"
      ]
     },
     "execution_count": 75,
     "metadata": {},
     "output_type": "execute_result"
    }
   ],
   "source": [
    "rnd_search.fit(x_train_SMOTE, y_train_SMOTE)"
   ]
  },
  {
   "cell_type": "code",
   "execution_count": 76,
   "id": "c94aa99d",
   "metadata": {},
   "outputs": [
    {
     "name": "stdout",
     "output_type": "stream",
     "text": [
      "{'subsample': 0.9, 'n_estimators': 1300, 'min_child_weight': 6, 'max_depth': 7, 'learning_rate': 0.05, 'colsample_bytree': 0.25}\n"
     ]
    }
   ],
   "source": [
    "print(rnd_search.best_params_)"
   ]
  },
  {
   "cell_type": "code",
   "execution_count": 113,
   "id": "c9b32660",
   "metadata": {},
   "outputs": [
    {
     "name": "stdout",
     "output_type": "stream",
     "text": [
      "[12:56:57] WARNING: D:\\bld\\xgboost-split_1637426510059\\work\\src\\learner.cc:1115: Starting in XGBoost 1.3.0, the default evaluation metric used with the objective 'binary:logistic' was changed from 'error' to 'logloss'. Explicitly set eval_metric if you'd like to restore the old behavior.\n"
     ]
    }
   ],
   "source": [
    "classifier4 = xgboost.XGBClassifier(subsample =  0.9, n_estimators = 1300, min_child_weight = 6, max_depth =  7, learning_rate =  0.05, colsample_bytree = 0.25)\n",
    "model4 = classifier4.fit(x_train_SMOTE, y_train_SMOTE)"
   ]
  },
  {
   "cell_type": "markdown",
   "id": "73bf791f",
   "metadata": {},
   "source": [
    "### Evaluation"
   ]
  },
  {
   "cell_type": "code",
   "execution_count": 114,
   "id": "916d9401",
   "metadata": {},
   "outputs": [
    {
     "name": "stdout",
     "output_type": "stream",
     "text": [
      "Accuracy Score:  0.9994616293903538\n"
     ]
    }
   ],
   "source": [
    "prediction4 = model4.predict(x_test)\n",
    "print ('Accuracy Score: ', accuracy_score(y_test, prediction4))"
   ]
  },
  {
   "cell_type": "markdown",
   "id": "6cd7790b",
   "metadata": {},
   "source": [
    "### Confusion Matrix"
   ]
  },
  {
   "cell_type": "code",
   "execution_count": 115,
   "id": "01bdc6cd",
   "metadata": {},
   "outputs": [],
   "source": [
    "from sklearn.metrics import plot_confusion_matrix, confusion_matrix"
   ]
  },
  {
   "cell_type": "code",
   "execution_count": 116,
   "id": "afebafdd",
   "metadata": {},
   "outputs": [
    {
     "data": {
      "text/plain": [
       "array([[85277,    30],\n",
       "       [   16,   120]], dtype=int64)"
      ]
     },
     "execution_count": 116,
     "metadata": {},
     "output_type": "execute_result"
    }
   ],
   "source": [
    "confusion_matrix(y_test, prediction4)"
   ]
  },
  {
   "cell_type": "code",
   "execution_count": 117,
   "id": "9f7e49d2",
   "metadata": {},
   "outputs": [
    {
     "data": {
      "text/plain": [
       "<sklearn.metrics._plot.confusion_matrix.ConfusionMatrixDisplay at 0x1bdc6921df0>"
      ]
     },
     "execution_count": 117,
     "metadata": {},
     "output_type": "execute_result"
    },
    {
     "data": {
      "image/png": "[encoded data removed]",
      "text/plain": [
       "<Figure size 432x288 with 2 Axes>"
      ]
     },
     "metadata": {
      "needs_background": "light"
     },
     "output_type": "display_data"
    }
   ],
   "source": [
    "plot_confusion_matrix(model4, x_test, y_test, cmap = 'Blues', display_labels = ['Normal', 'Fraud'])"
   ]
  },
  {
   "cell_type": "markdown",
   "id": "7259b758",
   "metadata": {},
   "source": [
    "### Classification Report"
   ]
  },
  {
   "cell_type": "code",
   "execution_count": 79,
   "id": "3703fed7",
   "metadata": {},
   "outputs": [
    {
     "name": "stdout",
     "output_type": "stream",
     "text": [
      "              precision    recall  f1-score   support\n",
      "\n",
      "           0     0.9998    0.9996    0.9997     85307\n",
      "           1     0.8000    0.8824    0.8392       136\n",
      "\n",
      "    accuracy                         0.9995     85443\n",
      "   macro avg     0.8999    0.9410    0.9194     85443\n",
      "weighted avg     0.9995    0.9995    0.9995     85443\n",
      "\n"
     ]
    }
   ],
   "source": [
    "print(classification_report(y_test, prediction4, digits = 4))"
   ]
  },
  {
   "cell_type": "markdown",
   "id": "bae6d951",
   "metadata": {},
   "source": [
    "### Precision-Recall Curve"
   ]
  },
  {
   "cell_type": "code",
   "execution_count": 80,
   "id": "6a6b7c08",
   "metadata": {},
   "outputs": [],
   "source": [
    "precision, recall, thresholds = precision_recall_curve(y_test, prediction4)"
   ]
  },
  {
   "cell_type": "code",
   "execution_count": 81,
   "id": "fd140dce",
   "metadata": {},
   "outputs": [
    {
     "data": {
      "image/png": "[encoded data removed]",
      "text/plain": [
       "<Figure size 432x288 with 1 Axes>"
      ]
     },
     "metadata": {
      "needs_background": "light"
     },
     "output_type": "display_data"
    }
   ],
   "source": [
    "plot_precision_recall_curve(model4, x_test, y_test, name = '')\n",
    "plt.show()"
   ]
  },
  {
   "cell_type": "markdown",
   "id": "db1bf631",
   "metadata": {},
   "source": [
    "### Reciever Operating Characteristic Curve (ROC)"
   ]
  },
  {
   "cell_type": "code",
   "execution_count": 82,
   "id": "ff86daca",
   "metadata": {},
   "outputs": [
    {
     "data": {
      "image/png": "[encoded data removed]",
      "text/plain": [
       "<Figure size 432x288 with 1 Axes>"
      ]
     },
     "metadata": {
      "needs_background": "light"
     },
     "output_type": "display_data"
    }
   ],
   "source": [
    "plot_roc_curve(model4, x_test, y_test, name = '')\n",
    "plt.show()"
   ]
  },
  {
   "cell_type": "markdown",
   "id": "c6649afd",
   "metadata": {},
   "source": [
    "# 5. Linear Regression Tomek links removal "
   ]
  },
  {
   "cell_type": "code",
   "execution_count": 51,
   "id": "de9782d0",
   "metadata": {},
   "outputs": [],
   "source": [
    "# import library\n",
    "from imblearn.under_sampling import TomekLinks"
   ]
  },
  {
   "cell_type": "code",
   "execution_count": 52,
   "id": "5c3df7f3",
   "metadata": {},
   "outputs": [
    {
     "name": "stdout",
     "output_type": "stream",
     "text": [
      "Original dataset shape for y  \n",
      " 0    284315\n",
      "1       492\n",
      "Name: Class, dtype: int64\n",
      "Resample dataset shape for y \n",
      " 0    198995\n",
      "1       356\n",
      "Name: Class, dtype: int64\n"
     ]
    }
   ],
   "source": [
    "t1 = TomekLinks(sampling_strategy='majority')\n",
    "\n",
    "# fit predictor and target variable\n",
    "x_t1, y_t1 = t1.fit_resample(x_train, y_train)\n",
    "\n",
    "print('Original dataset shape for y  \\n', y.Class.value_counts())\n",
    "print('Resample dataset shape for y \\n', y_t1.Class.value_counts())"
   ]
  },
  {
   "cell_type": "code",
   "execution_count": 53,
   "id": "87d0643e",
   "metadata": {},
   "outputs": [
    {
     "data": {
      "image/png": "[encoded data removed]",
      "text/plain": [
       "<Figure size 432x288 with 1 Axes>"
      ]
     },
     "metadata": {
      "needs_background": "light"
     },
     "output_type": "display_data"
    }
   ],
   "source": [
    "g = sns.countplot(y_t1['Class'])\n",
    "g.set_xticklabels(['Not Fraud','Fraud'])\n",
    "plt.show()"
   ]
  },
  {
   "cell_type": "markdown",
   "id": "8e1212df",
   "metadata": {},
   "source": [
    "### Parameter Search"
   ]
  },
  {
   "cell_type": "code",
   "execution_count": 54,
   "id": "907d80a6",
   "metadata": {},
   "outputs": [
    {
     "data": {
      "text/plain": [
       "RandomizedSearchCV(cv=10,\n",
       "                   estimator=XGBClassifier(base_score=None, booster=None,\n",
       "                                           colsample_bylevel=None,\n",
       "                                           colsample_bynode=None,\n",
       "                                           colsample_bytree=None,\n",
       "                                           enable_categorical=False,\n",
       "                                           eval_metric='mlogloss', gamma=None,\n",
       "                                           gpu_id=None, importance_type=None,\n",
       "                                           interaction_constraints=None,\n",
       "                                           learning_rate=None,\n",
       "                                           max_delta_step=None, max_depth=None,\n",
       "                                           min_child_weight=None, missing=...\n",
       "                                           scale_pos_weight=None,\n",
       "                                           subsample=None, tree_method=None,\n",
       "                                           validate_parameters=None,\n",
       "                                           verbosity=None),\n",
       "                   param_distributions={'colsample_bytree': [0.1, 0.25, 0.3,\n",
       "                                                             0.4, 0.55, 0.6,\n",
       "                                                             0.75, 0.8, 0.9],\n",
       "                                        'learning_rate': [0.05, 0.1, 0.3, 0.5],\n",
       "                                        'max_depth': range(3, 10),\n",
       "                                        'min_child_weight': [5, 6, 7, 8, 9],\n",
       "                                        'n_estimators': range(100, 1500, 100),\n",
       "                                        'subsample': [0.1, 0.2, 0.3, 0.4, 0.5,\n",
       "                                                      0.6, 0.7, 0.8, 0.9]},\n",
       "                   scoring='accuracy')"
      ]
     },
     "execution_count": 54,
     "metadata": {},
     "output_type": "execute_result"
    }
   ],
   "source": [
    "rnd_search.fit(x_t1, y_t1)"
   ]
  },
  {
   "cell_type": "code",
   "execution_count": 55,
   "id": "6a9071f2",
   "metadata": {},
   "outputs": [
    {
     "name": "stdout",
     "output_type": "stream",
     "text": [
      "{'subsample': 0.6, 'n_estimators': 1000, 'min_child_weight': 5, 'max_depth': 9, 'learning_rate': 0.1, 'colsample_bytree': 0.6}\n"
     ]
    }
   ],
   "source": [
    "print(rnd_search.best_params_)"
   ]
  },
  {
   "cell_type": "markdown",
   "id": "5b877d02",
   "metadata": {},
   "source": [
    "### Fitting the model"
   ]
  },
  {
   "cell_type": "code",
   "execution_count": 57,
   "id": "bfa1c44c",
   "metadata": {},
   "outputs": [
    {
     "name": "stdout",
     "output_type": "stream",
     "text": [
      "[10:40:25] WARNING: D:\\bld\\xgboost-split_1637426510059\\work\\src\\learner.cc:1115: Starting in XGBoost 1.3.0, the default evaluation metric used with the objective 'binary:logistic' was changed from 'error' to 'logloss'. Explicitly set eval_metric if you'd like to restore the old behavior.\n"
     ]
    }
   ],
   "source": [
    "classifier5 = xgboost.XGBClassifier(subsample = 0.6, n_estimators = 1000, min_child_weight = 5, max_depth = 9, learning_rate = 0.1, colsample_bytree = 0.6)\n",
    "model5 = classifier5.fit(x_t1, y_t1)"
   ]
  },
  {
   "cell_type": "markdown",
   "id": "79149122",
   "metadata": {},
   "source": [
    "### Evaluation"
   ]
  },
  {
   "cell_type": "code",
   "execution_count": 60,
   "id": "0c2de8a1",
   "metadata": {},
   "outputs": [
    {
     "name": "stdout",
     "output_type": "stream",
     "text": [
      "Accuracy Score:  0.9996254813150287\n"
     ]
    }
   ],
   "source": [
    "prediction5 = model5.predict(x_test)\n",
    "print ('Accuracy Score: ', accuracy_score(y_test, prediction5))"
   ]
  },
  {
   "cell_type": "markdown",
   "id": "b51e066f",
   "metadata": {},
   "source": [
    "### Confusion Matrix"
   ]
  },
  {
   "cell_type": "code",
   "execution_count": 63,
   "id": "b3d02285",
   "metadata": {},
   "outputs": [
    {
     "data": {
      "text/plain": [
       "array([[85300,     7],\n",
       "       [   25,   111]], dtype=int64)"
      ]
     },
     "execution_count": 63,
     "metadata": {},
     "output_type": "execute_result"
    }
   ],
   "source": [
    "confusion_matrix(y_test, prediction5)"
   ]
  },
  {
   "cell_type": "code",
   "execution_count": 64,
   "id": "e716ce02",
   "metadata": {},
   "outputs": [
    {
     "data": {
      "text/plain": [
       "<sklearn.metrics._plot.confusion_matrix.ConfusionMatrixDisplay at 0x1bdc6525f40>"
      ]
     },
     "execution_count": 64,
     "metadata": {},
     "output_type": "execute_result"
    },
    {
     "data": {
      "image/png": "[encoded data removed]",
      "text/plain": [
       "<Figure size 432x288 with 2 Axes>"
      ]
     },
     "metadata": {
      "needs_background": "light"
     },
     "output_type": "display_data"
    }
   ],
   "source": [
    "plot_confusion_matrix(model5, x_test, y_test, cmap = 'Blues', display_labels = ['Normal', 'Fraud'])"
   ]
  },
  {
   "cell_type": "markdown",
   "id": "3aee4f0f",
   "metadata": {},
   "source": [
    "### Classification Report"
   ]
  },
  {
   "cell_type": "code",
   "execution_count": 67,
   "id": "e92da293",
   "metadata": {},
   "outputs": [
    {
     "name": "stdout",
     "output_type": "stream",
     "text": [
      "              precision    recall  f1-score   support\n",
      "\n",
      "           0     0.9997    0.9999    0.9998     85307\n",
      "           1     0.9407    0.8162    0.8740       136\n",
      "\n",
      "    accuracy                         0.9996     85443\n",
      "   macro avg     0.9702    0.9080    0.9369     85443\n",
      "weighted avg     0.9996    0.9996    0.9996     85443\n",
      "\n"
     ]
    }
   ],
   "source": [
    "print(classification_report(y_test, prediction5, digits = 4))"
   ]
  },
  {
   "cell_type": "markdown",
   "id": "02038412",
   "metadata": {},
   "source": [
    "### Precision Recall Curve"
   ]
  },
  {
   "cell_type": "code",
   "execution_count": 69,
   "id": "622fcfb8",
   "metadata": {},
   "outputs": [
    {
     "data": {
      "image/png": "[encoded data removed]",
      "text/plain": [
       "<Figure size 432x288 with 1 Axes>"
      ]
     },
     "metadata": {
      "needs_background": "light"
     },
     "output_type": "display_data"
    }
   ],
   "source": [
    "plot_precision_recall_curve(model5, x_test, y_test, name = '')\n",
    "plt.show()"
   ]
  },
  {
   "cell_type": "markdown",
   "id": "6f954c50",
   "metadata": {},
   "source": [
    "### Reciever Operating Characteristic Curve"
   ]
  },
  {
   "cell_type": "code",
   "execution_count": 70,
   "id": "8bab3879",
   "metadata": {},
   "outputs": [],
   "source": [
    "from sklearn.metrics import plot_roc_curve, plot_precision_recall_curve, roc_curve"
   ]
  },
  {
   "cell_type": "code",
   "execution_count": 71,
   "id": "3bbed4c3",
   "metadata": {},
   "outputs": [
    {
     "data": {
      "image/png": "[encoded data removed]",
      "text/plain": [
       "<Figure size 432x288 with 1 Axes>"
      ]
     },
     "metadata": {
      "needs_background": "light"
     },
     "output_type": "display_data"
    }
   ],
   "source": [
    "plot_roc_curve(model5, x_test, y_test, name = '')\n",
    "plt.show()\n",
    "#plt.plot([0,1], [0,1], c='b')"
   ]
  }
 ],
 "metadata": {
  "kernelspec": {
   "display_name": "Python 3",
   "language": "python",
   "name": "python3"
  },
  "language_info": {
   "codemirror_mode": {
    "name": "ipython",
    "version": 3
   },
   "file_extension": ".py",
   "mimetype": "text/x-python",
   "name": "python",
   "nbconvert_exporter": "python",
   "pygments_lexer": "ipython3",
   "version": "3.8.8"
  }
 },
 "nbformat": 4,
 "nbformat_minor": 5
}
